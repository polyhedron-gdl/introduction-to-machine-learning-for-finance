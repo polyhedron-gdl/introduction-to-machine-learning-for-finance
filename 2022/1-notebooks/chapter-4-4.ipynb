{
 "cells": [
  {
   "cell_type": "markdown",
   "id": "42d22089",
   "metadata": {},
   "source": [
    "# Model Evaluation and Hyperparameter Tuning"
   ]
  },
  {
   "cell_type": "markdown",
   "id": "00543760",
   "metadata": {},
   "source": [
    ">**TODO** \n",
    "> - Completare la parte sulle pipelines introducendo esempio di Lewinson\n",
    "> - Introdurre anche esempi sulla regressione logistica con credito"
   ]
  },
  {
   "cell_type": "markdown",
   "id": "255f71fb",
   "metadata": {},
   "source": [
    "In the previous chapters, you learned about the essential machine learning algorithms for classification and how to get our data into shape before we feed it into those algorithms. Now, it's time to learn about the best practices of building good machine learning models by fine-tuning the algorithms and evaluating the performance of the models. In this chapter, we will learn how to do the following:\n",
    "- Assess the performance of machine learning models\n",
    "- Diagnose the common problems of machine learning algorithms\n",
    "- Fine-tune machine learning models\n",
    "- Evaluate predictive models using different performance metrics"
   ]
  },
  {
   "cell_type": "markdown",
   "id": "8f915f83",
   "metadata": {},
   "source": [
    "## Combining Transformers and Estimators in a Pipeline"
   ]
  },
  {
   "cell_type": "markdown",
   "id": "cc3ce399",
   "metadata": {},
   "source": [
    "### Let's make a simple project from scratch ..."
   ]
  },
  {
   "cell_type": "markdown",
   "id": "e0ef1b60",
   "metadata": {},
   "source": [
    "In this chapter, we tackle a binary classification problem set in the financial industry. We\n",
    "work with a dataset contributed to the UCI Machine Learning Repository (a very popular\n",
    "data repository). The dataset used in this chapter was collected in a Taiwanese bank in October 2005. The\n",
    "study was motivated by the fact that—at that time—more and more banks were giving cash\n",
    "(and credit card) credit to willing customers. You can download the sample file [here](https://archive.ics.uci.edu/ml/datasets/default+of+credit+card+clients)"
   ]
  },
  {
   "cell_type": "code",
   "execution_count": 27,
   "id": "42fe5d62",
   "metadata": {},
   "outputs": [],
   "source": [
    "import pandas as pd\n",
    "\n",
    "if 'google.colab' in str(get_ipython()):\n",
    "    from google.colab import files\n",
    "    uploaded = files.upload()\n",
    "    path = ''\n",
    "else:\n",
    "    path = './data/'"
   ]
  },
  {
   "cell_type": "code",
   "execution_count": 29,
   "id": "08823f8f",
   "metadata": {},
   "outputs": [
    {
     "data": {
      "text/html": [
       "<div>\n",
       "<style scoped>\n",
       "    .dataframe tbody tr th:only-of-type {\n",
       "        vertical-align: middle;\n",
       "    }\n",
       "\n",
       "    .dataframe tbody tr th {\n",
       "        vertical-align: top;\n",
       "    }\n",
       "\n",
       "    .dataframe thead th {\n",
       "        text-align: right;\n",
       "    }\n",
       "</style>\n",
       "<table border=\"1\" class=\"dataframe\">\n",
       "  <thead>\n",
       "    <tr style=\"text-align: right;\">\n",
       "      <th></th>\n",
       "      <th>limit_bal</th>\n",
       "      <th>sex</th>\n",
       "      <th>education</th>\n",
       "      <th>marriage</th>\n",
       "      <th>age</th>\n",
       "      <th>payment_status_sep</th>\n",
       "      <th>payment_status_aug</th>\n",
       "      <th>payment_status_jul</th>\n",
       "      <th>payment_status_jun</th>\n",
       "      <th>payment_status_may</th>\n",
       "      <th>...</th>\n",
       "      <th>bill_statement_jun</th>\n",
       "      <th>bill_statement_may</th>\n",
       "      <th>bill_statement_apr</th>\n",
       "      <th>previous_payment_sep</th>\n",
       "      <th>previous_payment_aug</th>\n",
       "      <th>previous_payment_jul</th>\n",
       "      <th>previous_payment_jun</th>\n",
       "      <th>previous_payment_may</th>\n",
       "      <th>previous_payment_apr</th>\n",
       "      <th>default_payment_next_month</th>\n",
       "    </tr>\n",
       "  </thead>\n",
       "  <tbody>\n",
       "    <tr>\n",
       "      <th>0</th>\n",
       "      <td>20000</td>\n",
       "      <td>Female</td>\n",
       "      <td>University</td>\n",
       "      <td>Married</td>\n",
       "      <td>24.0</td>\n",
       "      <td>Payment delayed 2 months</td>\n",
       "      <td>Payment delayed 2 months</td>\n",
       "      <td>Payed duly</td>\n",
       "      <td>Payed duly</td>\n",
       "      <td>Unknown</td>\n",
       "      <td>...</td>\n",
       "      <td>0</td>\n",
       "      <td>0</td>\n",
       "      <td>0</td>\n",
       "      <td>0</td>\n",
       "      <td>689</td>\n",
       "      <td>0</td>\n",
       "      <td>0</td>\n",
       "      <td>0</td>\n",
       "      <td>0</td>\n",
       "      <td>1</td>\n",
       "    </tr>\n",
       "    <tr>\n",
       "      <th>1</th>\n",
       "      <td>120000</td>\n",
       "      <td>Female</td>\n",
       "      <td>University</td>\n",
       "      <td>Single</td>\n",
       "      <td>26.0</td>\n",
       "      <td>Payed duly</td>\n",
       "      <td>Payment delayed 2 months</td>\n",
       "      <td>Unknown</td>\n",
       "      <td>Unknown</td>\n",
       "      <td>Unknown</td>\n",
       "      <td>...</td>\n",
       "      <td>3272</td>\n",
       "      <td>3455</td>\n",
       "      <td>3261</td>\n",
       "      <td>0</td>\n",
       "      <td>1000</td>\n",
       "      <td>1000</td>\n",
       "      <td>1000</td>\n",
       "      <td>0</td>\n",
       "      <td>2000</td>\n",
       "      <td>1</td>\n",
       "    </tr>\n",
       "    <tr>\n",
       "      <th>2</th>\n",
       "      <td>90000</td>\n",
       "      <td>Female</td>\n",
       "      <td>University</td>\n",
       "      <td>Single</td>\n",
       "      <td>34.0</td>\n",
       "      <td>Unknown</td>\n",
       "      <td>Unknown</td>\n",
       "      <td>Unknown</td>\n",
       "      <td>Unknown</td>\n",
       "      <td>Unknown</td>\n",
       "      <td>...</td>\n",
       "      <td>14331</td>\n",
       "      <td>14948</td>\n",
       "      <td>15549</td>\n",
       "      <td>1518</td>\n",
       "      <td>1500</td>\n",
       "      <td>1000</td>\n",
       "      <td>1000</td>\n",
       "      <td>1000</td>\n",
       "      <td>5000</td>\n",
       "      <td>0</td>\n",
       "    </tr>\n",
       "    <tr>\n",
       "      <th>3</th>\n",
       "      <td>50000</td>\n",
       "      <td>Female</td>\n",
       "      <td>University</td>\n",
       "      <td>Married</td>\n",
       "      <td>37.0</td>\n",
       "      <td>Unknown</td>\n",
       "      <td>Unknown</td>\n",
       "      <td>Unknown</td>\n",
       "      <td>Unknown</td>\n",
       "      <td>Unknown</td>\n",
       "      <td>...</td>\n",
       "      <td>28314</td>\n",
       "      <td>28959</td>\n",
       "      <td>29547</td>\n",
       "      <td>2000</td>\n",
       "      <td>2019</td>\n",
       "      <td>1200</td>\n",
       "      <td>1100</td>\n",
       "      <td>1069</td>\n",
       "      <td>1000</td>\n",
       "      <td>0</td>\n",
       "    </tr>\n",
       "    <tr>\n",
       "      <th>4</th>\n",
       "      <td>50000</td>\n",
       "      <td>Male</td>\n",
       "      <td>University</td>\n",
       "      <td>Married</td>\n",
       "      <td>57.0</td>\n",
       "      <td>Payed duly</td>\n",
       "      <td>Unknown</td>\n",
       "      <td>Payed duly</td>\n",
       "      <td>Unknown</td>\n",
       "      <td>Unknown</td>\n",
       "      <td>...</td>\n",
       "      <td>20940</td>\n",
       "      <td>19146</td>\n",
       "      <td>19131</td>\n",
       "      <td>2000</td>\n",
       "      <td>36681</td>\n",
       "      <td>10000</td>\n",
       "      <td>9000</td>\n",
       "      <td>689</td>\n",
       "      <td>679</td>\n",
       "      <td>0</td>\n",
       "    </tr>\n",
       "  </tbody>\n",
       "</table>\n",
       "<p>5 rows × 24 columns</p>\n",
       "</div>"
      ],
      "text/plain": [
       "   limit_bal     sex   education marriage   age        payment_status_sep  \\\n",
       "0      20000  Female  University  Married  24.0  Payment delayed 2 months   \n",
       "1     120000  Female  University   Single  26.0                Payed duly   \n",
       "2      90000  Female  University   Single  34.0                   Unknown   \n",
       "3      50000  Female  University  Married  37.0                   Unknown   \n",
       "4      50000    Male  University  Married  57.0                Payed duly   \n",
       "\n",
       "         payment_status_aug payment_status_jul payment_status_jun  \\\n",
       "0  Payment delayed 2 months         Payed duly         Payed duly   \n",
       "1  Payment delayed 2 months            Unknown            Unknown   \n",
       "2                   Unknown            Unknown            Unknown   \n",
       "3                   Unknown            Unknown            Unknown   \n",
       "4                   Unknown         Payed duly            Unknown   \n",
       "\n",
       "  payment_status_may  ... bill_statement_jun  bill_statement_may  \\\n",
       "0            Unknown  ...                  0                   0   \n",
       "1            Unknown  ...               3272                3455   \n",
       "2            Unknown  ...              14331               14948   \n",
       "3            Unknown  ...              28314               28959   \n",
       "4            Unknown  ...              20940               19146   \n",
       "\n",
       "   bill_statement_apr  previous_payment_sep  previous_payment_aug  \\\n",
       "0                   0                     0                   689   \n",
       "1                3261                     0                  1000   \n",
       "2               15549                  1518                  1500   \n",
       "3               29547                  2000                  2019   \n",
       "4               19131                  2000                 36681   \n",
       "\n",
       "   previous_payment_jul  previous_payment_jun  previous_payment_may  \\\n",
       "0                     0                     0                     0   \n",
       "1                  1000                  1000                     0   \n",
       "2                  1000                  1000                  1000   \n",
       "3                  1200                  1100                  1069   \n",
       "4                 10000                  9000                   689   \n",
       "\n",
       "   previous_payment_apr  default_payment_next_month  \n",
       "0                     0                           1  \n",
       "1                  2000                           1  \n",
       "2                  5000                           0  \n",
       "3                  1000                           0  \n",
       "4                   679                           0  \n",
       "\n",
       "[5 rows x 24 columns]"
      ]
     },
     "execution_count": 29,
     "metadata": {},
     "output_type": "execute_result"
    }
   ],
   "source": [
    "column_dtypes = {'EDUCATION': 'category',\n",
    "'MARRIAGE': 'category',\n",
    "'SEX': 'category',\n",
    "'PAYMENT_STATUS_SEP': 'category',\n",
    "'PAYMENT_STATUS_AUG': 'category',\n",
    "'PAYMENT_STATUS_JUL': 'category',\n",
    "'PAYMENT_STATUS_JUN': 'category',\n",
    "'PAYMENT_STATUS_MAY': 'category',\n",
    "'PAYMENT_STATUS_APR': 'category'}\n",
    "\n",
    "df = pd.read_csv(path + 'credit_card_default.csv', index_col=0, na_values='', dtype=column_dtypes, sep=',')\n",
    "df.head()"
   ]
  },
  {
   "cell_type": "code",
   "execution_count": 32,
   "id": "90199a03",
   "metadata": {},
   "outputs": [],
   "source": [
    "X = df.copy()\n",
    "y = X.pop('default_payment_next_month')"
   ]
  },
  {
   "cell_type": "code",
   "execution_count": 33,
   "id": "d7e0cee2",
   "metadata": {},
   "outputs": [
    {
     "data": {
      "text/html": [
       "<div>\n",
       "<style scoped>\n",
       "    .dataframe tbody tr th:only-of-type {\n",
       "        vertical-align: middle;\n",
       "    }\n",
       "\n",
       "    .dataframe tbody tr th {\n",
       "        vertical-align: top;\n",
       "    }\n",
       "\n",
       "    .dataframe thead th {\n",
       "        text-align: right;\n",
       "    }\n",
       "</style>\n",
       "<table border=\"1\" class=\"dataframe\">\n",
       "  <thead>\n",
       "    <tr style=\"text-align: right;\">\n",
       "      <th></th>\n",
       "      <th>count</th>\n",
       "      <th>mean</th>\n",
       "      <th>std</th>\n",
       "      <th>min</th>\n",
       "      <th>25%</th>\n",
       "      <th>50%</th>\n",
       "      <th>75%</th>\n",
       "      <th>max</th>\n",
       "    </tr>\n",
       "  </thead>\n",
       "  <tbody>\n",
       "    <tr>\n",
       "      <th>limit_bal</th>\n",
       "      <td>30000.0</td>\n",
       "      <td>167484.32</td>\n",
       "      <td>129747.66</td>\n",
       "      <td>10000.0</td>\n",
       "      <td>50000.00</td>\n",
       "      <td>140000.0</td>\n",
       "      <td>240000.00</td>\n",
       "      <td>1000000.0</td>\n",
       "    </tr>\n",
       "    <tr>\n",
       "      <th>age</th>\n",
       "      <td>29850.0</td>\n",
       "      <td>35.49</td>\n",
       "      <td>9.22</td>\n",
       "      <td>21.0</td>\n",
       "      <td>28.00</td>\n",
       "      <td>34.0</td>\n",
       "      <td>41.00</td>\n",
       "      <td>79.0</td>\n",
       "    </tr>\n",
       "    <tr>\n",
       "      <th>bill_statement_sep</th>\n",
       "      <td>30000.0</td>\n",
       "      <td>51223.33</td>\n",
       "      <td>73635.86</td>\n",
       "      <td>-165580.0</td>\n",
       "      <td>3558.75</td>\n",
       "      <td>22381.5</td>\n",
       "      <td>67091.00</td>\n",
       "      <td>964511.0</td>\n",
       "    </tr>\n",
       "    <tr>\n",
       "      <th>bill_statement_aug</th>\n",
       "      <td>30000.0</td>\n",
       "      <td>49179.08</td>\n",
       "      <td>71173.77</td>\n",
       "      <td>-69777.0</td>\n",
       "      <td>2984.75</td>\n",
       "      <td>21200.0</td>\n",
       "      <td>64006.25</td>\n",
       "      <td>983931.0</td>\n",
       "    </tr>\n",
       "    <tr>\n",
       "      <th>bill_statement_jul</th>\n",
       "      <td>30000.0</td>\n",
       "      <td>47013.15</td>\n",
       "      <td>69349.39</td>\n",
       "      <td>-157264.0</td>\n",
       "      <td>2666.25</td>\n",
       "      <td>20088.5</td>\n",
       "      <td>60164.75</td>\n",
       "      <td>1664089.0</td>\n",
       "    </tr>\n",
       "    <tr>\n",
       "      <th>bill_statement_jun</th>\n",
       "      <td>30000.0</td>\n",
       "      <td>43262.95</td>\n",
       "      <td>64332.86</td>\n",
       "      <td>-170000.0</td>\n",
       "      <td>2326.75</td>\n",
       "      <td>19052.0</td>\n",
       "      <td>54506.00</td>\n",
       "      <td>891586.0</td>\n",
       "    </tr>\n",
       "    <tr>\n",
       "      <th>bill_statement_may</th>\n",
       "      <td>30000.0</td>\n",
       "      <td>40311.40</td>\n",
       "      <td>60797.16</td>\n",
       "      <td>-81334.0</td>\n",
       "      <td>1763.00</td>\n",
       "      <td>18104.5</td>\n",
       "      <td>50190.50</td>\n",
       "      <td>927171.0</td>\n",
       "    </tr>\n",
       "    <tr>\n",
       "      <th>bill_statement_apr</th>\n",
       "      <td>30000.0</td>\n",
       "      <td>38871.76</td>\n",
       "      <td>59554.11</td>\n",
       "      <td>-339603.0</td>\n",
       "      <td>1256.00</td>\n",
       "      <td>17071.0</td>\n",
       "      <td>49198.25</td>\n",
       "      <td>961664.0</td>\n",
       "    </tr>\n",
       "    <tr>\n",
       "      <th>previous_payment_sep</th>\n",
       "      <td>30000.0</td>\n",
       "      <td>5663.58</td>\n",
       "      <td>16563.28</td>\n",
       "      <td>0.0</td>\n",
       "      <td>1000.00</td>\n",
       "      <td>2100.0</td>\n",
       "      <td>5006.00</td>\n",
       "      <td>873552.0</td>\n",
       "    </tr>\n",
       "    <tr>\n",
       "      <th>previous_payment_aug</th>\n",
       "      <td>30000.0</td>\n",
       "      <td>5921.16</td>\n",
       "      <td>23040.87</td>\n",
       "      <td>0.0</td>\n",
       "      <td>833.00</td>\n",
       "      <td>2009.0</td>\n",
       "      <td>5000.00</td>\n",
       "      <td>1684259.0</td>\n",
       "    </tr>\n",
       "    <tr>\n",
       "      <th>previous_payment_jul</th>\n",
       "      <td>30000.0</td>\n",
       "      <td>5225.68</td>\n",
       "      <td>17606.96</td>\n",
       "      <td>0.0</td>\n",
       "      <td>390.00</td>\n",
       "      <td>1800.0</td>\n",
       "      <td>4505.00</td>\n",
       "      <td>896040.0</td>\n",
       "    </tr>\n",
       "    <tr>\n",
       "      <th>previous_payment_jun</th>\n",
       "      <td>30000.0</td>\n",
       "      <td>4826.08</td>\n",
       "      <td>15666.16</td>\n",
       "      <td>0.0</td>\n",
       "      <td>296.00</td>\n",
       "      <td>1500.0</td>\n",
       "      <td>4013.25</td>\n",
       "      <td>621000.0</td>\n",
       "    </tr>\n",
       "    <tr>\n",
       "      <th>previous_payment_may</th>\n",
       "      <td>30000.0</td>\n",
       "      <td>4799.39</td>\n",
       "      <td>15278.31</td>\n",
       "      <td>0.0</td>\n",
       "      <td>252.50</td>\n",
       "      <td>1500.0</td>\n",
       "      <td>4031.50</td>\n",
       "      <td>426529.0</td>\n",
       "    </tr>\n",
       "    <tr>\n",
       "      <th>previous_payment_apr</th>\n",
       "      <td>30000.0</td>\n",
       "      <td>5215.50</td>\n",
       "      <td>17777.47</td>\n",
       "      <td>0.0</td>\n",
       "      <td>117.75</td>\n",
       "      <td>1500.0</td>\n",
       "      <td>4000.00</td>\n",
       "      <td>528666.0</td>\n",
       "    </tr>\n",
       "    <tr>\n",
       "      <th>default_payment_next_month</th>\n",
       "      <td>30000.0</td>\n",
       "      <td>0.22</td>\n",
       "      <td>0.42</td>\n",
       "      <td>0.0</td>\n",
       "      <td>0.00</td>\n",
       "      <td>0.0</td>\n",
       "      <td>0.00</td>\n",
       "      <td>1.0</td>\n",
       "    </tr>\n",
       "  </tbody>\n",
       "</table>\n",
       "</div>"
      ],
      "text/plain": [
       "                              count       mean        std       min       25%  \\\n",
       "limit_bal                   30000.0  167484.32  129747.66   10000.0  50000.00   \n",
       "age                         29850.0      35.49       9.22      21.0     28.00   \n",
       "bill_statement_sep          30000.0   51223.33   73635.86 -165580.0   3558.75   \n",
       "bill_statement_aug          30000.0   49179.08   71173.77  -69777.0   2984.75   \n",
       "bill_statement_jul          30000.0   47013.15   69349.39 -157264.0   2666.25   \n",
       "bill_statement_jun          30000.0   43262.95   64332.86 -170000.0   2326.75   \n",
       "bill_statement_may          30000.0   40311.40   60797.16  -81334.0   1763.00   \n",
       "bill_statement_apr          30000.0   38871.76   59554.11 -339603.0   1256.00   \n",
       "previous_payment_sep        30000.0    5663.58   16563.28       0.0   1000.00   \n",
       "previous_payment_aug        30000.0    5921.16   23040.87       0.0    833.00   \n",
       "previous_payment_jul        30000.0    5225.68   17606.96       0.0    390.00   \n",
       "previous_payment_jun        30000.0    4826.08   15666.16       0.0    296.00   \n",
       "previous_payment_may        30000.0    4799.39   15278.31       0.0    252.50   \n",
       "previous_payment_apr        30000.0    5215.50   17777.47       0.0    117.75   \n",
       "default_payment_next_month  30000.0       0.22       0.42       0.0      0.00   \n",
       "\n",
       "                                 50%        75%        max  \n",
       "limit_bal                   140000.0  240000.00  1000000.0  \n",
       "age                             34.0      41.00       79.0  \n",
       "bill_statement_sep           22381.5   67091.00   964511.0  \n",
       "bill_statement_aug           21200.0   64006.25   983931.0  \n",
       "bill_statement_jul           20088.5   60164.75  1664089.0  \n",
       "bill_statement_jun           19052.0   54506.00   891586.0  \n",
       "bill_statement_may           18104.5   50190.50   927171.0  \n",
       "bill_statement_apr           17071.0   49198.25   961664.0  \n",
       "previous_payment_sep          2100.0    5006.00   873552.0  \n",
       "previous_payment_aug          2009.0    5000.00  1684259.0  \n",
       "previous_payment_jul          1800.0    4505.00   896040.0  \n",
       "previous_payment_jun          1500.0    4013.25   621000.0  \n",
       "previous_payment_may          1500.0    4031.50   426529.0  \n",
       "previous_payment_apr          1500.0    4000.00   528666.0  \n",
       "default_payment_next_month       0.0       0.00        1.0  "
      ]
     },
     "execution_count": 33,
     "metadata": {},
     "output_type": "execute_result"
    }
   ],
   "source": [
    "df.describe().transpose().round(2)"
   ]
  },
  {
   "cell_type": "code",
   "execution_count": 39,
   "id": "04034d43",
   "metadata": {},
   "outputs": [
    {
     "data": {
      "text/plain": [
       "<matplotlib.legend.Legend at 0x1f458138708>"
      ]
     },
     "execution_count": 39,
     "metadata": {},
     "output_type": "execute_result"
    },
    {
     "data": {
      "image/png": "[encoded data removed]",
      "text/plain": [
       "<Figure size 432x288 with 1 Axes>"
      ]
     },
     "metadata": {
      "needs_background": "light"
     },
     "output_type": "display_data"
    }
   ],
   "source": [
    "import warnings\n",
    "warnings.simplefilter('ignore')\n",
    "\n",
    "import matplotlib.pyplot as plt\n",
    "import seaborn as sns\n",
    "import numpy as np\n",
    "\n",
    "fig, ax = plt.subplots()\n",
    "sns.distplot(df.loc[df.sex=='Male', 'age'].dropna(),\n",
    "    hist=False, color='green',\n",
    "    kde_kws={\"shade\": True},\n",
    "    ax=ax, label='Male')\n",
    "sns.distplot(df.loc[df.sex=='Female', 'age'].dropna(),\n",
    "    hist=False, color='blue',\n",
    "    kde_kws={\"shade\": True},\n",
    "ax=ax, label='Female')\n",
    "ax.set_title('Distribution of age')\n",
    "ax.legend(title='Gender:')"
   ]
  },
  {
   "cell_type": "code",
   "execution_count": 40,
   "id": "ec2d536e",
   "metadata": {},
   "outputs": [
    {
     "data": {
      "text/plain": [
       "<matplotlib.legend.Legend at 0x1f459238a88>"
      ]
     },
     "execution_count": 40,
     "metadata": {},
     "output_type": "execute_result"
    },
    {
     "data": {
      "image/png": "[encoded data removed]",
      "text/plain": [
       "<Figure size 432x288 with 1 Axes>"
      ]
     },
     "metadata": {
      "needs_background": "light"
     },
     "output_type": "display_data"
    }
   ],
   "source": [
    "ax = df.groupby(\"education\")['default_payment_next_month'] \\\n",
    ".value_counts(normalize=True) \\\n",
    ".unstack() \\\n",
    ".plot(kind='barh', stacked='True')\n",
    "ax.set_title('Percentage of default per education level',\n",
    "fontsize=16)\n",
    "ax.legend(title='Default', bbox_to_anchor=(1,1))"
   ]
  },
  {
   "cell_type": "code",
   "execution_count": 43,
   "id": "a63d1b84",
   "metadata": {},
   "outputs": [],
   "source": [
    "from sklearn.model_selection import train_test_split\n",
    "\n",
    "X_train, X_test, y_train, y_test = train_test_split(X, y,test_size=0.2, random_state=42)"
   ]
  },
  {
   "cell_type": "code",
   "execution_count": 45,
   "id": "65cf2f40",
   "metadata": {},
   "outputs": [
    {
     "name": "stdout",
     "output_type": "stream",
     "text": [
      "<class 'pandas.core.frame.DataFrame'>\n",
      "Int64Index: 30000 entries, 0 to 29999\n",
      "Data columns (total 23 columns):\n",
      " #   Column                Non-Null Count  Dtype  \n",
      "---  ------                --------------  -----  \n",
      " 0   limit_bal             30000 non-null  int64  \n",
      " 1   sex                   29850 non-null  object \n",
      " 2   education             29850 non-null  object \n",
      " 3   marriage              29850 non-null  object \n",
      " 4   age                   29850 non-null  float64\n",
      " 5   payment_status_sep    30000 non-null  object \n",
      " 6   payment_status_aug    30000 non-null  object \n",
      " 7   payment_status_jul    30000 non-null  object \n",
      " 8   payment_status_jun    30000 non-null  object \n",
      " 9   payment_status_may    30000 non-null  object \n",
      " 10  payment_status_apr    30000 non-null  object \n",
      " 11  bill_statement_sep    30000 non-null  int64  \n",
      " 12  bill_statement_aug    30000 non-null  int64  \n",
      " 13  bill_statement_jul    30000 non-null  int64  \n",
      " 14  bill_statement_jun    30000 non-null  int64  \n",
      " 15  bill_statement_may    30000 non-null  int64  \n",
      " 16  bill_statement_apr    30000 non-null  int64  \n",
      " 17  previous_payment_sep  30000 non-null  int64  \n",
      " 18  previous_payment_aug  30000 non-null  int64  \n",
      " 19  previous_payment_jul  30000 non-null  int64  \n",
      " 20  previous_payment_jun  30000 non-null  int64  \n",
      " 21  previous_payment_may  30000 non-null  int64  \n",
      " 22  previous_payment_apr  30000 non-null  int64  \n",
      "dtypes: float64(1), int64(13), object(9)\n",
      "memory usage: 5.5+ MB\n"
     ]
    }
   ],
   "source": [
    "import missingno\n",
    "from sklearn.impute import SimpleImputer\n",
    "\n",
    "X.info()"
   ]
  },
  {
   "cell_type": "code",
   "execution_count": 46,
   "id": "80b8c828",
   "metadata": {},
   "outputs": [
    {
     "data": {
      "text/plain": [
       "<matplotlib.axes._subplots.AxesSubplot at 0x1f45b0c3648>"
      ]
     },
     "execution_count": 46,
     "metadata": {},
     "output_type": "execute_result"
    },
    {
     "data": {
      "image/png": "[encoded data removed]",
      "text/plain": [
       "<Figure size 1800x720 with 2 Axes>"
      ]
     },
     "metadata": {
      "needs_background": "light"
     },
     "output_type": "display_data"
    }
   ],
   "source": [
    "missingno.matrix(X)"
   ]
  },
  {
   "cell_type": "code",
   "execution_count": 47,
   "id": "fd7139e2",
   "metadata": {},
   "outputs": [],
   "source": [
    "NUM_FEATURES = ['age']\n",
    "CAT_FEATURES = ['sex', 'education', 'marriage']"
   ]
  },
  {
   "cell_type": "code",
   "execution_count": 48,
   "id": "10b0f4ff",
   "metadata": {},
   "outputs": [],
   "source": [
    "for col in NUM_FEATURES:\n",
    "    num_imputer = SimpleImputer(strategy='median')\n",
    "    num_imputer.fit(X_train[[col]])\n",
    "    X_train.loc[:, col] = num_imputer.transform(X_train[[col]])\n",
    "    X_test.loc[:, col] = num_imputer.transform(X_test[[col]])"
   ]
  },
  {
   "cell_type": "code",
   "execution_count": 49,
   "id": "1d4796b4",
   "metadata": {},
   "outputs": [],
   "source": [
    "for col in CAT_FEATURES:\n",
    "    cat_imputer = SimpleImputer(strategy='most_frequent')\n",
    "    cat_imputer.fit(X_train[[col]])\n",
    "    X_train.loc[:, col] = cat_imputer.transform(X_train[[col]])\n",
    "    X_test.loc[:, col] = cat_imputer.transform(X_test[[col]])"
   ]
  },
  {
   "cell_type": "code",
   "execution_count": 51,
   "id": "30a2b0a4",
   "metadata": {},
   "outputs": [
    {
     "name": "stdout",
     "output_type": "stream",
     "text": [
      "<class 'pandas.core.frame.DataFrame'>\n",
      "Int64Index: 24000 entries, 21753 to 23654\n",
      "Data columns (total 23 columns):\n",
      " #   Column                Non-Null Count  Dtype  \n",
      "---  ------                --------------  -----  \n",
      " 0   limit_bal             24000 non-null  int64  \n",
      " 1   sex                   24000 non-null  object \n",
      " 2   education             24000 non-null  object \n",
      " 3   marriage              24000 non-null  object \n",
      " 4   age                   24000 non-null  float64\n",
      " 5   payment_status_sep    24000 non-null  object \n",
      " 6   payment_status_aug    24000 non-null  object \n",
      " 7   payment_status_jul    24000 non-null  object \n",
      " 8   payment_status_jun    24000 non-null  object \n",
      " 9   payment_status_may    24000 non-null  object \n",
      " 10  payment_status_apr    24000 non-null  object \n",
      " 11  bill_statement_sep    24000 non-null  int64  \n",
      " 12  bill_statement_aug    24000 non-null  int64  \n",
      " 13  bill_statement_jul    24000 non-null  int64  \n",
      " 14  bill_statement_jun    24000 non-null  int64  \n",
      " 15  bill_statement_may    24000 non-null  int64  \n",
      " 16  bill_statement_apr    24000 non-null  int64  \n",
      " 17  previous_payment_sep  24000 non-null  int64  \n",
      " 18  previous_payment_aug  24000 non-null  int64  \n",
      " 19  previous_payment_jul  24000 non-null  int64  \n",
      " 20  previous_payment_jun  24000 non-null  int64  \n",
      " 21  previous_payment_may  24000 non-null  int64  \n",
      " 22  previous_payment_apr  24000 non-null  int64  \n",
      "dtypes: float64(1), int64(13), object(9)\n",
      "memory usage: 4.4+ MB\n"
     ]
    }
   ],
   "source": [
    "X_train.info()"
   ]
  },
  {
   "cell_type": "code",
   "execution_count": 52,
   "id": "ee954bfd",
   "metadata": {},
   "outputs": [
    {
     "data": {
      "text/plain": [
       "<matplotlib.axes._subplots.AxesSubplot at 0x1f45b1e9f88>"
      ]
     },
     "execution_count": 52,
     "metadata": {},
     "output_type": "execute_result"
    },
    {
     "data": {
      "image/png": "[encoded data removed]",
      "text/plain": [
       "<Figure size 1800x720 with 2 Axes>"
      ]
     },
     "metadata": {
      "needs_background": "light"
     },
     "output_type": "display_data"
    }
   ],
   "source": [
    "missingno.matrix(X_train)"
   ]
  },
  {
   "cell_type": "code",
   "execution_count": null,
   "id": "b86458e5",
   "metadata": {},
   "outputs": [],
   "source": []
  },
  {
   "cell_type": "code",
   "execution_count": null,
   "id": "03830b0a",
   "metadata": {},
   "outputs": [],
   "source": []
  },
  {
   "cell_type": "code",
   "execution_count": null,
   "id": "59f97a2d",
   "metadata": {},
   "outputs": [],
   "source": []
  },
  {
   "cell_type": "code",
   "execution_count": null,
   "id": "628b5c7c",
   "metadata": {},
   "outputs": [],
   "source": []
  },
  {
   "cell_type": "code",
   "execution_count": null,
   "id": "5d2c1b85",
   "metadata": {},
   "outputs": [],
   "source": []
  },
  {
   "cell_type": "markdown",
   "id": "2e04a901",
   "metadata": {},
   "source": [
    "### Now Use a Pipeline"
   ]
  },
  {
   "cell_type": "markdown",
   "id": "d0e27dc7",
   "metadata": {},
   "source": [
    "The make_pipeline function takes an arbitrary number of scikit-learn transformers (objects that support the fit and transform methods as input), followed by a scikit- learn estimator that implements the fit and predict methods.\n",
    "\n",
    "We can think of a scikit-learn Pipeline as a meta-estimator or wrapper around those individual transformers and estimators. If we call the fit method of Pipeline, the data will be passed down a series of transformers via fit and transform calls\n",
    "on these intermediate steps until it arrives at the estimator object (the final element\n",
    "in a pipeline). The estimator will then be fitted to the transformed training data. "
   ]
  },
  {
   "cell_type": "markdown",
   "id": "86c92a87",
   "metadata": {},
   "source": [
    "The make_pipeline function takes an arbitrary number of scikit-learn transformers\n",
    "(objects that support the fit and transform methods as input), followed by a scikitlearn\n",
    "estimator that implements the fit and predict methods."
   ]
  },
  {
   "cell_type": "markdown",
   "id": "15840214",
   "metadata": {},
   "source": [
    "## Model Performance and Cross-Validation "
   ]
  },
  {
   "cell_type": "markdown",
   "id": "37e73d69",
   "metadata": {},
   "source": [
    "One of the key steps in building a machine learning model is to estimate its\n",
    "performance on data that the model hasn't seen before. Let's assume that we fit our\n",
    "model on a training dataset and use the same data to estimate how well it performs on\n",
    "new data. \n",
    "\n",
    "We remember from that a model can suffer from\n",
    "**underfitting (high bias)** if the model is too simple, or it can **overfit** the training data\n",
    "**(high variance)** if the model is too complex for the underlying training data.\n",
    "To find an acceptable *bias-variance tradeoff*, we need to evaluate our model\n",
    "carefully. In this section, you will learn about the common **cross-validation**\n",
    "techniques holdout cross-validation and k-fold cross-validation, which can help\n",
    "us to obtain reliable estimates of the model's generalization performance, that is,\n",
    "how well the model performs on unseen data."
   ]
  },
  {
   "cell_type": "markdown",
   "id": "37940789",
   "metadata": {},
   "source": [
    "### Holdout Method\n",
    "\n",
    "Using the holdout method, we\n",
    "split our initial dataset into separate training and test datasets—the former is used\n",
    "for model training, and the latter is used to estimate its generalization performance.\n",
    "However, in typical machine learning applications, we are also interested in tuning\n",
    "and comparing different parameter settings to further improve the performance for\n",
    "making predictions on unseen data. This process is called model selection, with\n",
    "the name referring to a given classification problem for which we want to select\n",
    "the optimal values of tuning parameters (also called hyperparameters). However, if\n",
    "we reuse the same test dataset over and over again during model selection, it will\n",
    "become part of our training data and thus the model will be more likely to overfit.\n",
    "\n",
    "A better way of using the holdout method for model selection is to separate the\n",
    "data into three parts: a training dataset, a validation dataset, and a test dataset.\n",
    "The training dataset is used to fit the different models, and the performance on the\n",
    "validation dataset is then used for the model selection. The advantage of having\n",
    "a test dataset that the model hasn't seen before during the training and model\n",
    "selection steps is that we can obtain a less biased estimate of its ability to generalize\n",
    "to new data. The following figure illustrates the concept of holdout cross-validation,\n",
    "where we use a validation dataset to repeatedly evaluate the performance of the\n",
    "model after training using different hyperparameter values. Once we are satisfied\n",
    "with the tuning of hyperparameter values, we estimate the model's generalization\n",
    "performance on the test dataset:"
   ]
  },
  {
   "cell_type": "markdown",
   "id": "c28c09d4",
   "metadata": {},
   "source": [
    "![chapter-4-5_pic_0.png](./pic/chapter-4-5_pic_0.png)\n",
    "*From S. Raschka et al. (see Reference)*"
   ]
  },
  {
   "cell_type": "markdown",
   "id": "1a203ffc",
   "metadata": {},
   "source": [
    "### k-fold Cross-Validation"
   ]
  },
  {
   "cell_type": "markdown",
   "id": "0ab1986e",
   "metadata": {},
   "source": [
    "In k-fold cross-validation, we randomly split the training dataset into k folds without\n",
    "replacement, where k – 1 folds are used for the model training, and one fold is used\n",
    "for performance evaluation. This procedure is repeated k times so that we obtain k\n",
    "models and performance estimates.\n",
    "\n",
    "We then calculate the average performance of the models based on the different,\n",
    "independent test folds to obtain a performance estimate that is less sensitive\n",
    "to the sub-partitioning of the training data compared to the holdout method.\n",
    "Typically, we use k-fold cross-validation for model tuning, that is, finding the\n",
    "optimal hyperparameter values that yield a satisfying generalization performance,\n",
    "which is estimated from evaluating the model performance on the test folds.\n",
    "Once we have found satisfactory hyperparameter values, we can retrain the model\n",
    "on the complete training dataset and obtain a final performance estimate using the\n",
    "independent test dataset. The rationale behind fitting a model to the whole training\n",
    "dataset after k-fold cross-validation is that providing more training examples to\n",
    "a learning algorithm usually results in a more accurate and robust model."
   ]
  },
  {
   "cell_type": "markdown",
   "id": "a5229e79",
   "metadata": {},
   "source": [
    "![chapter-4-5_pic_1.png](./pic/chapter-4-5_pic_1.png)\n",
    "*From S. Raschka et al. (see Reference)*"
   ]
  },
  {
   "cell_type": "markdown",
   "id": "3e549492",
   "metadata": {},
   "source": [
    "## Validation Curves"
   ]
  },
  {
   "cell_type": "markdown",
   "id": "ac4df9bd",
   "metadata": {},
   "source": []
  },
  {
   "cell_type": "markdown",
   "id": "43687d3b",
   "metadata": {},
   "source": [
    "## Tuning hyperparameters via grid search"
   ]
  },
  {
   "cell_type": "markdown",
   "id": "f99e66f2",
   "metadata": {},
   "source": []
  },
  {
   "cell_type": "markdown",
   "id": "00221945",
   "metadata": {},
   "source": []
  },
  {
   "cell_type": "markdown",
   "id": "5cc5a88a",
   "metadata": {},
   "source": []
  },
  {
   "cell_type": "markdown",
   "id": "4e5059b2",
   "metadata": {},
   "source": []
  },
  {
   "cell_type": "markdown",
   "id": "ba9dc3d4",
   "metadata": {},
   "source": []
  },
  {
   "cell_type": "markdown",
   "id": "200502a5",
   "metadata": {},
   "source": []
  },
  {
   "cell_type": "markdown",
   "id": "c951a06d",
   "metadata": {},
   "source": []
  },
  {
   "cell_type": "markdown",
   "id": "05f2d554",
   "metadata": {},
   "source": [
    "# References"
   ]
  },
  {
   "cell_type": "markdown",
   "id": "8a5e18ae",
   "metadata": {},
   "source": [
    "*Eryk Lewinson*, \"**Python For Finance Cookbook**\",  Packt Publishing (2020)"
   ]
  },
  {
   "cell_type": "markdown",
   "id": "fcdd81eb",
   "metadata": {},
   "source": [
    "*Sebastian Raschka and Vahid Mirjalili* \"**Machine Learning with Python**\", 3rd edition, Packt Publishing"
   ]
  },
  {
   "cell_type": "code",
   "execution_count": null,
   "id": "6eaac585",
   "metadata": {},
   "outputs": [],
   "source": []
  }
 ],
 "metadata": {
  "kernelspec": {
   "display_name": "Python 3",
   "language": "python",
   "name": "python3"
  },
  "language_info": {
   "codemirror_mode": {
    "name": "ipython",
    "version": 3
   },
   "file_extension": ".py",
   "mimetype": "text/x-python",
   "name": "python",
   "nbconvert_exporter": "python",
   "pygments_lexer": "ipython3",
   "version": "3.8.8"
  },
  "toc": {
   "base_numbering": 1,
   "nav_menu": {},
   "number_sections": true,
   "sideBar": true,
   "skip_h1_title": false,
   "title_cell": "Table of Contents",
   "title_sidebar": "Contents",
   "toc_cell": false,
   "toc_position": {},
   "toc_section_display": true,
   "toc_window_display": false
  }
 },
 "nbformat": 4,
 "nbformat_minor": 5
}

{
 "cells": [
  {
   "cell_type": "markdown",
   "id": "f0a4a19c",
   "metadata": {},
   "source": [
    "<table align=\"left\">\n",
    "  <td>\n",
    "    <a target=\"_blank\" href=\"https://colab.research.google.com/github/polyhedron-gdl/introduction-to-machine-learning-for-finance/blob/main/2022/1-notebooks/chapter-1-1.ipynb\">\n",
    "        <img src=\"https://www.tensorflow.org/images/colab_logo_32px.png\" />Run in Google Colab</a>\n",
    "  </td>\n",
    "</table>"
   ]
  },
  {
   "cell_type": "markdown",
   "id": "38fa69f7",
   "metadata": {},
   "source": [
    "\n",
    "# Introduction to Machine Learning \n",
    "\n",
    "**with Applications in Banking and Finance**\n",
    "\n",
    "<!--\n",
    "<div class=\"alert alert-block alert-success\">\n",
    "    <h2> Why? </h2>\n",
    "    <br>The purpose and the rationale for the subject covered in the seminar</br>\n",
    "</div>\n",
    "-->"
   ]
  },
  {
   "cell_type": "markdown",
   "id": "a6d901f7",
   "metadata": {},
   "source": [
    "In this notebook, you will learn about the main concepts and different types of machine learning. Together with a basic introduction to the relevant terminology, we will lay the groundwork for successfully using machine learning techniques\n",
    "for practical problem solving.\n",
    "\n",
    "In the following we will cover the following topics:\n",
    "\n",
    "- The general concepts of machine learning\n",
    "- The three types of learning and basic terminology\n",
    "- The building blocks for successfully designing machine learning systems\n",
    "- Installing and setting up Python for data analysis and machine learning"
   ]
  },
  {
   "cell_type": "markdown",
   "id": "4a00b982",
   "metadata": {},
   "source": [
    "## What is Machine Learning\n",
    "\n",
    "Machine learning is an artificial intelligence (AI) technology which provides systems with the ability to automatically learn from experience without the need for explicit programming, and can help solve complex problems. It is seen as a part of artificial intelligence. Machine learning algorithms build a model based on sample data, known as \"training data\", in order to make predictions or decisions without being explicitly programmed to do so. Machine learning algorithms are used in a wide variety of applications, such as in medicine, email filtering, speech recognition, and computer vision, where it is difficult or unfeasible to develop conventional algorithms to perform the needed tasks."
   ]
  },
  {
   "cell_type": "markdown",
   "id": "ffdde5d2",
   "metadata": {},
   "source": [
    "## The three different types of machine learning\n",
    "\n",
    "### Supervised Learning\n",
    "\n",
    "The main goal in supervised learning is to learn a model from labeled training data that allows us to make predictions about unseen or future data. Here, the term \"supervised\" refers to a set of **training** examples (data inputs) where the\n",
    "desired output signals (**labels**) are already known. The following figure summarizes a typical supervised learning workflow, where the labeled training data is passed to a machine learning algorithm for fitting a predictive model that can make\n",
    "predictions on new, unlabeled data inputs:"
   ]
  },
  {
   "cell_type": "markdown",
   "id": "61bc43dc",
   "metadata": {},
   "source": [
    "![chapter-0-0_pic_0.png](./pic/chapter-0-0_pic_0.png)"
   ]
  },
  {
   "cell_type": "markdown",
   "id": "46cefe4d",
   "metadata": {},
   "source": [
    "A supervised learning task with discrete class labels, such as in the previous example, is also called a **classification\n",
    "task**. \n",
    "A second type of supervised learning is the prediction of continuous outcomes, which is also called **regression analysis**. In\n",
    "regression analysis, we are given a number of predictor (explanatory) variables and a continuous response variable (outcome), and we try to find a relationship between those variables that allows us to predict an outcome. Note that in the field of machine learning, the predictor variables are commonly called ***features***, and the response variables are usually referred to as ***target variables***."
   ]
  },
  {
   "cell_type": "markdown",
   "id": "55a4bbab",
   "metadata": {},
   "source": [
    "![chapter-0-0_pic_1.png](./pic/chapter-0-0_pic_1.png)"
   ]
  },
  {
   "cell_type": "markdown",
   "id": "acf82127",
   "metadata": {},
   "source": [
    "### Unsupervised Learning"
   ]
  },
  {
   "cell_type": "markdown",
   "id": "c1223ad0",
   "metadata": {},
   "source": [
    "In supervised learning, we know the right answer beforehand when we train a model. In **unsupervised learning**, however, we are dealing with ***unlabeled data*** or data of unknown structure. Using unsupervised learning techniques, we are able to explore the structure of our data to extract meaningful information without the guidance of a known outcome variable or reward function.\n",
    "\n",
    "**Clustering** is an exploratory data analysis technique that allows us to organize a pile of information into meaningful subgroups (clusters) *without having any prior knowledge of their group memberships*. Each cluster that arises during the analysis defines a group of objects that share a certain degree of similarity but are more dissimilar to objects in other clusters, which is why clustering is also sometimes called unsupervised classification. Clustering is a great technique for structuring information and deriving meaningful relationships from data. For example, it allows marketers to discover customer groups based on their interests, in order to develop distinct marketing programs."
   ]
  },
  {
   "cell_type": "markdown",
   "id": "ea88af86",
   "metadata": {},
   "source": [
    "![chapter-0-0_pic_2.png](./pic/chapter-0-0_pic_2.png)"
   ]
  },
  {
   "cell_type": "markdown",
   "id": "7848cc93",
   "metadata": {},
   "source": [
    "### Reinforcement Learning"
   ]
  },
  {
   "cell_type": "markdown",
   "id": "b47884e9",
   "metadata": {},
   "source": [
    "Another type of machine learning is **reinforcement learning**. In reinforcement learning, the goal is to develop a system (***agent***) that improves its performance based on interactions with the environment. Since the information about the current state of the environment typically also includes a so-called **reward signal**, we can think of reinforcement learning as a field related to supervised learning. However, in reinforcement learning, this feedback is not the correct ground truth label or value, but a measure of how well the action was measured by a reward function. Through its interaction with the environment, an agent can then use reinforcement learning to learn a series of actions that maximizes this reward via an exploratory trial-and-error approach or deliberative planning. A popular example of reinforcement learning is a chess engine. Here, the agent decides upon a series of moves depending on the state of the board (the\n",
    "environment), and the reward can be defined as win or lose at the end of the game."
   ]
  },
  {
   "cell_type": "markdown",
   "id": "589395d9",
   "metadata": {},
   "source": [
    "## Features and Labels\n",
    "\n",
    "The data for supervised learning contains whare are referred to as **features** and **labels**. The **labels** are the values of the target that is to be predicted. The **features** are the variables from which the predictions are to be made. For example when predicting the price of a house the **features** could be the swuare meters of living space, the number of bedrooms, the number of bathrooms, the size of the garage and so on. The **label** would be the house price.\n",
    "\n",
    "The data for unsupervised learning consists of features but no labels because the model is being used to identify patterns not to forecast something.\n"
   ]
  },
  {
   "cell_type": "markdown",
   "id": "6305730d",
   "metadata": {},
   "source": [
    "## Type of Data ##\n",
    "\n",
    "There are two types of data:\n",
    "\n",
    "- Numerical\n",
    "- Categorical\n",
    "\n",
    "Numerical data consists of numbers. Categorical data is data which can fall into a number of different categories, for example data to predict a house price might categorize driveways as asphalt, concrete, grass, etc. Categorical data must be converted to numbers for the purposes of analysis. \n",
    "\n",
    "The standard way of dealing with categorical features is to create a dummy variable for each category. The value of this variable is 1 if the feature is in the category and 0 otherwise. For example in the situation in which individuals are categorized as male or female, we could create two dummy variables. For man the first dummy variable would be 1 and the second would be 0. The opposite for women. This procedure is appropriate when there is no natural ordering between the feature values.\n",
    "\n",
    "When there is a natural ordering, we can reflect this in the numbers assigned. For example if the size of an order is classified as small, medium or large, we can replace the feature by a numerical variable where *small = 1*, *medium = 2* and *large = 3*."
   ]
  },
  {
   "cell_type": "markdown",
   "id": "9132dcbe",
   "metadata": {},
   "source": [
    "## Cost Functions \n",
    "\n",
    "\n",
    "### Linear Cost Function \n",
    "\n",
    "In Machine Learning a cost function or loss function is used to represent how far away a mathematical model is from the real data. One adjusts the mathematical model, usually by varying parameters within the model, so as to minimize the cost function. \n",
    "\n",
    "Let's take for example the simple case of a linear fitting. We want to find a relationship of the form \n",
    "\n",
    "\\begin{equation}\n",
    "y=\\theta_0 +\\theta_1x\n",
    "\\end{equation}\n",
    "\n",
    "where the $\\theta$s are the parameters that we want to find to give us the best fit to the data. We call this linear function $h_\\theta(x)$ to emphasize the dependence on both the variable $x$ and the two parameters $\\theta_0$ and $\\theta_1$.\n",
    "\n",
    "\n",
    "We want to measure how far away the data, the $y^{(n)}$s, are from the function $h_\\theta(x)$. A common way to do this is via the quadratic *cost function*\n",
    "\n",
    "\\begin{equation}\n",
    "J(\\mathbf{\\theta}) = \\frac{1}{2N} \\sum\\limits_{n=1}^N \\left[ h_\\theta \\left( x^{(n)} \\right) - y^{(n)} \\right]^2\n",
    "\\label{eq:ols}\n",
    "\\end{equation}\n",
    "\n",
    "This is called *Ordinary Least Squares*.\n",
    "\n",
    "In this case, the minimum is easily find analitically, differentiate $\\eqref{eq:ols}$ with respect to both $\\theta$s and set the result to zero:\n",
    "\n",
    "\\begin{equation}\n",
    "\\begin{array}{lcl} \n",
    "\\frac{\\partial J}{\\partial \\theta_0} & = & \\sum\\limits_{n=1}^N \\left( \\theta_0 + \\theta_1 x^{(n)} - y^{(n)} \\right) = 0 \n",
    "\\\\ \n",
    "\\frac{\\partial J}{\\partial \\theta_1} & = & \\sum\\limits_{n=1}^N x^{(n)} \\left( \\theta_0 + \\theta_1 x^{(n)} - y^{(n)} \\right) = 0 \n",
    "\\end{array}\n",
    "\\end{equation}\n",
    "\n",
    "The solution is trivially obtained for both $\\theta$s\n",
    "\n",
    "\\begin{equation}\n",
    "\\begin{array}{lcl} \n",
    "\\theta_0 = \\frac{\\left(\\sum y \\right) \\left(\\sum x^2 \\right) -\\left(\\sum x \\right) \\left(\\sum xy \\right) }{N\\left(\\sum x^2 \\right) \\left(\\sum x \\right)^2 } \n",
    "\\\\ \n",
    "\\theta_1 = \\frac{N\\left(\\sum xy \\right) - \\left(\\sum y \\right)\\left(\\sum x \\right)}{N\\left(\\sum x^2 \\right) \\left(\\sum x \\right)^2 }\n",
    "\\end{array}\n",
    "\\end{equation}\n",
    "\n",
    "\n"
   ]
  },
  {
   "cell_type": "markdown",
   "id": "d59d2951",
   "metadata": {},
   "source": [
    "### Gradient Descent\n",
    "\n",
    ">We can describe the main idea behind gradient descent as climbing down a hill until a local or global cost minimum is reached. In each iteration, we take a step in the opposite direction of the gradient, where the step size\n",
    "is determined by the value of the **learning rate**, as well as the slope of the gradient.\n",
    "\n",
    "The scheme works as follow: start with an initial guess for each parameter $\\theta_k$. Then move $\\theta_k$ in the direction of the slope:\n",
    "\n",
    "\\begin{equation}\n",
    "\\theta_k^{new} =\\theta_k^{old}+\\beta \\frac{\\partial J}{\\partial \\theta_k}\n",
    "\\end{equation}\n",
    "\n",
    "**Update all $\\theta_k$ simultaneously** and repet until convergence. Here $\\beta$ is a *learning factor* that governs how far you move. if $\\beta$ is too small it will take a long time to converge, if too large it will overshoot and might not converge at all. \n",
    "\n",
    "The loss function $J$ is a function of all of the data points. In the above description of gradient descent we have used all of the data points simultaneously. This is called *batch gradient* descent. But rather than use all of the data in the parameter updating we can use a technique called *stochastic gradient descent*. This is like batch gradient descent except that you only update using *one* of the data points each time. And that data point is chosen randomly.\n",
    "\n",
    "\\begin{equation}\n",
    "J(\\mathbf{\\theta}) = \\sum\\limits_{n=1}^N J_n(\\mathbf{\\theta})\n",
    "\\end{equation}\n",
    "\n",
    "Stochastic gradient descent means pick an *n* at random and then update according to \n",
    "\n",
    "\\begin{equation}\n",
    "\\theta_k^{new} =\\theta_k^{old}+\\beta \\frac{\\partial J_n}{\\partial \\theta_k}\n",
    "\\end{equation}\n",
    "\n",
    "Repeat, picking another data point at random, etc."
   ]
  },
  {
   "cell_type": "markdown",
   "id": "e2a66a70",
   "metadata": {},
   "source": [
    "An important parameter in Gradient Descent is the size of the steps, determined by\n",
    "the **learning rate** hyperparameter. "
   ]
  },
  {
   "cell_type": "markdown",
   "id": "93517677",
   "metadata": {},
   "source": [
    "![chapter-2-3-pic_1.png](./pic/chapter-2-3-pic_1.png)"
   ]
  },
  {
   "cell_type": "markdown",
   "id": "338bf620",
   "metadata": {},
   "source": [
    "If the learning rate is too small, then the algorithm\n",
    "will have to go through many iterations to converge, which will take a long time..."
   ]
  },
  {
   "cell_type": "markdown",
   "id": "b2efd6b6",
   "metadata": {},
   "source": [
    "![chapter-2-3-pic_2.png](./pic/chapter-2-3-pic_2.png)"
   ]
  },
  {
   "cell_type": "markdown",
   "id": "7151dc79",
   "metadata": {},
   "source": [
    "... on the other hand, if the learning rate is too high, you might jump across the valley. This might make the algorithm diverge failing to find a good solution. "
   ]
  },
  {
   "cell_type": "markdown",
   "id": "11348726",
   "metadata": {},
   "source": [
    "![chapter-2-3-pic_3.png](./pic/chapter-2-3-pic_3.png)"
   ]
  },
  {
   "cell_type": "markdown",
   "id": "8e2e2178",
   "metadata": {},
   "source": [
    "Gradient descent is one of the many algorithms that benefit from feature scaling."
   ]
  },
  {
   "cell_type": "markdown",
   "id": "7fa1cb76",
   "metadata": {},
   "source": [
    "### Stochastic Gradient Descent"
   ]
  },
  {
   "cell_type": "markdown",
   "id": "79c8fc69",
   "metadata": {},
   "source": [
    "In the previous section, we learned how to minimize a cost function by taking a step\n",
    "in the opposite direction of a cost gradient that is calculated from the whole training\n",
    "dataset; this is why this approach is sometimes also referred to as batch gradient\n",
    "descent. Now imagine that we have a very large dataset with millions of data\n",
    "points, which is not uncommon in many machine learning applications. Running\n",
    "batch gradient descent can be computationally quite costly in such scenarios, since\n",
    "we need to reevaluate the whole training dataset each time that we take one step\n",
    "toward the global minimum.\n",
    "\n",
    "A popular alternative to the batch gradient descent algorithm is stochastic gradient\n",
    "descent (SGD), which is sometimes also called iterative or online gradient descent.\n",
    "Instead of updating the weights based on the sum of the accumulated errors over all\n",
    "training examples, we update the weights incrementally for each training example:\n",
    "\n",
    "$$\\eta \\left( y^{(i)} - \\phi\\left(z^{(i)} \\right)\\right)\\mathbf{x}^{(i)}$$\n",
    "\n",
    "Although SGD can be considered as an approximation of gradient descent, it\n",
    "typically reaches convergence much faster because of the more frequent weight\n",
    "updates. Since each gradient is calculated based on a single training example, the\n",
    "error surface is noisier than in gradient descent, which can also have the advantage\n",
    "that SGD can escape shallow local minima more readily if we are working with\n",
    "nonlinear cost functions."
   ]
  },
  {
   "cell_type": "markdown",
   "id": "ff526c7a",
   "metadata": {},
   "source": [
    "## Learning Tools"
   ]
  },
  {
   "cell_type": "markdown",
   "id": "e5fc9bff",
   "metadata": {},
   "source": [
    "### Using Python for machine learning"
   ]
  },
  {
   "cell_type": "markdown",
   "id": "4cf9bbb1",
   "metadata": {},
   "source": [
    "Python is one of the most popular programming languages for data science and\n",
    "thanks to its very active developer and open source community, a large number of\n",
    "useful libraries for scientific computing and machine learning have been developed.\n",
    "Although the performance of interpreted languages, such as Python, for\n",
    "computation-intensive tasks is inferior to lower-level programming languages,\n",
    "extension libraries such as **NumPy**, **Matplotlib** and **Pandas**, among the others, have been developed that build\n",
    "upon lower-layer Fortran and C implementations for fast vectorized operations\n",
    "on multidimensional arrays.\n",
    "For machine learning programming tasks, we will mostly refer to the **scikit-learn**\n",
    "library, which is currently one of the most popular and accessible open source\n",
    "machine learning libraries. In the later chapters, when we focus on a subfield\n",
    "of machine learning called deep learning, we will use the latest version of the\n",
    "**Keras** library, which specializes in training so-called deep neural network\n",
    "models very efficiently. "
   ]
  },
  {
   "cell_type": "markdown",
   "id": "4a98a49b",
   "metadata": {},
   "source": [
    "### Installing Python and Packages"
   ]
  },
  {
   "cell_type": "markdown",
   "id": "bc81cae3",
   "metadata": {},
   "source": [
    "To set up your python environment, you’ll first need to have a python on your machine. There are various python distributions available and we have chosen one that works very well for data science: **Anaconda**. Anaconda comes with its own Python distribution which will be installed along with it. \n",
    "\n",
    "Data Science often requires you to work with a lot of scientific packages like scipy and numpy, data manipulation packages like pandas and IDEs and interactive Jupyter Notebook.Now, you don’t need to worry about any python package most of them come pre-installed and if you want to install a new package, you can do that simply by using conda or via the pip installer program, which has been part of the Python Standard Library\n",
    "since Python 3.3. More information about pip can be found [here](https://docs.python.org/3/installing/index.html). After we have successfully installed Python, we can execute pip from the terminal\n",
    "to install additional Python packages:\n",
    "\n",
    "**pip install SomePackage**\n",
    "\n",
    "Already installed packages can be updated via the --upgrade flag:\n",
    "\n",
    "**pip install SomePackage --upgrade**\n",
    "\n",
    "To download an Anaconda distribution, you can use the [official download page](https://www.anaconda.com/download/) and\n",
    "you can select your platform and then choose the installer. For this, you can choose which version you want and whether 32-bit or 64-bit."
   ]
  },
  {
   "cell_type": "markdown",
   "id": "60f66db2",
   "metadata": {},
   "source": [
    "<!--\n",
    "<div>\n",
    "<img src=\"./img/anaconda_2.png\" width=\"600\"/>\n",
    "</div>\n",
    "-->\n",
    "![chapter-0-0_pic_3.png](./pic/chapter-0-0_pic_3.png)"
   ]
  },
  {
   "cell_type": "markdown",
   "id": "933d5a18",
   "metadata": {},
   "source": [
    "To test your installation, on Windows, click on Start and then Anaconda Navigator in the program list (or search for Anaconda in the search bar and select Anaconda Navigator). On a Mac, open up the finder, and in the Applications folder, double click on Anaconda-Navigator."
   ]
  },
  {
   "cell_type": "markdown",
   "id": "555054bd",
   "metadata": {},
   "source": [
    "![chapter-0-0_pic_4.png](./pic/chapter-0-0_pic_4.png)"
   ]
  },
  {
   "cell_type": "markdown",
   "id": "0241e4fa",
   "metadata": {},
   "source": [
    "**Package Managers**\n",
    "\n",
    "Anaconda will give you two package managers- **pip** and **conda**. When some packages aren’t available with conda, you can use pip to install them. Note that using pip to install packages also available to conda may cause an installation error."
   ]
  },
  {
   "cell_type": "markdown",
   "id": "190c6846",
   "metadata": {},
   "source": [
    "**Jupyter Notebook**\n",
    "\n",
    "A notebook is a document like this one! A notebook integrates code and its output into a single document that combines visualizations, narrative text, mathematical equations, and other rich media.\n",
    "\n",
    "In other words: it's a single document where you can run code, display the output, and also add explanations, formulas, charts, and make your work more transparent, understandable, repeatable, and shareable. As part of the open source Project Jupyter, Jupyter Notebooks are completely free. You can download the software on its own, or as part of the Anaconda data science toolkit."
   ]
  },
  {
   "cell_type": "markdown",
   "id": "01e57509",
   "metadata": {},
   "source": [
    "### Google Colab"
   ]
  },
  {
   "cell_type": "markdown",
   "id": "dc2df05e",
   "metadata": {},
   "source": [
    "Although it is not essential to work in a colab environment (all the course notebooks are in fact designed to be able to run without problems locally on your pc), it is useful to know some basic elements of the interaction with colab. In particular, in the cells below you will find two examples for the use of external files. In the first case it is shown how to load a text file from your local PC into the google virtual machine. The second example relates to the opposite operation: let's create a simple pandas dataframe into the colab environment and export it in csv format to the local machine."
   ]
  },
  {
   "cell_type": "markdown",
   "id": "8d1ac6fd",
   "metadata": {},
   "source": [
    "#### How Upload a File on Google Colab"
   ]
  },
  {
   "cell_type": "code",
   "execution_count": 1,
   "id": "44063904",
   "metadata": {},
   "outputs": [],
   "source": [
    "if 'google.colab' in str(get_ipython()):\n",
    "    from google.colab import files\n",
    "    uploaded = files.upload()\n",
    "    path = ''\n",
    "else:\n",
    "    path = './data/'"
   ]
  },
  {
   "cell_type": "code",
   "execution_count": 2,
   "id": "f03b7321",
   "metadata": {},
   "outputs": [
    {
     "data": {
      "text/plain": [
       "\"[Alice's Adventures in Wonderland by Lewis Carroll 1865]\\n\\nCHAPTER I. Down the Rabbit-Hole\\n\\nAlice was beginning to get very tired of sitting by her sister on the\\nbank, and of having nothing to do: once or twice she had peeped into the\\nbook her sister was reading, but it had no pictures or conversations in\\nit, 'and what is the use of a book,' thought Alice 'without pictures or\\nconversation?'\""
      ]
     },
     "execution_count": 2,
     "metadata": {},
     "output_type": "execute_result"
    }
   ],
   "source": [
    "with open(path + \"carroll-alice.txt\", \"r\") as f:\n",
    "    alice = f.read()\n",
    "    \n",
    "alice[:392]    "
   ]
  },
  {
   "cell_type": "markdown",
   "id": "2965c2e7",
   "metadata": {},
   "source": [
    "#### How Download a File on Google Colab"
   ]
  },
  {
   "cell_type": "code",
   "execution_count": 3,
   "id": "15d56553",
   "metadata": {},
   "outputs": [],
   "source": [
    "import pandas as pd\n",
    "\n",
    "cars = {'Brand': ['Honda Civic','Toyota Corolla','Ford Focus','Audi A4'],\n",
    "        'Price': [22000,25000,27000,35000]\n",
    "        }\n",
    "\n",
    "df = pd.DataFrame(cars, columns= ['Brand', 'Price'])"
   ]
  },
  {
   "cell_type": "code",
   "execution_count": 4,
   "id": "a2d6ca22",
   "metadata": {},
   "outputs": [],
   "source": [
    "if 'google.colab' in str(get_ipython()):\n",
    "    # if we run in google environment first we save in virtual machine...\n",
    "    df.to_csv ('export_dataframe.csv', index = False, header=True)\n",
    "    # ...then we download to local machine\n",
    "    from google.colab import files\n",
    "    files.download(\"export_dataframe.csv\")    \n",
    "else:\n",
    "    # if we are working in local we save directly with the usual method\n",
    "    df.to_csv ('./data/export_dataframe.csv', index = False, header=True)"
   ]
  },
  {
   "cell_type": "markdown",
   "id": "5f56a244",
   "metadata": {},
   "source": [
    "### Packages for scientific computing\n",
    "\n",
    "Throughout this course, we will use **NumPy**'s multidimensional arrays to store\n",
    "and manipulate data. We will make use of **Pandas**, which is a library\n",
    "built on top of NumPy that provides additional higher-level data manipulation\n",
    "tools that make working with tabular data even more convenient. To augment your\n",
    "learning experience and visualize quantitative data, which is often extremely useful\n",
    "to make sense of it, we will use the very customizable **Matplotlib** library. "
   ]
  },
  {
   "cell_type": "markdown",
   "id": "29fa6f41",
   "metadata": {},
   "source": [
    "## Summary\n",
    "\n",
    "In this lesson, we explored machine learning at a very high level and familiarized\n",
    "ourselves with the big picture and major concepts that we are going to explore in the\n",
    "following chapters in more detail. \n",
    "\n",
    "We learned that:\n",
    "\n",
    "- **Supervised learning** is composed of two important subfields: **classification** and **regression**. While classification models allow us to categorize objects into known classes, we can use regression analysis to predict the continuous outcomes of target variables; \n",
    "\n",
    "- **Unsupervised learning** offers useful techniques for discovering structures in unlabeled data;\n",
    "\n",
    "- **How to set up a Python environment** and installed and updated the required packages to get ready to see machine learning in action."
   ]
  },
  {
   "cell_type": "markdown",
   "id": "67263f5f",
   "metadata": {},
   "source": [
    "## References\n",
    "\n",
    "For this introduction you can refer to \n",
    "\n",
    "- John C. Hull, **Machine Learning in Business, An Introduction to the World of Data Science**, Amazon (2019)\n",
    "\n",
    "- Paul Wilmott}, **Machine Learning, An Applied Mathematics Introduction**, Panda Ohana Publishing (2019)"
   ]
  }
 ],
 "metadata": {
  "kernelspec": {
   "display_name": "Python 3",
   "language": "python",
   "name": "python3"
  },
  "language_info": {
   "codemirror_mode": {
    "name": "ipython",
    "version": 3
   },
   "file_extension": ".py",
   "mimetype": "text/x-python",
   "name": "python",
   "nbconvert_exporter": "python",
   "pygments_lexer": "ipython3",
   "version": "3.7.4"
  },
  "toc": {
   "base_numbering": "1",
   "nav_menu": {},
   "number_sections": true,
   "sideBar": true,
   "skip_h1_title": false,
   "title_cell": "Table of Contents",
   "title_sidebar": "Contents",
   "toc_cell": false,
   "toc_position": {
    "height": "calc(100% - 180px)",
    "left": "10px",
    "top": "150px",
    "width": "256px"
   },
   "toc_section_display": true,
   "toc_window_display": false
  }
 },
 "nbformat": 4,
 "nbformat_minor": 5
}

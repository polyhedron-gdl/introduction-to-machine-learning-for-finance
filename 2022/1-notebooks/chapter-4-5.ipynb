{
 "cells": [
  {
   "cell_type": "markdown",
   "id": "42d22089",
   "metadata": {},
   "source": [
    "# Model Evaluation and Hyperparameter Tuning"
   ]
  },
  {
   "cell_type": "markdown",
   "id": "255f71fb",
   "metadata": {},
   "source": [
    "In the previous chapters, you learned about the essential machine learning algorithms for classification and how to get our data into shape before we feed it into those algorithms. Now, it's time to learn about the best practices of building good machine learning models by fine-tuning the algorithms and evaluating the performance of the models. In this chapter, we will learn how to do the following:\n",
    "- Assess the performance of machine learning models\n",
    "- Diagnose the common problems of machine learning algorithms\n",
    "- Fine-tune machine learning models\n",
    "- Evaluate predictive models using different performance metrics"
   ]
  },
  {
   "cell_type": "markdown",
   "id": "8f915f83",
   "metadata": {},
   "source": [
    "## Combining transformers and estimators in a pipeline"
   ]
  },
  {
   "cell_type": "markdown",
   "id": "d0e27dc7",
   "metadata": {},
   "source": [
    "The make_pipeline function takes an arbitrary number of scikit-learn transformers (objects that support the fit and transform methods as input), followed by a scikit- learn estimator that implements the fit and predict methods.\n",
    "\n",
    "We can think of a scikit-learn Pipeline as a meta-estimator or wrapper around those individual transformers and estimators. If we call the fit method of Pipeline, the data will be passed down a series of transformers via fit and transform calls\n",
    "on these intermediate steps until it arrives at the estimator object (the final element\n",
    "in a pipeline). The estimator will then be fitted to the transformed training data.\n"
   ]
  },
  {
   "cell_type": "markdown",
   "id": "15840214",
   "metadata": {},
   "source": [
    "## Model Performance with k-fold cross-validation "
   ]
  },
  {
   "cell_type": "markdown",
   "id": "37e73d69",
   "metadata": {},
   "source": []
  },
  {
   "cell_type": "markdown",
   "id": "c28c09d4",
   "metadata": {},
   "source": []
  },
  {
   "cell_type": "markdown",
   "id": "1a203ffc",
   "metadata": {},
   "source": []
  },
  {
   "cell_type": "markdown",
   "id": "0ab1986e",
   "metadata": {},
   "source": []
  },
  {
   "cell_type": "markdown",
   "id": "a5229e79",
   "metadata": {},
   "source": []
  },
  {
   "cell_type": "markdown",
   "id": "3e549492",
   "metadata": {},
   "source": []
  },
  {
   "cell_type": "markdown",
   "id": "ac4df9bd",
   "metadata": {},
   "source": []
  },
  {
   "cell_type": "markdown",
   "id": "43687d3b",
   "metadata": {},
   "source": []
  },
  {
   "cell_type": "markdown",
   "id": "f99e66f2",
   "metadata": {},
   "source": []
  },
  {
   "cell_type": "markdown",
   "id": "00221945",
   "metadata": {},
   "source": []
  },
  {
   "cell_type": "markdown",
   "id": "5cc5a88a",
   "metadata": {},
   "source": []
  },
  {
   "cell_type": "markdown",
   "id": "4e5059b2",
   "metadata": {},
   "source": []
  },
  {
   "cell_type": "markdown",
   "id": "ba9dc3d4",
   "metadata": {},
   "source": []
  },
  {
   "cell_type": "markdown",
   "id": "200502a5",
   "metadata": {},
   "source": []
  },
  {
   "cell_type": "markdown",
   "id": "c951a06d",
   "metadata": {},
   "source": []
  },
  {
   "cell_type": "markdown",
   "id": "05f2d554",
   "metadata": {},
   "source": [
    "# References\n",
    "\n",
    "*Sebastian Raschka and Vahid Mirjalili* \"**Machine Learning with Python**\", 3rd edition, Packt"
   ]
  },
  {
   "cell_type": "code",
   "execution_count": null,
   "id": "44b650ea",
   "metadata": {},
   "outputs": [],
   "source": []
  }
 ],
 "metadata": {
  "kernelspec": {
   "display_name": "Python 3",
   "language": "python",
   "name": "python3"
  },
  "language_info": {
   "codemirror_mode": {
    "name": "ipython",
    "version": 3
   },
   "file_extension": ".py",
   "mimetype": "text/x-python",
   "name": "python",
   "nbconvert_exporter": "python",
   "pygments_lexer": "ipython3",
   "version": "3.8.8"
  }
 },
 "nbformat": 4,
 "nbformat_minor": 5
}

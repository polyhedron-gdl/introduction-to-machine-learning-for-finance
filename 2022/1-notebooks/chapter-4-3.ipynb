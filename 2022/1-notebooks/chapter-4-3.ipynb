{
 "cells": [
  {
   "cell_type": "markdown",
   "metadata": {},
   "source": [
    "<table align=\"left\">\n",
    "  <td>\n",
    "    <a target=\"_blank\" href=\"https://colab.research.google.com/github/qf-workshop-2021/introduction-to-machine-learning/blob/main/1_notebooks/introduction-to-machine-learning.ipynb\">\n",
    "        <img src=\"https://www.tensorflow.org/images/colab_logo_32px.png\" />Run in Google Colab</a>\n",
    "  </td>\n",
    "</table>"
   ]
  },
  {
   "cell_type": "markdown",
   "metadata": {},
   "source": [
    "# Supervised Models: Support Vector Machines (SVM)"
   ]
  },
  {
   "cell_type": "markdown",
   "metadata": {},
   "source": [
    "## Linear Classification"
   ]
  },
  {
   "cell_type": "markdown",
   "metadata": {},
   "source": [
    "Machine learning involves predicting and classifying data and to do so we employ various machine learning algorithms according to the dataset.\n",
    "SVM or Support Vector Machine is a linear model for classification and regression problems. It can solve linear and non-linear problems and work well for many practical problems. This chapter will primarily focus on how SVM works as a classifier. It classifies data points into two classes at a time(this does not mean it is only a binary classifier, it only separates data points into two classes at a time), using a decision boundary (a hyperplane in this case). The primary objective of the Support vector Classifier is finding the ‘Optimal Separating Hyperplane(Decision Boundary)’. "
   ]
  },
  {
   "cell_type": "markdown",
   "metadata": {},
   "source": [
    "At first approximation what SVMs do is to find a separating line(or hyperplane) between data of two classes. SVM is an algorithm that takes the data as an input and outputs a line that separates those classes if possible but in this case\n",
    "our optimization objective is to maximize the margin. \n",
    "\n",
    "The margin is defined as the\n",
    "distance between the separating hyperplane (decision boundary) and the training\n",
    "examples that are closest to this hyperplane, which are the so-called **support vectors**.\n",
    "This is illustrated in the following figure:"
   ]
  },
  {
   "cell_type": "markdown",
   "metadata": {},
   "source": [
    "![image.png](./pic/chapter-4-3_pic_0.png)"
   ]
  },
  {
   "cell_type": "markdown",
   "metadata": {},
   "source": [
    "Thus SVM tries to make a decision boundary in such a way that the separation between the two classes (the margin) is as wide as possible."
   ]
  },
  {
   "cell_type": "markdown",
   "metadata": {},
   "source": [
    "### What is a Hyperplane?\n",
    "\n",
    "In geometry, it is an n-dimensional generalization of a plane, a subspace with one less dimension $(n-1)$ than its origin space. In one-dimensional space, it is a point, In two-dimensional space it is a line, In three-dimensional space, it is an ordinary plane, in four or more dimensional spaces, it is then called a ‘Hyperplane’. Take note of this, it is really how the Support Vector Machine works behind the scenes, the dimensions are the features represented in the data. For example, say we want to carry out a classification problem and we want to be able to tell if a product gets purchased or not(a binary classification), if there is just one feature (say Gender) available as a feature in the dataset, then it is in one-dimensional space and the subspace (the separating/decision boundary) representation will be $(n-1=0)$ a 0-dimensional space, represented with just a point showing the separation of classes (Purchased or not). If there are two features(Age and Gender), it is a two-dimensional space (2D), with either of Age and Gender on the $X$ and $Y$-axis, the decision boundary will be represented as a simple line. Similarly, if the features are three(Age, Gender, Income), the decision boundary will be a two-dimensional plane in a three-dimensional space. Furthermore, if we have a four or more dimensional space data points, then it is called a ‘Hyperplane’ with $n-1$ dimension. "
   ]
  },
  {
   "cell_type": "markdown",
   "metadata": {},
   "source": [
    "The Hyperplane is simply a concept that separates an n-dimensional space into two groups/halves. In machine learning terms, it is a form of a decision boundary that algorithms like the Support Vector Machine uses to classify or separate data points. There are two parts to it, the negative side hyperplane and the positive part hyperplane, where data points/instances can lie on either part, signifying the group/class they belong to."
   ]
  },
  {
   "cell_type": "markdown",
   "metadata": {},
   "source": [
    "### Hard Margins\n",
    "\n",
    "The rationale behind having decision boundaries with large margins is that they tend\n",
    "to have a lower generalization error, whereas models with small margins are more\n",
    "prone to overfitting. To get an idea of the margin maximization, let's take a closer\n",
    "look at those positive and negative hyperplanes that are parallel to the decision\n",
    "boundary. \n",
    "\n",
    "When the data is linearly separable, and we don’t want to have any misclassifications, we use SVM with a **hard margin**. However, when a linear boundary is not feasible, or we want to allow some misclassifications in the hope of achieving better generality, we can opt for a **soft margin** for our classifier.\n",
    "\n",
    "..."
   ]
  },
  {
   "cell_type": "markdown",
   "metadata": {},
   "source": [
    "![chapter-4-4_pic_10.png](./pic/chapter-4-3_pic_1.png)"
   ]
  },
  {
   "cell_type": "markdown",
   "metadata": {},
   "source": [
    "We can scale $w_1$, $w_2$, $b_u$, and $b_d$  by the same constant without changing the model. We can therefore set $b_u=b+1$ and $b_d=b-1$ so that the width of the pathway is \n",
    "\n",
    "$$P = \\frac{2}{\\sqrt{w_1^2+w_2^2}} = \\frac{2}{\\vert\\vert \\mathbf{w} \\vert\\vert^2}$$\n",
    "\t\t\n",
    "In the **hard margin** case the algorithm minimizes $w_1^2+w_2^2$ subject to \\textbf{perfect separation} being achieved\n",
    "\n",
    "Now, the objective function of the SVM becomes the maximization of this margin by maximizing $P$ under the constraint that the examples are classified correctly, which can be written as:\n",
    "\n",
    "$$b + \\mathbf{w}^𝑇 \\cdot \\mathbf{x}^{(𝑖)} \\ge 1 \\quad \\text{if } 𝑦^{(𝑖)} = 1$$\n",
    "$$b + \\mathbf{w}^𝑇 \\cdot \\mathbf{x}^{(𝑖)} \\le 1 \\quad \\text{if } 𝑦^{(𝑖)} = -1$$\n",
    "\n",
    "for $𝑖 = 1, \\dots, 𝑁$. Here, $N$ is the number of examples in our dataset.\n",
    "\n",
    "These two equations basically say that all negative-class examples should fall on\n",
    "one side of the negative hyperplane, whereas all the positive-class examples should\n",
    "fall behind the positive hyperplane, which can also be written more compactly as\n",
    "follows:\n",
    "\n",
    "\\begin{equation}\n",
    "𝑦^{(𝑖)}\\left(b + \\mathbf{w}^𝑇 \\cdot \\mathbf{x}^{(𝑖)}\\right) \\ge 1 \\quad \\forall i\n",
    "\\end{equation}\n",
    "\n",
    "In practice, though, it is easier to minimize the reciprocal term, $\\frac{1}{2}\\vert\\vert\\mathbf{w}\\vert\\vert^2$ , which can be solved by quadratic programming. "
   ]
  },
  {
   "cell_type": "markdown",
   "metadata": {},
   "source": [
    "### Lagrange Multiplier\n",
    "\n",
    "Because we have a contrained optimization problem (with inequality contraints) we can recast the problem using Lagrange multipliers, $\\alpha \\ge 0$ and search for the critical points of \n",
    "\n",
    "\\begin{equation}\\label{eq:7.7}\n",
    "L = \\frac{1}{2} \\vert \\theta \\vert^2 - \\sum\\limits_{n=1}^N \\alpha_n \\left( y^{(n)} \\left( \\mathbf{\\theta}^T \\mathbf{x}^{(n)} + \\theta_0 \\right) -1 \\right)\n",
    "\\end{equation}\n",
    "\n",
    "To find the critical points we differentiate with respect to the scalar $\\theta_0$ and with respect to the vector $\\mathbf{\\theta}$. Remember that differentiation with respect to a vector just means differentiating with respect to each of its entries. Setting these derivatives to zero you end up with:\n",
    "\n",
    "\\begin{equation}\\label{eq:7.8}\n",
    "\\sum\\limits_{n=1}^N \\alpha_n  y^{(n)} = 0\n",
    "\\end{equation}\n",
    "\n",
    "and \n",
    "\n",
    "\\begin{equation}\\label{eq:7.9}\n",
    "\\mathbf{\\theta} = \\sum\\limits_{n=1}^N \\alpha_n  y^{(n)} \\mathbf{x}^{(n)} \n",
    "\\end{equation}\n",
    "\n",
    "which means that our vector orthogonal to the hyperplane is just a linear combination of sample vectors. Substituting \\eqref{eq:7.9} into \\eqref{eq:7.7}  and using \\eqref{eq:7.8} results in \n",
    "\n",
    "\\begin{equation}\n",
    "L = \\sum\\limits_{n=1}^N \\alpha_n - \\frac{1}{2} \\sum\\limits_{i=1}^N \\sum\\limits_{j=1}^N \\alpha_i \\alpha_j y^{(i)} \n",
    "{\\mathbf{x}^{(i)}}^T \\mathbf{x}^{(j)} \n",
    "\\end{equation}\n",
    "\n",
    "We want to maximize $L$ over the $\\alpha$s, all greater than or equal to zero, subject to \\eqref{eq:7.8}. This is known as the dual problem.\n",
    "\n",
    "\n",
    "Once we have found the $\\alpha$s the dual version of the classifier for a new point $\\mathbf{u}$ is the just\n",
    "\\begin{equation}\n",
    "\\sum\\limits_{n=1}^N \\alpha_n   y^{(n)} {\\mathbf{x}^{(n)}}^T  \\mathbf{u} + \\theta_0\n",
    "\\end{equation}\n",
    "\n",
    "whether this is greater or less than zero."
   ]
  },
  {
   "cell_type": "markdown",
   "metadata": {},
   "source": [
    "### Soft Margins\n",
    "\n"
   ]
  },
  {
   "cell_type": "markdown",
   "metadata": {},
   "source": [
    "Let's briefly mention the slack\n",
    "variable, 𝜉𝜉 , which was introduced by Vladimir Vapnik in 1995 and led to the socalled\n",
    "soft-margin classification. The motivation for introducing the slack variable, $\\xi$ , \n",
    "was that the linear constraints need to be relaxed for nonlinearly separable data to\n",
    "allow the convergence of the optimization in the presence of misclassifications, under\n",
    "appropriate cost penalization.\n",
    "\n",
    "The positive-valued slack variable is simply added to the linear constraints:\n",
    "\n",
    "$$b + \\mathbf{w}^𝑇 \\cdot \\mathbf{x}^{(𝑖)} \\ge 1  - \\xi^{(i)}\\quad \\text{if } 𝑦^{(𝑖)} = 1$$\n",
    "\n",
    "$$b + \\mathbf{w}^𝑇 \\cdot \\mathbf{x}^{(𝑖)} \\le -1  + \\xi^{(i)}\\quad \\text{if } 𝑦^{(𝑖)} = -1$$\n",
    "\n",
    "So, the new objective to be minimized (subject to the contraints) becomes\n",
    "\n",
    "\\begin{equation}\n",
    "\\frac{1}{2} \\vert\\vert \\mathbf{w} \\vert\\vert^2 + C \\left( \\sum_i \\xi^{(i)} \\right)\n",
    "\\end{equation}\n",
    "\n",
    "Via the variable, C, we can then control the penalty for misclassification. Large\n",
    "values of C correspond to large error penalties, whereas we are less strict about\n",
    "misclassification errors if we choose smaller values for C. We can then use the C\n",
    "parameter to control the width of the margin and therefore tune the bias-variance\n",
    "tradeoff."
   ]
  },
  {
   "cell_type": "markdown",
   "metadata": {},
   "source": [
    "![image.png](./pic/chapter-4-3_pic_2.png)"
   ]
  },
  {
   "cell_type": "markdown",
   "metadata": {},
   "source": [
    "## Example"
   ]
  },
  {
   "cell_type": "code",
   "execution_count": 1,
   "metadata": {},
   "outputs": [],
   "source": [
    "# This section carries out calculations for the example in Table 5.2 of Chapter 5 Hull J. C."
   ]
  },
  {
   "cell_type": "code",
   "execution_count": 15,
   "metadata": {},
   "outputs": [],
   "source": [
    "from sklearn.svm import LinearSVC\n",
    "from sklearn.svm import SVC\n",
    "import pandas as pd \n",
    "import numpy as np\n",
    "import matplotlib.pyplot as plt"
   ]
  },
  {
   "cell_type": "code",
   "execution_count": 42,
   "metadata": {},
   "outputs": [],
   "source": [
    "Income = pd.DataFrame([30, 55, 63, 35, 28, 140, 100, 95, 64, 63])\n",
    "Credit = pd.DataFrame([40, 30, 30, 80, 100, 30, 30, 90, 120, 150])\n",
    "Loan   = pd.DataFrame([0, 0, 0, 0, 0, 1, 1, 1, 1, 1])\n",
    "\n",
    "c = []\n",
    "for x in Loan[0]:\n",
    "    if x == 0: \n",
    "        cc='red'\n",
    "    else:    \n",
    "        cc='green'\n",
    "    c.append(cc)"
   ]
  },
  {
   "cell_type": "code",
   "execution_count": 43,
   "metadata": {},
   "outputs": [
    {
     "data": {
      "image/png": "[encoded data removed]",
      "text/plain": [
       "<Figure size 720x576 with 1 Axes>"
      ]
     },
     "metadata": {
      "needs_background": "light"
     },
     "output_type": "display_data"
    }
   ],
   "source": [
    "plt.figure(figsize=(10,8))\n",
    "\n",
    "plt.scatter(Income, Credit, c=c)\n",
    "\n",
    "plt.xlabel('Income')\n",
    "plt.ylabel('Adjusted Credit Score')\n",
    "\n",
    "axes = plt.gca()\n",
    "axes.set_xlim([0,160])\n",
    "axes.set_ylim([0,300])\n",
    "\n",
    "plt.show()"
   ]
  },
  {
   "cell_type": "markdown",
   "metadata": {},
   "source": [
    "### Hard Margin Calculation"
   ]
  },
  {
   "cell_type": "code",
   "execution_count": 18,
   "metadata": {},
   "outputs": [
    {
     "data": {
      "text/plain": [
       "array([[ 30,  40],\n",
       "       [ 55,  30],\n",
       "       [ 63,  30],\n",
       "       [ 35,  80],\n",
       "       [ 28, 100],\n",
       "       [140,  30],\n",
       "       [100,  30],\n",
       "       [ 95,  90],\n",
       "       [ 64, 120],\n",
       "       [ 63, 150]], dtype=int64)"
      ]
     },
     "execution_count": 18,
     "metadata": {},
     "output_type": "execute_result"
    }
   ],
   "source": [
    "X = np.asarray(pd.concat([Income, Credit],axis=1))\n",
    "X"
   ]
  },
  {
   "cell_type": "code",
   "execution_count": 20,
   "metadata": {},
   "outputs": [
    {
     "data": {
      "text/plain": [
       "array([0, 0, 0, 0, 0, 1, 1, 1, 1, 1], dtype=int64)"
      ]
     },
     "execution_count": 20,
     "metadata": {},
     "output_type": "execute_result"
    }
   ],
   "source": [
    "y = np.asarray(Loan).ravel()\n",
    "y"
   ]
  },
  {
   "cell_type": "code",
   "execution_count": 21,
   "metadata": {},
   "outputs": [],
   "source": [
    "clf = SVC(kernel='linear',tol=1e-5)"
   ]
  },
  {
   "cell_type": "code",
   "execution_count": 22,
   "metadata": {},
   "outputs": [
    {
     "data": {
      "text/plain": [
       "SVC(kernel='linear', tol=1e-05)"
      ]
     },
     "execution_count": 22,
     "metadata": {},
     "output_type": "execute_result"
    }
   ],
   "source": [
    "clf.fit(X,y)"
   ]
  },
  {
   "cell_type": "code",
   "execution_count": 23,
   "metadata": {},
   "outputs": [
    {
     "name": "stdout",
     "output_type": "stream",
     "text": [
      "[0.05405405 0.02162159]\n",
      "5.054052228526239\n"
     ]
    }
   ],
   "source": [
    "w = clf.coef_[0]\n",
    "b = -clf.intercept_[0]\n",
    "print(w)\n",
    "print(b)"
   ]
  },
  {
   "cell_type": "markdown",
   "metadata": {},
   "source": [
    "The outer lines are $w_1x_1+w_2x_2 = b_u$ and $w_1x_1+w_2x_2=b_d$.  The middle line is $w_1x_1+w_2x_2=b$, where $b_u=b+1$ and $b_d=b-1$.  The width of the path is $\\frac{2}{\\sqrt{w_1^2+w_2^2}}$."
   ]
  },
  {
   "cell_type": "code",
   "execution_count": 45,
   "metadata": {
    "scrolled": false
   },
   "outputs": [
    {
     "data": {
      "image/png": "[encoded data removed]",
      "text/plain": [
       "<Figure size 720x576 with 1 Axes>"
      ]
     },
     "metadata": {
      "needs_background": "light"
     },
     "output_type": "display_data"
    }
   ],
   "source": [
    "x1 = np.linspace(0,160,300)\n",
    "w1 = w[0]\n",
    "w2 = w[1]\n",
    "bu = b+1\n",
    "bd = b-1\n",
    "y1 = (bu-w1*x1)/w2\n",
    "y2 = (bd-w1*x1)/w2\n",
    "y0 = (b-w1*x1)/w2\n",
    "\n",
    "plt.figure(figsize=(10,8))\n",
    "\n",
    "plt.scatter(Income, Credit, c=c, edgecolor='black')\n",
    "\n",
    "plt.plot(x1,y1,'--',color='green')\n",
    "plt.plot(x1,y2,'--',color='green')\n",
    "plt.plot(x1,y0,'-' ,color='blue')\n",
    "\n",
    "plt.xlabel('Income')\n",
    "plt.ylabel('Adjusted Credit Score')\n",
    "\n",
    "axes = plt.gca()\n",
    "axes.set_xlim([0, 160])\n",
    "axes.set_ylim([0, 350])\n",
    "\n",
    "plt.show()"
   ]
  },
  {
   "cell_type": "markdown",
   "metadata": {},
   "source": [
    "### Modification for Soft Margin"
   ]
  },
  {
   "cell_type": "markdown",
   "metadata": {},
   "source": [
    "Note that the objective function of SVC is $C\\sum_{j=1}^n z_j+\\frac{1}{2}\\sum_{j=1}^nw_j^2$.   If our objective function is $C\\sum_{j=1}^n z_j+\\sum_{j=1}^nw_j^2$, then we to set $C=C/2$ in SVC."
   ]
  },
  {
   "cell_type": "code",
   "execution_count": 8,
   "metadata": {},
   "outputs": [
    {
     "data": {
      "text/plain": [
       "SVC(C=0.0005, kernel='linear', tol=1e-05)"
      ]
     },
     "execution_count": 8,
     "metadata": {},
     "output_type": "execute_result"
    }
   ],
   "source": [
    "#We carry out calculations for C=0.0005 which corresponds to C=0.001 in Hull's book. \n",
    "X = np.asarray(pd.concat([Income, Credit],axis=1))\n",
    "y = np.asarray(Loan).ravel()\n",
    "clf = SVC(kernel='linear',C=0.0005,tol=1e-5)\n",
    "clf.fit(X,y)"
   ]
  },
  {
   "cell_type": "code",
   "execution_count": 9,
   "metadata": {},
   "outputs": [
    {
     "name": "stdout",
     "output_type": "stream",
     "text": [
      "[0.03678097 0.0142146 ]\n",
      "3.449391592920354\n"
     ]
    }
   ],
   "source": [
    "w = clf.coef_[0]\n",
    "b = -clf.intercept_[0]\n",
    "print(w)\n",
    "print(b)"
   ]
  },
  {
   "cell_type": "markdown",
   "metadata": {},
   "source": [
    "The outer lines are $w_1x_1+w_2x_2 = b_u$ and $w_1x_1+w_2x_2=b_d$.  The middle line is $w_1x_1+w_2x_2=b$, where $b_u=b+1$ and $b_d=b-1$.  The width of the path is $\\frac{2}{\\sqrt{w_1^2+w_2^2}}$."
   ]
  },
  {
   "cell_type": "code",
   "execution_count": 10,
   "metadata": {
    "scrolled": false
   },
   "outputs": [
    {
     "data": {
      "image/png": "[encoded data removed]",
      "text/plain": [
       "<Figure size 720x576 with 1 Axes>"
      ]
     },
     "metadata": {
      "needs_background": "light"
     },
     "output_type": "display_data"
    }
   ],
   "source": [
    "x1 = np.linspace(0,160,100)\n",
    "w1 = w[0]\n",
    "w2 = w[1]\n",
    "bu = b+1\n",
    "bd = b-1\n",
    "y1 = (bu-w1*x1)/w2\n",
    "y2 = (bd-w1*x1)/w2\n",
    "y0 = (b-w1*x1)/w2\n",
    "plt.figure(figsize=(10,8))\n",
    "plt.scatter(Income, Credit, c=Loan)\n",
    "plt.plot(x1,y1,'--',color='skyblue')\n",
    "plt.plot(x1,y2,'--',color='skyblue')\n",
    "plt.plot(x1,y0,'-')\n",
    "plt.xlabel('Income')\n",
    "plt.ylabel('Adjusted Credit Score')\n",
    "axes = plt.gca()\n",
    "axes.set_xlim([0,160])\n",
    "axes.set_ylim([0, 350])\n",
    "plt.show()"
   ]
  },
  {
   "cell_type": "markdown",
   "metadata": {},
   "source": [
    "For different values of $C$ and find out the loans misclassified as well as width of pathway"
   ]
  },
  {
   "cell_type": "code",
   "execution_count": 11,
   "metadata": {},
   "outputs": [
    {
     "name": "stdout",
     "output_type": "stream",
     "text": [
      "C = 0.0100, w1 = 0.0541, w2 = 0.0216, b =  5.05, Loan Misclassified =   0%, Width =  34.4, Cent Error = 0.0000\n",
      "C = 0.0010, w1 = 0.0368, w2 = 0.0142, b =  3.45, Loan Misclassified =   0%, Width =  50.7, Cent Error = 0.0000\n",
      "C = 0.0005, w1 = 0.0290, w2 = 0.0155, b =  3.15, Loan Misclassified =   0%, Width =  60.9, Cent Error = 0.0000\n",
      "C = 0.0003, w1 = 0.0235, w2 = 0.0151, b =  2.75, Loan Misclassified =   0%, Width =  71.5, Cent Error = 0.0000\n",
      "C = 0.0002, w1 = 0.0193, w2 = 0.0124, b =  2.07, Loan Misclassified =   0%, Width =  87.2, Cent Error = 0.0000\n"
     ]
    }
   ],
   "source": [
    "# The values of C are those in Hull's book. We divide them by 2 to get corresponding values for Sklearn\n",
    "for C in [0.01, 0.001, 0.0005, 0.0003, 0.0002]:\n",
    "    clf = SVC(kernel='linear',C=C/2,tol=1e-6)\n",
    "    clf.fit(X,y)\n",
    "    S = clf.score(X,y)\n",
    "    w = clf.coef_[0]\n",
    "    b = -clf.intercept_[0]\n",
    "    P = 2/np.sqrt(w[0]**2+w[1]**2)\n",
    "    sum = 0\n",
    "    for i in range(len(Income)):\n",
    "        if Loan.iloc[i,0] == 0:\n",
    "            sum += max(w[0] * Income.iloc[i,0] + w[1] * Credit.iloc[i,0] - b,0)\n",
    "        else:\n",
    "            sum += max(b- w[0] * Income.iloc[i,0] - w[1] * Credit.iloc[i,0],0)\n",
    "    print(\"C = %6.4f, w1 = %6.4f, w2 = %6.4f, b = %5.2f, Loan Misclassified = %3.0f%%, Width = %5.1f, Cent Error = %6.4f\" %(C,w[0],w[1],b,100*(1-S),P,sum))"
   ]
  },
  {
   "cell_type": "code",
   "execution_count": 12,
   "metadata": {},
   "outputs": [
    {
     "data": {
      "text/plain": [
       "SVC(C=0.00015, kernel='linear', tol=1e-05)"
      ]
     },
     "execution_count": 12,
     "metadata": {},
     "output_type": "execute_result"
    }
   ],
   "source": [
    "#We carry out calculations for C=0.00015 which corresponds to C=0.0003 in Hull's book. \n",
    "X = np.asarray(pd.concat([Income, Credit],axis=1))\n",
    "y = np.asarray(Loan).ravel()\n",
    "clf = SVC(kernel='linear',C=0.00015,tol=1e-5)\n",
    "clf.fit(X,y)"
   ]
  },
  {
   "cell_type": "code",
   "execution_count": 13,
   "metadata": {},
   "outputs": [
    {
     "name": "stdout",
     "output_type": "stream",
     "text": [
      "[0.02352936 0.015098  ]\n",
      "2.7470513941588437\n"
     ]
    }
   ],
   "source": [
    "w = clf.coef_[0]\n",
    "b = -clf.intercept_[0]\n",
    "print(w)\n",
    "print(b)"
   ]
  },
  {
   "cell_type": "code",
   "execution_count": 14,
   "metadata": {},
   "outputs": [
    {
     "data": {
      "image/png": "[encoded data removed]",
      "text/plain": [
       "<Figure size 720x576 with 1 Axes>"
      ]
     },
     "metadata": {
      "needs_background": "light"
     },
     "output_type": "display_data"
    }
   ],
   "source": [
    "x1 = np.linspace(0,160,100)\n",
    "w1 = w[0]\n",
    "w2 = w[1]\n",
    "bu = b+1\n",
    "bd = b-1\n",
    "y1 = (bu-w1*x1)/w2\n",
    "y2 = (bd-w1*x1)/w2\n",
    "y0 = (b-w1*x1)/w2\n",
    "plt.figure(figsize=(10,8))\n",
    "plt.scatter(Income, Credit, c=Loan)\n",
    "plt.plot(x1,y1,'--',color='skyblue')\n",
    "plt.plot(x1,y2,'--',color='skyblue')\n",
    "plt.plot(x1,y0,'-')\n",
    "plt.xlabel('Income')\n",
    "plt.ylabel('Adjusted Credit Score')\n",
    "axes = plt.gca()\n",
    "axes.set_xlim([0,160])\n",
    "axes.set_ylim([0, 350])\n",
    "plt.show()"
   ]
  }
 ],
 "metadata": {
  "kernelspec": {
   "display_name": "Python 3",
   "language": "python",
   "name": "python3"
  },
  "language_info": {
   "codemirror_mode": {
    "name": "ipython",
    "version": 3
   },
   "file_extension": ".py",
   "mimetype": "text/x-python",
   "name": "python",
   "nbconvert_exporter": "python",
   "pygments_lexer": "ipython3",
   "version": "3.8.8"
  },
  "toc": {
   "base_numbering": "8",
   "nav_menu": {},
   "number_sections": true,
   "sideBar": true,
   "skip_h1_title": false,
   "title_cell": "Table of Contents",
   "title_sidebar": "Contents",
   "toc_cell": false,
   "toc_position": {
    "height": "calc(100% - 180px)",
    "left": "10px",
    "top": "150px",
    "width": "331px"
   },
   "toc_section_display": true,
   "toc_window_display": false
  }
 },
 "nbformat": 4,
 "nbformat_minor": 4
}

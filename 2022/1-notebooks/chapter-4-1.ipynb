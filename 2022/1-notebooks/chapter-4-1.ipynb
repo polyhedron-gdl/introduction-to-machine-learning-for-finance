{
 "cells": [
  {
   "cell_type": "markdown",
   "metadata": {},
   "source": [
    "<table align=\"left\">\n",
    "  <td>\n",
    "    <a target=\"_blank\" href=\"https://colab.research.google.com/github/polyhedron-gdl/introduction-to-machine-learning-for-finance/blob/main/2022/1-notebooks/chapter-4-1.ipynb\">\n",
    "        <img src=\"https://www.tensorflow.org/images/colab_logo_32px.png\" />Run in Google Colab</a>\n",
    "  </td>\n",
    "</table>"
   ]
  },
  {
   "cell_type": "markdown",
   "metadata": {},
   "source": [
    "# Supervised Models: Linear and Logistic Regression"
   ]
  },
  {
   "cell_type": "markdown",
   "metadata": {},
   "source": [
    "## Linear Regression"
   ]
  },
  {
   "cell_type": "markdown",
   "metadata": {},
   "source": [
    "Despite its simplicity, a good understanding of linear regression is prerequisite for understanding how more advanced models work. Generally speaking, a linear model makes a prediction by simply computing a weighted\n",
    "sum of the input features, plus a constant called the *bias* term (also called the *intercept*\n",
    "term):\n",
    "\n",
    "\\begin{equation}\n",
    "Y = a + b_1 X_1 + b_2 X_2 + \\dots + b_m X_m + \\epsilon\n",
    "\\end{equation}\n",
    "\n",
    "where:\n",
    "\n",
    "- $Y$ is the predicted value (the value of the target);\n",
    "- $m$ is the number of features;\n",
    "- $X_i$ is the $i^{th}$ feature value that are used to predict $Y$;\n",
    "- $a$ and $b_j$ are the $j^{th}$ model parameters ($a$ being the bias term and $b_i$ the weights)\n",
    "- $\\epsilon$ is the predicton error.\n",
    "\n",
    "As usual the parameters $a$ and $b_i$ are chosen to minimize the mean squared error over the training data set. \n",
    "\n",
    "This means that the task in linear regression is to find values for $a$ and $b_i$ that minimize\n",
    "\n",
    "\\begin{equation}\n",
    "\\frac{1}{n} \\sum\\limits_{i=1}^n \\left( Y - a - b_1 X_{i1} - b_2 X_{i2} - \\dots - b_m X_{im} \\right)^2\n",
    "\\end{equation}\n",
    "\n",
    "where $n$ is the size of the training set. \n",
    "\n",
    "Training a model means setting its parameters so that the model best fits the training set. For this purpose, we first need a measure of how well (or poorly) the model fits the training data. The most common performance measure of a regression model is the Root Mean Square Error (RMSE), therefore, to train a Linear Regression model, you need to find the value of $\\theta$ that minimizes the RMSE. In practice, it is simpler to minimize the Mean Square Error (MSE) than the RMSE, and it leads to the same result.\n"
   ]
  },
  {
   "cell_type": "markdown",
   "metadata": {},
   "source": [
    "## Example 1 - Predicting Iowa House Prices (from Kaggle)"
   ]
  },
  {
   "cell_type": "code",
   "execution_count": 14,
   "metadata": {},
   "outputs": [],
   "source": [
    "# loading packages \n",
    "\n",
    "import os\n",
    "\n",
    "import pandas as pd\n",
    "import numpy as np\n",
    "\n",
    "# plotting packages\n",
    "%matplotlib inline\n",
    "from mpl_toolkits.mplot3d import Axes3D\n",
    "import matplotlib.pyplot as plt\n",
    "import matplotlib.cm as cm\n",
    "import matplotlib.colors as clrs\n",
    "\n",
    "# Kmeans algorithm from scikit-learn\n",
    "from sklearn.cluster import KMeans\n",
    "from sklearn.metrics import silhouette_samples, silhouette_score"
   ]
  },
  {
   "cell_type": "markdown",
   "metadata": {},
   "source": [
    "#### The Problem\n",
    "\n",
    "The objective is to predict the prices of house in Iowa from features. We have 800 observations in training set, 600 in validation set, and 508 in test set"
   ]
  },
  {
   "cell_type": "markdown",
   "metadata": {},
   "source": [
    "#### Categorical Features (See Chapter 2-1)\n",
    "\n",
    "Categorical features are features where there are a number of non-numerical alternatives. We can define a dummy variable for each alternative. The variable equals 1 if the alternative is true and zero otherwise. This is known as **one-hot encoding**.\n",
    "But sometimes we do not have to do this because there is a natural ordering of variables. For example in this problem one of the categorical features is concerned with the basement quality as indicated by the ceiling height. The categories are:\n",
    "\n",
    "- *Excellent (< 100 inches)*\n",
    "- *Good (90-99 inches)*\n",
    "- *Typical (80-89 inches)*\n",
    "- *Fair (70-79 inches)*\n",
    "- *Poor (< 70 inches)*\n",
    "- *No Basement*\n",
    "\n",
    "This is an example of a categorical variable where *there is* a natural ordering. We created a new variable that had a values of 5, 4, 3, 2, 1 and 0 for the above six categories respectively.\n",
    "\n",
    "The other categorical features specifies the location of the house as in one of 25 neighborhoods. We introduce 25 dummy variables with a one-hot encoding. The dummy variable equals one for an observation if the neighborhood is that in which the house is located and zero otherwise."
   ]
  },
  {
   "cell_type": "markdown",
   "metadata": {},
   "source": [
    "#### Loading data (J. C. Hull, 2019, Chapter 3)"
   ]
  },
  {
   "cell_type": "markdown",
   "metadata": {},
   "source": [
    "To illustrate the regression techniques discussed in this chapter we will use a total of 48 feature. 21 are numerical and two are categorical and to this we had, as discussed above, 25 categorical variables for the neighborhoods. "
   ]
  },
  {
   "cell_type": "code",
   "execution_count": 15,
   "metadata": {},
   "outputs": [],
   "source": [
    "#\n",
    "# upload file 'Houseprice_data_scaled.csv'\n",
    "#\n",
    "if 'google.colab' in str(get_ipython()):\n",
    "    from google.colab import files\n",
    "    uploaded = files.upload()\n",
    "    path = ''\n",
    "else:\n",
    "    path = './data/'"
   ]
  },
  {
   "cell_type": "code",
   "execution_count": 16,
   "metadata": {},
   "outputs": [
    {
     "data": {
      "text/html": [
       "<div>\n",
       "<style scoped>\n",
       "    .dataframe tbody tr th:only-of-type {\n",
       "        vertical-align: middle;\n",
       "    }\n",
       "\n",
       "    .dataframe tbody tr th {\n",
       "        vertical-align: top;\n",
       "    }\n",
       "\n",
       "    .dataframe thead th {\n",
       "        text-align: right;\n",
       "    }\n",
       "</style>\n",
       "<table border=\"1\" class=\"dataframe\">\n",
       "  <thead>\n",
       "    <tr style=\"text-align: right;\">\n",
       "      <th></th>\n",
       "      <th>LotArea</th>\n",
       "      <th>OverallQual</th>\n",
       "      <th>OverallCond</th>\n",
       "      <th>YearBuilt</th>\n",
       "      <th>YearRemodAdd</th>\n",
       "      <th>BsmtFinSF1</th>\n",
       "      <th>BsmtUnfSF</th>\n",
       "      <th>TotalBsmtSF</th>\n",
       "      <th>1stFlrSF</th>\n",
       "      <th>2ndFlrSF</th>\n",
       "      <th>...</th>\n",
       "      <th>OLDTown</th>\n",
       "      <th>SWISU</th>\n",
       "      <th>Sawyer</th>\n",
       "      <th>SawyerW</th>\n",
       "      <th>Somerst</th>\n",
       "      <th>StoneBr</th>\n",
       "      <th>Timber</th>\n",
       "      <th>Veenker</th>\n",
       "      <th>Bsmt Qual</th>\n",
       "      <th>Sale Price</th>\n",
       "    </tr>\n",
       "  </thead>\n",
       "  <tbody>\n",
       "    <tr>\n",
       "      <th>0</th>\n",
       "      <td>-0.199572</td>\n",
       "      <td>0.652747</td>\n",
       "      <td>-0.512407</td>\n",
       "      <td>1.038851</td>\n",
       "      <td>0.875754</td>\n",
       "      <td>0.597837</td>\n",
       "      <td>-0.937245</td>\n",
       "      <td>-0.482464</td>\n",
       "      <td>-0.808820</td>\n",
       "      <td>1.203988</td>\n",
       "      <td>...</td>\n",
       "      <td>-0.286942</td>\n",
       "      <td>-0.136621</td>\n",
       "      <td>-0.2253</td>\n",
       "      <td>-0.214192</td>\n",
       "      <td>-0.268378</td>\n",
       "      <td>-0.127929</td>\n",
       "      <td>-0.152629</td>\n",
       "      <td>-0.091644</td>\n",
       "      <td>0.584308</td>\n",
       "      <td>0.358489</td>\n",
       "    </tr>\n",
       "    <tr>\n",
       "      <th>1</th>\n",
       "      <td>-0.072005</td>\n",
       "      <td>-0.072527</td>\n",
       "      <td>2.189741</td>\n",
       "      <td>0.136810</td>\n",
       "      <td>-0.432225</td>\n",
       "      <td>1.218528</td>\n",
       "      <td>-0.635042</td>\n",
       "      <td>0.490326</td>\n",
       "      <td>0.276358</td>\n",
       "      <td>-0.789421</td>\n",
       "      <td>...</td>\n",
       "      <td>-0.286942</td>\n",
       "      <td>-0.136621</td>\n",
       "      <td>-0.2253</td>\n",
       "      <td>-0.214192</td>\n",
       "      <td>-0.268378</td>\n",
       "      <td>-0.127929</td>\n",
       "      <td>-0.152629</td>\n",
       "      <td>10.905682</td>\n",
       "      <td>0.584308</td>\n",
       "      <td>0.008849</td>\n",
       "    </tr>\n",
       "    <tr>\n",
       "      <th>2</th>\n",
       "      <td>0.111026</td>\n",
       "      <td>0.652747</td>\n",
       "      <td>-0.512407</td>\n",
       "      <td>0.972033</td>\n",
       "      <td>0.827310</td>\n",
       "      <td>0.095808</td>\n",
       "      <td>-0.296754</td>\n",
       "      <td>-0.329118</td>\n",
       "      <td>-0.637758</td>\n",
       "      <td>1.231999</td>\n",
       "      <td>...</td>\n",
       "      <td>-0.286942</td>\n",
       "      <td>-0.136621</td>\n",
       "      <td>-0.2253</td>\n",
       "      <td>-0.214192</td>\n",
       "      <td>-0.268378</td>\n",
       "      <td>-0.127929</td>\n",
       "      <td>-0.152629</td>\n",
       "      <td>-0.091644</td>\n",
       "      <td>0.584308</td>\n",
       "      <td>0.552733</td>\n",
       "    </tr>\n",
       "    <tr>\n",
       "      <th>3</th>\n",
       "      <td>-0.077551</td>\n",
       "      <td>0.652747</td>\n",
       "      <td>-0.512407</td>\n",
       "      <td>-1.901135</td>\n",
       "      <td>-0.722887</td>\n",
       "      <td>-0.520319</td>\n",
       "      <td>-0.057698</td>\n",
       "      <td>-0.722067</td>\n",
       "      <td>-0.528171</td>\n",
       "      <td>0.975236</td>\n",
       "      <td>...</td>\n",
       "      <td>-0.286942</td>\n",
       "      <td>-0.136621</td>\n",
       "      <td>-0.2253</td>\n",
       "      <td>-0.214192</td>\n",
       "      <td>-0.268378</td>\n",
       "      <td>-0.127929</td>\n",
       "      <td>-0.152629</td>\n",
       "      <td>-0.091644</td>\n",
       "      <td>-0.577852</td>\n",
       "      <td>-0.528560</td>\n",
       "    </tr>\n",
       "    <tr>\n",
       "      <th>4</th>\n",
       "      <td>0.444919</td>\n",
       "      <td>1.378022</td>\n",
       "      <td>-0.512407</td>\n",
       "      <td>0.938624</td>\n",
       "      <td>0.730423</td>\n",
       "      <td>0.481458</td>\n",
       "      <td>-0.170461</td>\n",
       "      <td>0.209990</td>\n",
       "      <td>-0.036366</td>\n",
       "      <td>1.668495</td>\n",
       "      <td>...</td>\n",
       "      <td>-0.286942</td>\n",
       "      <td>-0.136621</td>\n",
       "      <td>-0.2253</td>\n",
       "      <td>-0.214192</td>\n",
       "      <td>-0.268378</td>\n",
       "      <td>-0.127929</td>\n",
       "      <td>-0.152629</td>\n",
       "      <td>-0.091644</td>\n",
       "      <td>0.584308</td>\n",
       "      <td>0.895898</td>\n",
       "    </tr>\n",
       "  </tbody>\n",
       "</table>\n",
       "<p>5 rows × 48 columns</p>\n",
       "</div>"
      ],
      "text/plain": [
       "    LotArea  OverallQual  OverallCond  YearBuilt  YearRemodAdd  BsmtFinSF1  \\\n",
       "0 -0.199572     0.652747    -0.512407   1.038851      0.875754    0.597837   \n",
       "1 -0.072005    -0.072527     2.189741   0.136810     -0.432225    1.218528   \n",
       "2  0.111026     0.652747    -0.512407   0.972033      0.827310    0.095808   \n",
       "3 -0.077551     0.652747    -0.512407  -1.901135     -0.722887   -0.520319   \n",
       "4  0.444919     1.378022    -0.512407   0.938624      0.730423    0.481458   \n",
       "\n",
       "   BsmtUnfSF  TotalBsmtSF  1stFlrSF  2ndFlrSF  ...   OLDTown     SWISU  \\\n",
       "0  -0.937245    -0.482464 -0.808820  1.203988  ... -0.286942 -0.136621   \n",
       "1  -0.635042     0.490326  0.276358 -0.789421  ... -0.286942 -0.136621   \n",
       "2  -0.296754    -0.329118 -0.637758  1.231999  ... -0.286942 -0.136621   \n",
       "3  -0.057698    -0.722067 -0.528171  0.975236  ... -0.286942 -0.136621   \n",
       "4  -0.170461     0.209990 -0.036366  1.668495  ... -0.286942 -0.136621   \n",
       "\n",
       "   Sawyer   SawyerW   Somerst   StoneBr    Timber    Veenker  Bsmt Qual  \\\n",
       "0 -0.2253 -0.214192 -0.268378 -0.127929 -0.152629  -0.091644   0.584308   \n",
       "1 -0.2253 -0.214192 -0.268378 -0.127929 -0.152629  10.905682   0.584308   \n",
       "2 -0.2253 -0.214192 -0.268378 -0.127929 -0.152629  -0.091644   0.584308   \n",
       "3 -0.2253 -0.214192 -0.268378 -0.127929 -0.152629  -0.091644  -0.577852   \n",
       "4 -0.2253 -0.214192 -0.268378 -0.127929 -0.152629  -0.091644   0.584308   \n",
       "\n",
       "   Sale Price  \n",
       "0    0.358489  \n",
       "1    0.008849  \n",
       "2    0.552733  \n",
       "3   -0.528560  \n",
       "4    0.895898  \n",
       "\n",
       "[5 rows x 48 columns]"
      ]
     },
     "execution_count": 16,
     "metadata": {},
     "output_type": "execute_result"
    }
   ],
   "source": [
    "# Both features and target have already been scaled: mean = 0; SD = 1\n",
    "data = pd.read_csv(path + 'Houseprice_data_scaled.csv') \n",
    "data.head()"
   ]
  },
  {
   "cell_type": "markdown",
   "metadata": {},
   "source": [
    "First of all check how many records we have"
   ]
  },
  {
   "cell_type": "code",
   "execution_count": 17,
   "metadata": {},
   "outputs": [
    {
     "name": "stdout",
     "output_type": "stream",
     "text": [
      "Number of available data = 2908\n"
     ]
    }
   ],
   "source": [
    "print(\"Number of available data = \"  + str(len(data.index)))"
   ]
  },
  {
   "cell_type": "markdown",
   "metadata": {},
   "source": [
    "Before starting we emphasize the need to divide all available data into three parts: a **training set**, a **validation set** and a **test set**. The training set is used to determine parameters for trial models. The validation set is used to determine the extent to which the models created from the training set generalize to new data. Finally, the test set is used as a final estimate of the accuracy of the chosen model. \n",
    "\n",
    "We had 2908 observations. We split this as follows: 1800 in the training set, 600 in the validation set and 508 in the test set."
   ]
  },
  {
   "cell_type": "code",
   "execution_count": 18,
   "metadata": {},
   "outputs": [],
   "source": [
    "# First 1800 data items are training set; the next 600 are the validation set\n",
    "train = data.iloc[:1800] \n",
    "val = data.iloc[1800:2400]"
   ]
  },
  {
   "cell_type": "markdown",
   "metadata": {},
   "source": [
    "We now procede to create **labels** and **features**. As we have already said, the labels are the values of the target that is to be predicted, in this case the 'Sale Price', and we indicate that whit 'y':"
   ]
  },
  {
   "cell_type": "code",
   "execution_count": 19,
   "metadata": {},
   "outputs": [],
   "source": [
    "y_train, y_val = train[['Sale Price']], val[['Sale Price']] "
   ]
  },
  {
   "cell_type": "markdown",
   "metadata": {},
   "source": [
    "The features and dummy variables were scaled using the Z-score method. Also the target values (i.e. the house prices) have been scaled with the Z-score method. The features are the variables from which the predictions are to be made and, in this case, can be obtained simply dropping the column 'Sale Price' from our dataset:"
   ]
  },
  {
   "cell_type": "code",
   "execution_count": 20,
   "metadata": {},
   "outputs": [],
   "source": [
    "X_train, X_val = train.drop('Sale Price', axis=1), val.drop('Sale Price', axis=1)"
   ]
  },
  {
   "cell_type": "code",
   "execution_count": 21,
   "metadata": {},
   "outputs": [
    {
     "data": {
      "text/plain": [
       "Index(['LotArea', 'OverallQual', 'OverallCond', 'YearBuilt', 'YearRemodAdd',\n",
       "       'BsmtFinSF1', 'BsmtUnfSF', 'TotalBsmtSF', '1stFlrSF', '2ndFlrSF',\n",
       "       'GrLivArea', 'FullBath', 'HalfBath', 'BedroomAbvGr', 'TotRmsAbvGrd',\n",
       "       'Fireplaces', 'GarageCars', 'GarageArea', 'WoodDeckSF', 'OpenPorchSF',\n",
       "       'EnclosedPorch', 'Blmngtn', 'Blueste', 'BrDale', 'BrkSide', 'ClearCr',\n",
       "       'CollgCr', 'Crawfor', 'Edwards', 'Gilbert', 'IDOTRR', 'MeadowV',\n",
       "       'Mitchel', 'Names', 'NoRidge', 'NPkVill', 'NriddgHt', 'NWAmes',\n",
       "       'OLDTown', 'SWISU', 'Sawyer', 'SawyerW', 'Somerst', 'StoneBr', 'Timber',\n",
       "       'Veenker', 'Bsmt Qual'],\n",
       "      dtype='object')"
      ]
     },
     "execution_count": 21,
     "metadata": {},
     "output_type": "execute_result"
    }
   ],
   "source": [
    "X_train.columns"
   ]
  },
  {
   "cell_type": "markdown",
   "metadata": {},
   "source": [
    "#### Linear Regression with sklearn"
   ]
  },
  {
   "cell_type": "code",
   "execution_count": 22,
   "metadata": {},
   "outputs": [],
   "source": [
    "# Importing models\n",
    "from sklearn.linear_model import LinearRegression\n",
    "from sklearn.metrics import mean_squared_error as mse"
   ]
  },
  {
   "cell_type": "code",
   "execution_count": 23,
   "metadata": {},
   "outputs": [
    {
     "data": {
      "text/plain": [
       "LinearRegression()"
      ]
     },
     "execution_count": 23,
     "metadata": {},
     "output_type": "execute_result"
    }
   ],
   "source": [
    "lr = LinearRegression()\n",
    "lr.fit(X_train,y_train)"
   ]
  },
  {
   "cell_type": "code",
   "execution_count": 24,
   "metadata": {},
   "outputs": [
    {
     "data": {
      "text/plain": [
       "array([-67.80317104])"
      ]
     },
     "execution_count": 24,
     "metadata": {},
     "output_type": "execute_result"
    }
   ],
   "source": [
    "lr.intercept_"
   ]
  },
  {
   "cell_type": "code",
   "execution_count": 25,
   "metadata": {},
   "outputs": [
    {
     "data": {
      "text/html": [
       "<div>\n",
       "<style scoped>\n",
       "    .dataframe tbody tr th:only-of-type {\n",
       "        vertical-align: middle;\n",
       "    }\n",
       "\n",
       "    .dataframe tbody tr th {\n",
       "        vertical-align: top;\n",
       "    }\n",
       "\n",
       "    .dataframe thead th {\n",
       "        text-align: right;\n",
       "    }\n",
       "</style>\n",
       "<table border=\"1\" class=\"dataframe\">\n",
       "  <thead>\n",
       "    <tr style=\"text-align: right;\">\n",
       "      <th></th>\n",
       "      <th>0</th>\n",
       "      <th>1</th>\n",
       "      <th>2</th>\n",
       "      <th>3</th>\n",
       "      <th>4</th>\n",
       "      <th>5</th>\n",
       "      <th>6</th>\n",
       "      <th>7</th>\n",
       "      <th>8</th>\n",
       "      <th>9</th>\n",
       "      <th>...</th>\n",
       "      <th>38</th>\n",
       "      <th>39</th>\n",
       "      <th>40</th>\n",
       "      <th>41</th>\n",
       "      <th>42</th>\n",
       "      <th>43</th>\n",
       "      <th>44</th>\n",
       "      <th>45</th>\n",
       "      <th>46</th>\n",
       "      <th>47</th>\n",
       "    </tr>\n",
       "  </thead>\n",
       "  <tbody>\n",
       "    <tr>\n",
       "      <th>0</th>\n",
       "      <td>intercept</td>\n",
       "      <td>LotArea</td>\n",
       "      <td>OverallQual</td>\n",
       "      <td>OverallCond</td>\n",
       "      <td>YearBuilt</td>\n",
       "      <td>YearRemodAdd</td>\n",
       "      <td>BsmtFinSF1</td>\n",
       "      <td>BsmtUnfSF</td>\n",
       "      <td>TotalBsmtSF</td>\n",
       "      <td>1stFlrSF</td>\n",
       "      <td>...</td>\n",
       "      <td>NWAmes</td>\n",
       "      <td>OLDTown</td>\n",
       "      <td>SWISU</td>\n",
       "      <td>Sawyer</td>\n",
       "      <td>SawyerW</td>\n",
       "      <td>Somerst</td>\n",
       "      <td>StoneBr</td>\n",
       "      <td>Timber</td>\n",
       "      <td>Veenker</td>\n",
       "      <td>Bsmt Qual</td>\n",
       "    </tr>\n",
       "    <tr>\n",
       "      <th>1</th>\n",
       "      <td>-67.803171</td>\n",
       "      <td>0.07895</td>\n",
       "      <td>0.214535</td>\n",
       "      <td>0.096406</td>\n",
       "      <td>0.160694</td>\n",
       "      <td>0.025279</td>\n",
       "      <td>0.091253</td>\n",
       "      <td>-0.033319</td>\n",
       "      <td>0.138197</td>\n",
       "      <td>0.152663</td>\n",
       "      <td>...</td>\n",
       "      <td>-169002100997.478638</td>\n",
       "      <td>-204553438461.897186</td>\n",
       "      <td>-103484575079.148849</td>\n",
       "      <td>-165439300001.57016</td>\n",
       "      <td>-158017198153.675934</td>\n",
       "      <td>-193160539336.459869</td>\n",
       "      <td>-97119995960.772537</td>\n",
       "      <td>-115086723047.832458</td>\n",
       "      <td>-70123747244.156418</td>\n",
       "      <td>0.011422</td>\n",
       "    </tr>\n",
       "  </tbody>\n",
       "</table>\n",
       "<p>2 rows × 48 columns</p>\n",
       "</div>"
      ],
      "text/plain": [
       "          0        1            2            3          4             5   \\\n",
       "0  intercept  LotArea  OverallQual  OverallCond  YearBuilt  YearRemodAdd   \n",
       "1 -67.803171  0.07895     0.214535     0.096406   0.160694      0.025279   \n",
       "\n",
       "           6          7            8         9   ...                   38  \\\n",
       "0  BsmtFinSF1  BsmtUnfSF  TotalBsmtSF  1stFlrSF  ...               NWAmes   \n",
       "1    0.091253  -0.033319     0.138197  0.152663  ... -169002100997.478638   \n",
       "\n",
       "                    39                   40                  41  \\\n",
       "0              OLDTown                SWISU              Sawyer   \n",
       "1 -204553438461.897186 -103484575079.148849 -165439300001.57016   \n",
       "\n",
       "                    42                   43                  44  \\\n",
       "0              SawyerW              Somerst             StoneBr   \n",
       "1 -158017198153.675934 -193160539336.459869 -97119995960.772537   \n",
       "\n",
       "                    45                  46         47  \n",
       "0               Timber             Veenker  Bsmt Qual  \n",
       "1 -115086723047.832458 -70123747244.156418   0.011422  \n",
       "\n",
       "[2 rows x 48 columns]"
      ]
     },
     "execution_count": 25,
     "metadata": {},
     "output_type": "execute_result"
    }
   ],
   "source": [
    "coeffs = pd.DataFrame(\n",
    "    [\n",
    "        ['intercept'] + list(X_train.columns),\n",
    "        list(lr.intercept_) + list(lr.coef_[0])\n",
    "    ]\n",
    ")\n",
    "coeffs"
   ]
  },
  {
   "cell_type": "code",
   "execution_count": 26,
   "metadata": {},
   "outputs": [
    {
     "data": {
      "text/html": [
       "<div>\n",
       "<style scoped>\n",
       "    .dataframe tbody tr th:only-of-type {\n",
       "        vertical-align: middle;\n",
       "    }\n",
       "\n",
       "    .dataframe tbody tr th {\n",
       "        vertical-align: top;\n",
       "    }\n",
       "\n",
       "    .dataframe thead th {\n",
       "        text-align: right;\n",
       "    }\n",
       "</style>\n",
       "<table border=\"1\" class=\"dataframe\">\n",
       "  <thead>\n",
       "    <tr style=\"text-align: right;\">\n",
       "      <th></th>\n",
       "      <th>1</th>\n",
       "    </tr>\n",
       "    <tr>\n",
       "      <th>0</th>\n",
       "      <th></th>\n",
       "    </tr>\n",
       "  </thead>\n",
       "  <tbody>\n",
       "    <tr>\n",
       "      <th>intercept</th>\n",
       "      <td>-67.803171</td>\n",
       "    </tr>\n",
       "    <tr>\n",
       "      <th>LotArea</th>\n",
       "      <td>0.07895</td>\n",
       "    </tr>\n",
       "    <tr>\n",
       "      <th>OverallQual</th>\n",
       "      <td>0.214535</td>\n",
       "    </tr>\n",
       "    <tr>\n",
       "      <th>OverallCond</th>\n",
       "      <td>0.096406</td>\n",
       "    </tr>\n",
       "    <tr>\n",
       "      <th>YearBuilt</th>\n",
       "      <td>0.160694</td>\n",
       "    </tr>\n",
       "    <tr>\n",
       "      <th>YearRemodAdd</th>\n",
       "      <td>0.025279</td>\n",
       "    </tr>\n",
       "    <tr>\n",
       "      <th>BsmtFinSF1</th>\n",
       "      <td>0.091253</td>\n",
       "    </tr>\n",
       "    <tr>\n",
       "      <th>BsmtUnfSF</th>\n",
       "      <td>-0.033319</td>\n",
       "    </tr>\n",
       "    <tr>\n",
       "      <th>TotalBsmtSF</th>\n",
       "      <td>0.138197</td>\n",
       "    </tr>\n",
       "    <tr>\n",
       "      <th>1stFlrSF</th>\n",
       "      <td>0.152663</td>\n",
       "    </tr>\n",
       "    <tr>\n",
       "      <th>2ndFlrSF</th>\n",
       "      <td>0.132287</td>\n",
       "    </tr>\n",
       "    <tr>\n",
       "      <th>GrLivArea</th>\n",
       "      <td>0.161733</td>\n",
       "    </tr>\n",
       "    <tr>\n",
       "      <th>FullBath</th>\n",
       "      <td>-0.020709</td>\n",
       "    </tr>\n",
       "    <tr>\n",
       "      <th>HalfBath</th>\n",
       "      <td>0.017355</td>\n",
       "    </tr>\n",
       "    <tr>\n",
       "      <th>BedroomAbvGr</th>\n",
       "      <td>-0.083391</td>\n",
       "    </tr>\n",
       "    <tr>\n",
       "      <th>TotRmsAbvGrd</th>\n",
       "      <td>0.082959</td>\n",
       "    </tr>\n",
       "    <tr>\n",
       "      <th>Fireplaces</th>\n",
       "      <td>0.028257</td>\n",
       "    </tr>\n",
       "    <tr>\n",
       "      <th>GarageCars</th>\n",
       "      <td>0.037931</td>\n",
       "    </tr>\n",
       "    <tr>\n",
       "      <th>GarageArea</th>\n",
       "      <td>0.051867</td>\n",
       "    </tr>\n",
       "    <tr>\n",
       "      <th>WoodDeckSF</th>\n",
       "      <td>0.02086</td>\n",
       "    </tr>\n",
       "    <tr>\n",
       "      <th>OpenPorchSF</th>\n",
       "      <td>0.034094</td>\n",
       "    </tr>\n",
       "    <tr>\n",
       "      <th>EnclosedPorch</th>\n",
       "      <td>0.00691</td>\n",
       "    </tr>\n",
       "    <tr>\n",
       "      <th>Blmngtn</th>\n",
       "      <td>-78833196456.081238</td>\n",
       "    </tr>\n",
       "    <tr>\n",
       "      <th>Blueste</th>\n",
       "      <td>-36323152817.364555</td>\n",
       "    </tr>\n",
       "    <tr>\n",
       "      <th>BrDale</th>\n",
       "      <td>-80858443127.398987</td>\n",
       "    </tr>\n",
       "    <tr>\n",
       "      <th>BrkSide</th>\n",
       "      <td>-146028309892.945068</td>\n",
       "    </tr>\n",
       "    <tr>\n",
       "      <th>ClearCr</th>\n",
       "      <td>-101933396524.536728</td>\n",
       "    </tr>\n",
       "    <tr>\n",
       "      <th>CollgCr</th>\n",
       "      <td>-218280779469.644714</td>\n",
       "    </tr>\n",
       "    <tr>\n",
       "      <th>Crawfor</th>\n",
       "      <td>-132763727261.906097</td>\n",
       "    </tr>\n",
       "    <tr>\n",
       "      <th>Edwards</th>\n",
       "      <td>-184773664083.184784</td>\n",
       "    </tr>\n",
       "    <tr>\n",
       "      <th>Gilbert</th>\n",
       "      <td>-183986275873.286102</td>\n",
       "    </tr>\n",
       "    <tr>\n",
       "      <th>IDOTRR</th>\n",
       "      <td>-113706870202.942169</td>\n",
       "    </tr>\n",
       "    <tr>\n",
       "      <th>MeadowV</th>\n",
       "      <td>-82831971362.529282</td>\n",
       "    </tr>\n",
       "    <tr>\n",
       "      <th>Mitchel</th>\n",
       "      <td>-140676354953.179871</td>\n",
       "    </tr>\n",
       "    <tr>\n",
       "      <th>Names</th>\n",
       "      <td>-287095454445.70874</td>\n",
       "    </tr>\n",
       "    <tr>\n",
       "      <th>NoRidge</th>\n",
       "      <td>-123009955980.225006</td>\n",
       "    </tr>\n",
       "    <tr>\n",
       "      <th>NPkVill</th>\n",
       "      <td>-74610595879.246017</td>\n",
       "    </tr>\n",
       "    <tr>\n",
       "      <th>NriddgHt</th>\n",
       "      <td>-182398282226.809845</td>\n",
       "    </tr>\n",
       "    <tr>\n",
       "      <th>NWAmes</th>\n",
       "      <td>-169002100997.478638</td>\n",
       "    </tr>\n",
       "    <tr>\n",
       "      <th>OLDTown</th>\n",
       "      <td>-204553438461.897186</td>\n",
       "    </tr>\n",
       "    <tr>\n",
       "      <th>SWISU</th>\n",
       "      <td>-103484575079.148849</td>\n",
       "    </tr>\n",
       "    <tr>\n",
       "      <th>Sawyer</th>\n",
       "      <td>-165439300001.57016</td>\n",
       "    </tr>\n",
       "    <tr>\n",
       "      <th>SawyerW</th>\n",
       "      <td>-158017198153.675934</td>\n",
       "    </tr>\n",
       "    <tr>\n",
       "      <th>Somerst</th>\n",
       "      <td>-193160539336.459869</td>\n",
       "    </tr>\n",
       "    <tr>\n",
       "      <th>StoneBr</th>\n",
       "      <td>-97119995960.772537</td>\n",
       "    </tr>\n",
       "    <tr>\n",
       "      <th>Timber</th>\n",
       "      <td>-115086723047.832458</td>\n",
       "    </tr>\n",
       "    <tr>\n",
       "      <th>Veenker</th>\n",
       "      <td>-70123747244.156418</td>\n",
       "    </tr>\n",
       "    <tr>\n",
       "      <th>Bsmt Qual</th>\n",
       "      <td>0.011422</td>\n",
       "    </tr>\n",
       "  </tbody>\n",
       "</table>\n",
       "</div>"
      ],
      "text/plain": [
       "                                 1\n",
       "0                                 \n",
       "intercept               -67.803171\n",
       "LotArea                    0.07895\n",
       "OverallQual               0.214535\n",
       "OverallCond               0.096406\n",
       "YearBuilt                 0.160694\n",
       "YearRemodAdd              0.025279\n",
       "BsmtFinSF1                0.091253\n",
       "BsmtUnfSF                -0.033319\n",
       "TotalBsmtSF               0.138197\n",
       "1stFlrSF                  0.152663\n",
       "2ndFlrSF                  0.132287\n",
       "GrLivArea                 0.161733\n",
       "FullBath                 -0.020709\n",
       "HalfBath                  0.017355\n",
       "BedroomAbvGr             -0.083391\n",
       "TotRmsAbvGrd              0.082959\n",
       "Fireplaces                0.028257\n",
       "GarageCars                0.037931\n",
       "GarageArea                0.051867\n",
       "WoodDeckSF                 0.02086\n",
       "OpenPorchSF               0.034094\n",
       "EnclosedPorch              0.00691\n",
       "Blmngtn        -78833196456.081238\n",
       "Blueste        -36323152817.364555\n",
       "BrDale         -80858443127.398987\n",
       "BrkSide       -146028309892.945068\n",
       "ClearCr       -101933396524.536728\n",
       "CollgCr       -218280779469.644714\n",
       "Crawfor       -132763727261.906097\n",
       "Edwards       -184773664083.184784\n",
       "Gilbert       -183986275873.286102\n",
       "IDOTRR        -113706870202.942169\n",
       "MeadowV        -82831971362.529282\n",
       "Mitchel       -140676354953.179871\n",
       "Names          -287095454445.70874\n",
       "NoRidge       -123009955980.225006\n",
       "NPkVill        -74610595879.246017\n",
       "NriddgHt      -182398282226.809845\n",
       "NWAmes        -169002100997.478638\n",
       "OLDTown       -204553438461.897186\n",
       "SWISU         -103484575079.148849\n",
       "Sawyer         -165439300001.57016\n",
       "SawyerW       -158017198153.675934\n",
       "Somerst       -193160539336.459869\n",
       "StoneBr        -97119995960.772537\n",
       "Timber        -115086723047.832458\n",
       "Veenker        -70123747244.156418\n",
       "Bsmt Qual                 0.011422"
      ]
     },
     "execution_count": 26,
     "metadata": {},
     "output_type": "execute_result"
    }
   ],
   "source": [
    "# Create dataFrame with corresponding feature and its respective coefficients\n",
    "coeffs = pd.DataFrame(\n",
    "    [\n",
    "        ['intercept'] + list(X_train.columns),\n",
    "        list(lr.intercept_) + list(lr.coef_[0])\n",
    "    ]\n",
    ").transpose().set_index(0)\n",
    "coeffs"
   ]
  },
  {
   "cell_type": "code",
   "execution_count": 27,
   "metadata": {},
   "outputs": [
    {
     "data": {
      "text/plain": [
       "48"
      ]
     },
     "execution_count": 27,
     "metadata": {},
     "output_type": "execute_result"
    }
   ],
   "source": [
    "len(coeffs.index)"
   ]
  },
  {
   "cell_type": "code",
   "execution_count": 28,
   "metadata": {},
   "outputs": [
    {
     "data": {
      "text/plain": [
       "0.11401498824553064"
      ]
     },
     "execution_count": 28,
     "metadata": {},
     "output_type": "execute_result"
    }
   ],
   "source": [
    "pred_t=lr.predict(X_train)\n",
    "mse(y_train,pred_t)"
   ]
  },
  {
   "cell_type": "code",
   "execution_count": 29,
   "metadata": {},
   "outputs": [
    {
     "data": {
      "text/plain": [
       "0.11700244623108394"
      ]
     },
     "execution_count": 29,
     "metadata": {},
     "output_type": "execute_result"
    }
   ],
   "source": [
    "pred_v=lr.predict(X_val)\n",
    "mse(y_val,pred_v)"
   ]
  },
  {
   "cell_type": "markdown",
   "metadata": {},
   "source": [
    "For the data we are considering it turns out that this regression model generalizes well. The mean squared error for the validation set was only a little higher than that for the training set. However linear regression with no regularization leads to some strange results because of the correlation between features. For example it makes no sense that the weights for number of full bathrooms and number of bedrooms are negative!"
   ]
  },
  {
   "cell_type": "code",
   "execution_count": 30,
   "metadata": {},
   "outputs": [
    {
     "data": {
      "text/plain": [
       "0.5347396038733943"
      ]
     },
     "execution_count": 30,
     "metadata": {},
     "output_type": "execute_result"
    }
   ],
   "source": [
    "x1 = X_train['GrLivArea']\n",
    "x2 = X_train['BedroomAbvGr']\n",
    "x1.corr(x2)"
   ]
  },
  {
   "cell_type": "markdown",
   "metadata": {},
   "source": [
    "###### Ridge Regression"
   ]
  },
  {
   "cell_type": "code",
   "execution_count": 31,
   "metadata": {},
   "outputs": [],
   "source": [
    "# Importing Ridge\n",
    "from sklearn.linear_model import Ridge"
   ]
  },
  {
   "cell_type": "markdown",
   "metadata": {},
   "source": [
    "We try using Ridge regression with different values of the hyperparameter $\\lambda$. The following code shows the effect of this parameter on the prediction error. "
   ]
  },
  {
   "cell_type": "code",
   "execution_count": 32,
   "metadata": {
    "scrolled": true
   },
   "outputs": [
    {
     "name": "stdout",
     "output_type": "stream",
     "text": [
      "0.11703284346091355\n",
      "0.11710797319753011\n",
      "0.11723952924901142\n",
      "0.11741457158889522\n",
      "0.11762384068711472\n",
      "0.11825709631198032\n",
      "0.11900057469147939\n",
      "0.12254649996292957\n",
      "0.13073599680747142\n"
     ]
    }
   ],
   "source": [
    "# The alpha used by Python's ridge should be the lambda in Hull's book times the number of observations\n",
    "alphas=[0.01*1800, 0.02*1800, 0.03*1800, 0.04*1800, 0.05*1800, 0.075*1800,0.1*1800,0.2*1800, 0.4*1800]\n",
    "mses=[]\n",
    "for alpha in alphas:\n",
    "    ridge=Ridge(alpha=alpha)\n",
    "    ridge.fit(X_train,y_train)\n",
    "    pred=ridge.predict(X_val)\n",
    "    mses.append(mse(y_val,pred))\n",
    "    print(mse(y_val,pred))"
   ]
  },
  {
   "cell_type": "code",
   "execution_count": 33,
   "metadata": {},
   "outputs": [
    {
     "data": {
      "text/plain": [
       "[<matplotlib.lines.Line2D at 0x16558cabd48>]"
      ]
     },
     "execution_count": 33,
     "metadata": {},
     "output_type": "execute_result"
    },
    {
     "data": {
      "image/png": "[encoded data removed]",
      "text/plain": [
       "<Figure size 432x288 with 1 Axes>"
      ]
     },
     "metadata": {
      "needs_background": "light"
     },
     "output_type": "display_data"
    }
   ],
   "source": [
    "plt.plot(np.array(alphas)/1800, mses)"
   ]
  },
  {
   "cell_type": "markdown",
   "metadata": {},
   "source": [
    "As expected the prediction error increases as $\\lambda$ increases. Values of $\\lambda$ in the range $0$ to $0.1$ might be reasonably be considered because prediction errors increases only slightly when $\\lambda$ is in this range. However it turns out that the improvement in the model is quite small for these values of $\\lambda$."
   ]
  },
  {
   "cell_type": "markdown",
   "metadata": {},
   "source": [
    "###### Lasso"
   ]
  },
  {
   "cell_type": "code",
   "execution_count": 34,
   "metadata": {},
   "outputs": [],
   "source": [
    "# Import Lasso\n",
    "from sklearn.linear_model import Lasso"
   ]
  },
  {
   "cell_type": "code",
   "execution_count": 35,
   "metadata": {},
   "outputs": [
    {
     "data": {
      "text/plain": [
       "Lasso(alpha=0.04)"
      ]
     },
     "execution_count": 35,
     "metadata": {},
     "output_type": "execute_result"
    }
   ],
   "source": [
    "# Here we produce results for alpha=0.05 which corresponds to lambda=0.1 in Hull's book\n",
    "lasso = Lasso(alpha=0.04)\n",
    "lasso.fit(X_train, y_train)"
   ]
  },
  {
   "cell_type": "code",
   "execution_count": 36,
   "metadata": {},
   "outputs": [
    {
     "data": {
      "text/html": [
       "<div>\n",
       "<style scoped>\n",
       "    .dataframe tbody tr th:only-of-type {\n",
       "        vertical-align: middle;\n",
       "    }\n",
       "\n",
       "    .dataframe tbody tr th {\n",
       "        vertical-align: top;\n",
       "    }\n",
       "\n",
       "    .dataframe thead th {\n",
       "        text-align: right;\n",
       "    }\n",
       "</style>\n",
       "<table border=\"1\" class=\"dataframe\">\n",
       "  <thead>\n",
       "    <tr style=\"text-align: right;\">\n",
       "      <th></th>\n",
       "      <th>1</th>\n",
       "    </tr>\n",
       "    <tr>\n",
       "      <th>0</th>\n",
       "      <th></th>\n",
       "    </tr>\n",
       "  </thead>\n",
       "  <tbody>\n",
       "    <tr>\n",
       "      <th>intercept</th>\n",
       "      <td>-0.0</td>\n",
       "    </tr>\n",
       "    <tr>\n",
       "      <th>LotArea</th>\n",
       "      <td>0.051706</td>\n",
       "    </tr>\n",
       "    <tr>\n",
       "      <th>OverallQual</th>\n",
       "      <td>0.288466</td>\n",
       "    </tr>\n",
       "    <tr>\n",
       "      <th>OverallCond</th>\n",
       "      <td>0.005268</td>\n",
       "    </tr>\n",
       "    <tr>\n",
       "      <th>YearBuilt</th>\n",
       "      <td>0.060314</td>\n",
       "    </tr>\n",
       "    <tr>\n",
       "      <th>YearRemodAdd</th>\n",
       "      <td>0.066641</td>\n",
       "    </tr>\n",
       "    <tr>\n",
       "      <th>BsmtFinSF1</th>\n",
       "      <td>0.118631</td>\n",
       "    </tr>\n",
       "    <tr>\n",
       "      <th>BsmtUnfSF</th>\n",
       "      <td>-0.0</td>\n",
       "    </tr>\n",
       "    <tr>\n",
       "      <th>TotalBsmtSF</th>\n",
       "      <td>0.100542</td>\n",
       "    </tr>\n",
       "    <tr>\n",
       "      <th>1stFlrSF</th>\n",
       "      <td>0.032861</td>\n",
       "    </tr>\n",
       "    <tr>\n",
       "      <th>2ndFlrSF</th>\n",
       "      <td>0.0</td>\n",
       "    </tr>\n",
       "    <tr>\n",
       "      <th>GrLivArea</th>\n",
       "      <td>0.297018</td>\n",
       "    </tr>\n",
       "    <tr>\n",
       "      <th>FullBath</th>\n",
       "      <td>0.0</td>\n",
       "    </tr>\n",
       "    <tr>\n",
       "      <th>HalfBath</th>\n",
       "      <td>0.0</td>\n",
       "    </tr>\n",
       "    <tr>\n",
       "      <th>BedroomAbvGr</th>\n",
       "      <td>-0.0</td>\n",
       "    </tr>\n",
       "    <tr>\n",
       "      <th>TotRmsAbvGrd</th>\n",
       "      <td>0.0</td>\n",
       "    </tr>\n",
       "    <tr>\n",
       "      <th>Fireplaces</th>\n",
       "      <td>0.023871</td>\n",
       "    </tr>\n",
       "    <tr>\n",
       "      <th>GarageCars</th>\n",
       "      <td>0.027145</td>\n",
       "    </tr>\n",
       "    <tr>\n",
       "      <th>GarageArea</th>\n",
       "      <td>0.067384</td>\n",
       "    </tr>\n",
       "    <tr>\n",
       "      <th>WoodDeckSF</th>\n",
       "      <td>0.005363</td>\n",
       "    </tr>\n",
       "    <tr>\n",
       "      <th>OpenPorchSF</th>\n",
       "      <td>0.009923</td>\n",
       "    </tr>\n",
       "    <tr>\n",
       "      <th>EnclosedPorch</th>\n",
       "      <td>-0.0</td>\n",
       "    </tr>\n",
       "    <tr>\n",
       "      <th>Blmngtn</th>\n",
       "      <td>-0.0</td>\n",
       "    </tr>\n",
       "    <tr>\n",
       "      <th>Blueste</th>\n",
       "      <td>-0.0</td>\n",
       "    </tr>\n",
       "    <tr>\n",
       "      <th>BrDale</th>\n",
       "      <td>-0.0</td>\n",
       "    </tr>\n",
       "    <tr>\n",
       "      <th>BrkSide</th>\n",
       "      <td>0.0</td>\n",
       "    </tr>\n",
       "    <tr>\n",
       "      <th>ClearCr</th>\n",
       "      <td>0.0</td>\n",
       "    </tr>\n",
       "    <tr>\n",
       "      <th>CollgCr</th>\n",
       "      <td>-0.0</td>\n",
       "    </tr>\n",
       "    <tr>\n",
       "      <th>Crawfor</th>\n",
       "      <td>0.00689</td>\n",
       "    </tr>\n",
       "    <tr>\n",
       "      <th>Edwards</th>\n",
       "      <td>0.0</td>\n",
       "    </tr>\n",
       "    <tr>\n",
       "      <th>Gilbert</th>\n",
       "      <td>0.0</td>\n",
       "    </tr>\n",
       "    <tr>\n",
       "      <th>IDOTRR</th>\n",
       "      <td>-0.0</td>\n",
       "    </tr>\n",
       "    <tr>\n",
       "      <th>MeadowV</th>\n",
       "      <td>-0.0</td>\n",
       "    </tr>\n",
       "    <tr>\n",
       "      <th>Mitchel</th>\n",
       "      <td>-0.0</td>\n",
       "    </tr>\n",
       "    <tr>\n",
       "      <th>Names</th>\n",
       "      <td>-0.0</td>\n",
       "    </tr>\n",
       "    <tr>\n",
       "      <th>NoRidge</th>\n",
       "      <td>0.022708</td>\n",
       "    </tr>\n",
       "    <tr>\n",
       "      <th>NPkVill</th>\n",
       "      <td>-0.0</td>\n",
       "    </tr>\n",
       "    <tr>\n",
       "      <th>NriddgHt</th>\n",
       "      <td>0.094378</td>\n",
       "    </tr>\n",
       "    <tr>\n",
       "      <th>NWAmes</th>\n",
       "      <td>-0.0</td>\n",
       "    </tr>\n",
       "    <tr>\n",
       "      <th>OLDTown</th>\n",
       "      <td>-0.0</td>\n",
       "    </tr>\n",
       "    <tr>\n",
       "      <th>SWISU</th>\n",
       "      <td>-0.0</td>\n",
       "    </tr>\n",
       "    <tr>\n",
       "      <th>Sawyer</th>\n",
       "      <td>-0.0</td>\n",
       "    </tr>\n",
       "    <tr>\n",
       "      <th>SawyerW</th>\n",
       "      <td>-0.0</td>\n",
       "    </tr>\n",
       "    <tr>\n",
       "      <th>Somerst</th>\n",
       "      <td>0.0</td>\n",
       "    </tr>\n",
       "    <tr>\n",
       "      <th>StoneBr</th>\n",
       "      <td>0.027941</td>\n",
       "    </tr>\n",
       "    <tr>\n",
       "      <th>Timber</th>\n",
       "      <td>0.0</td>\n",
       "    </tr>\n",
       "    <tr>\n",
       "      <th>Veenker</th>\n",
       "      <td>0.0</td>\n",
       "    </tr>\n",
       "    <tr>\n",
       "      <th>Bsmt Qual</th>\n",
       "      <td>0.021099</td>\n",
       "    </tr>\n",
       "  </tbody>\n",
       "</table>\n",
       "</div>"
      ],
      "text/plain": [
       "                      1\n",
       "0                      \n",
       "intercept          -0.0\n",
       "LotArea        0.051706\n",
       "OverallQual    0.288466\n",
       "OverallCond    0.005268\n",
       "YearBuilt      0.060314\n",
       "YearRemodAdd   0.066641\n",
       "BsmtFinSF1     0.118631\n",
       "BsmtUnfSF          -0.0\n",
       "TotalBsmtSF    0.100542\n",
       "1stFlrSF       0.032861\n",
       "2ndFlrSF            0.0\n",
       "GrLivArea      0.297018\n",
       "FullBath            0.0\n",
       "HalfBath            0.0\n",
       "BedroomAbvGr       -0.0\n",
       "TotRmsAbvGrd        0.0\n",
       "Fireplaces     0.023871\n",
       "GarageCars     0.027145\n",
       "GarageArea     0.067384\n",
       "WoodDeckSF     0.005363\n",
       "OpenPorchSF    0.009923\n",
       "EnclosedPorch      -0.0\n",
       "Blmngtn            -0.0\n",
       "Blueste            -0.0\n",
       "BrDale             -0.0\n",
       "BrkSide             0.0\n",
       "ClearCr             0.0\n",
       "CollgCr            -0.0\n",
       "Crawfor         0.00689\n",
       "Edwards             0.0\n",
       "Gilbert             0.0\n",
       "IDOTRR             -0.0\n",
       "MeadowV            -0.0\n",
       "Mitchel            -0.0\n",
       "Names              -0.0\n",
       "NoRidge        0.022708\n",
       "NPkVill            -0.0\n",
       "NriddgHt       0.094378\n",
       "NWAmes             -0.0\n",
       "OLDTown            -0.0\n",
       "SWISU              -0.0\n",
       "Sawyer             -0.0\n",
       "SawyerW            -0.0\n",
       "Somerst             0.0\n",
       "StoneBr        0.027941\n",
       "Timber              0.0\n",
       "Veenker             0.0\n",
       "Bsmt Qual      0.021099"
      ]
     },
     "execution_count": 36,
     "metadata": {},
     "output_type": "execute_result"
    }
   ],
   "source": [
    "# DataFrame with corresponding feature and its respective coefficients\n",
    "coeffs = pd.DataFrame(\n",
    "    [\n",
    "        ['intercept'] + list(X_train.columns),\n",
    "        list(lasso.intercept_) + list(lasso.coef_)\n",
    "    ]\n",
    ").transpose().set_index(0)\n",
    "coeffs"
   ]
  },
  {
   "cell_type": "markdown",
   "metadata": {},
   "source": [
    "###### Lasso with different levels of alpha and its mse"
   ]
  },
  {
   "cell_type": "code",
   "execution_count": 37,
   "metadata": {},
   "outputs": [
    {
     "name": "stdout",
     "output_type": "stream",
     "text": [
      "lambda = 0.005 - mse = 0.116548\n",
      "lambda = 0.010 - mse = 0.116827\n",
      "lambda = 0.015 - mse = 0.118033\n",
      "lambda = 0.020 - mse = 0.120128\n",
      "lambda = 0.025 - mse = 0.123015\n",
      "lambda = 0.030 - mse = 0.126462\n",
      "lambda = 0.040 - mse = 0.133492\n",
      "lambda = 0.045 - mse = 0.137016\n",
      "lambda = 0.050 - mse = 0.140172\n"
     ]
    }
   ],
   "source": [
    "# We now consider different lambda values. The alphas are half the lambdas\n",
    "alphas=[0.01/2, 0.02/2, 0.03/2, 0.04/2, 0.05/2, 0.06/2, 0.08/2, 0.09/2, 0.1/2]\n",
    "mses=[]\n",
    "for alpha in alphas:\n",
    "    lasso=Lasso(alpha=alpha)\n",
    "    lasso.fit(X_train,y_train)\n",
    "    pred=lasso.predict(X_val)\n",
    "    mses.append(mse(y_val,pred))\n",
    "    print(\"lambda = \" + '{:<05}'.format(alpha) + \" - mse = \" + str(round(mse(y_val, pred),6)))"
   ]
  },
  {
   "cell_type": "code",
   "execution_count": 38,
   "metadata": {},
   "outputs": [
    {
     "data": {
      "text/plain": [
       "[<matplotlib.lines.Line2D at 0x16558e94948>]"
      ]
     },
     "execution_count": 38,
     "metadata": {},
     "output_type": "execute_result"
    },
    {
     "data": {
      "image/png": "[encoded data removed]",
      "text/plain": [
       "<Figure size 432x288 with 1 Axes>"
      ]
     },
     "metadata": {
      "needs_background": "light"
     },
     "output_type": "display_data"
    }
   ],
   "source": [
    "plt.plot(alphas, mses)"
   ]
  },
  {
   "cell_type": "markdown",
   "metadata": {},
   "source": [
    "Lasso regression leads to more interesting results. In the plot above you can see how the error in the validation set changes as tha value of the lasso $\\lambda$ increases. For small values of $\\lambda$ the error is actually less than when $\\lambda = 0$ but as $\\lambda$ increases beyond about $0.03$ the error starts to increase. A value of $\\lambda = 0.04$ could be chosen.   "
   ]
  },
  {
   "cell_type": "markdown",
   "metadata": {},
   "source": [
    "## What is Logistic Regression\n",
    "\n",
    "### Classification Problem\n",
    "\n",
    "As we know there are two types of supervised learning models: those that are used to **predict** a numerical variable and those that are used for **classification**. Up to now we have considered the problem of predicting a numerical variable, we now move on to the classification problem. In particular we focus on the so called Binomial Logistic Regression, where the response variable has two values 0 and 1 or pass and fail or true and false. Multinomial Logistic Regression deals with situations where the response variable can have three or more possible values. \n",
    "\n",
    "### Why Logistic, not Linear?\n",
    "\n",
    "With binary classification, let $x$ be some feature and $y$ be the output which can be either 0 or 1.\n",
    "The probability that the output is 1 given its input can be represented as:\n",
    "\n",
    "$$P(y=1 \\vert x) $$\n",
    "\n",
    "If we predict the probability via linear regression, we can state it as:\n",
    "\n",
    "$$P(y=1 \\vert x) = \\beta_0 + \\beta_1 X$$\n",
    "\n",
    "Linear regression model can generate the predicted probability as any number ranging from negative to positive infinity, whereas probability of an outcome can only lie between 0< P(x)<1."
   ]
  },
  {
   "cell_type": "markdown",
   "metadata": {},
   "source": [
    "![chapter-4-1_pic_0.png](./pic/chapter-4-1_pic_0.png)"
   ]
  },
  {
   "cell_type": "markdown",
   "metadata": {},
   "source": [
    "To avoid this problem, log-odds function or logit function is used.\n",
    "\n",
    "### Logit Function\n",
    "\n",
    "Logistic regression can be expressed as:\n",
    "\n",
    "\\begin{equation}\n",
    "\\log \\left( \\frac{p(y=1\\vert x)}{1-p(y=1\\vert x)}\\right) = \\beta_0 + \\beta_1 X\n",
    "\\end{equation}\n",
    "\n",
    "where, the left hand side is called the *logit* or *log-odds* function, and $p/(1-p)$ is called *odds*. The odds signifies the ratio of probability of success to probability of failure. Therefore, in Logistic Regression, linear combination of inputs are mapped to the log(odds) - the output being equal to 1. If we take an inverse of the above function, we get:\n",
    "\n",
    "\\begin{equation}\n",
    "Q=p(y=1 \\vert x) = \\frac{e^{\\beta_0 + \\beta_1 X}}{1+e^{\\beta_0 + \\beta_1 X}} = \\frac{1}{1+e^{-(\\beta_0 + \\beta_1 X)}} =\n",
    "\\frac{1}{1+e^{-Y}}\n",
    "\\end{equation}\n",
    "\n",
    "where $Y= \\beta_0 + \\beta_1 X$. \n",
    "\n",
    "This is known as the **Sigmoid Function** and it gives an S-shaped curve. It always gives a value of probability ranging from $0<p<1$. Now, let's simply plot the sigmoid function for some values in the range –7 to 7 to\n",
    "see how it looks:"
   ]
  },
  {
   "cell_type": "code",
   "execution_count": 39,
   "metadata": {},
   "outputs": [
    {
     "data": {
      "image/png": "[encoded data removed]",
      "text/plain": [
       "<Figure size 432x288 with 1 Axes>"
      ]
     },
     "metadata": {
      "needs_background": "light"
     },
     "output_type": "display_data"
    }
   ],
   "source": [
    "import matplotlib.pyplot as plt\n",
    "import numpy as np\n",
    "\n",
    "def sigmoid(z):\n",
    "    return 1.0 / (1.0 + np.exp(-z))\n",
    "\n",
    "z = np.arange(-7, 7, 0.1)\n",
    "phi_z = sigmoid(z)\n",
    "plt.plot(z, phi_z)\n",
    "plt.axvline(0.0, color='k')\n",
    "plt.ylim(-0.1, 1.1)\n",
    "plt.xlabel('z')\n",
    "plt.ylabel('$\\phi (z)$')\n",
    "# y axis ticks and gridline\n",
    "plt.yticks([0.0, 0.5, 1.0])\n",
    "ax = plt.gca()\n",
    "ax.yaxis.grid(True)\n",
    "plt.tight_layout()\n",
    "plt.show()"
   ]
  },
  {
   "cell_type": "markdown",
   "metadata": {},
   "source": [
    "The output of the sigmoid function is then interpreted as the probability of a particular example belonging to class 1, $\\Phi(z) = P(y=1 \\vert \\mathbf{x}; \\mathbf{w})$, given its features, $x$, parameterized by the weights, $w$. The predicted probability can then simply be converted into a binary outcome via a threshold function:\n",
    "\n",
    "$$\\hat y = \\begin{cases}\n",
    "              &1 \\quad \\text{if } \\phi(z) \\ge 0.5 \\\\ & 0 \\quad \\text{otherwise}\n",
    "              \\end{cases}$$\n",
    "\n",
    "If we look at the preceding plot of the sigmoid function, this is equivalent to the\n",
    "\n",
    "following:\n",
    "\n",
    "$$\\hat y = \\begin{cases}\n",
    "              &1 \\quad \\text{if } z \\ge 0 \\\\ & 0 \\quad \\text{otherwise}\n",
    "              \\end{cases}$$\n"
   ]
  },
  {
   "cell_type": "markdown",
   "metadata": {},
   "source": [
    "### Estimation of Regression Coefficients\n",
    "\n",
    "Unlike linear regression model, that uses Ordinary Least Square for parameter estimation, we use Maximum Likelihood Estimation.\n",
    "There can be infinite sets of regression coefficients. The maximum likelihood estimate is that set of regression coefficients for which the probability of getting the data we have observed is maximum. In this case we can write simply:\n",
    "\n",
    "\\begin{equation}\n",
    "{\\cal{L}} = \\prod\\limits_{i=1}^n  Q(\\mathbf{\\beta}^T \\mathbf{x})^{y(i)} \\left[ 1 - Q(\\mathbf{\\beta}^T \\mathbf{x})\\right]^{1-y(i)} \\Rightarrow \\log{\\cal{L}} = \n",
    "\\sum\\limits_{i=1}^n\n",
    "\\left\\{\n",
    "{y(i)} \\cdot \\ln Q(\\mathbf{\\beta}^T \\mathbf{x}) \n",
    "+ (1-y(i)) \\cdot \\ln \\left[ 1 - Q(\\mathbf{\\beta}^T \\mathbf{x})\\right] \n",
    "\\right\\}\n",
    "\\end{equation}\n",
    "\n",
    "Now since in the binomial case $y_i = 1 \\,or\\, 0$, we can write\n",
    "\n",
    "\\begin{equation}L=\\sum\\limits_\\text{POS OUT} \\, \\ln(Q) + \\sum\\limits_\\text{NEG OUT} \\, \\ln(1-Q) \\end{equation}\n",
    "\n",
    "The first summation is over all the observations which led to positive outcomes and the second summation is over all observations which let to negative outcomes. This function cannot be maximized analytically and gradient ascent (analogous to gradient descent) methods must be used.\n",
    "\n",
    "Let's write a short code snippet to create a plot that illustrates the cost of classifying\n",
    "a single training example for different values of $\\phi(z)$ :"
   ]
  },
  {
   "cell_type": "code",
   "execution_count": 40,
   "metadata": {},
   "outputs": [
    {
     "data": {
      "image/png": "[encoded data removed]",
      "text/plain": [
       "<Figure size 432x288 with 1 Axes>"
      ]
     },
     "metadata": {
      "needs_background": "light"
     },
     "output_type": "display_data"
    }
   ],
   "source": [
    "def cost_1(z):\n",
    "    return - np.log(sigmoid(z))\n",
    "\n",
    "def cost_0(z):\n",
    "    return - np.log(1 - sigmoid(z))\n",
    "\n",
    "z = np.arange(-10, 10, 0.1)\n",
    "phi_z = sigmoid(z)\n",
    "c1 = [cost_1(x) for x in z]\n",
    "plt.plot(phi_z, c1, label='J(w) if y=1')\n",
    "c0 = [cost_0(x) for x in z]\n",
    "plt.plot(phi_z, c0, linestyle='--', label='J(w) if y=0')\n",
    "plt.ylim(0.0, 5.1)\n",
    "plt.xlim([0, 1])\n",
    "plt.xlabel('$\\phi$(z)')\n",
    "plt.ylabel('J(w)')\n",
    "plt.legend(loc='best')\n",
    "plt.tight_layout()\n",
    "plt.show()"
   ]
  },
  {
   "cell_type": "markdown",
   "metadata": {},
   "source": [
    "We can see that the cost approaches 0 (continuous line) if we correctly predict that\n",
    "an example belongs to class 1. Similarly, we can see on the y-axis that the cost also\n",
    "approaches 0 if we correctly predict y = 0 (dashed line). However, if the prediction\n",
    "is wrong, the cost goes toward infinity. The main point is that we penalize wrong\n",
    "predictions with an increasingly larger cost."
   ]
  },
  {
   "cell_type": "markdown",
   "metadata": {},
   "source": [
    "## Performance of Logistic Regression model\n",
    "\n",
    "To evaluate the performance of a logistic regression model, Deviance is used in lieu of sum of squares calculations.\n",
    "\n",
    "- Null Deviance indicates the response predicted by a model with nothing but an intercept.\n",
    "- Model deviance indicates the response predicted by a model on adding independent variables. If the model deviance is significantly smaller than the null deviance, one can conclude that the parameter or set of parameters significantly improved model fit.\n",
    "- Another way to find the accuracy of model is by using Confusion Matrix."
   ]
  },
  {
   "cell_type": "markdown",
   "metadata": {},
   "source": [
    "![image.png](./pic/chapter-4-1_pic_2.png)"
   ]
  },
  {
   "cell_type": "markdown",
   "metadata": {},
   "source": [
    "## Example 2 - Application to Credit Decision "
   ]
  },
  {
   "cell_type": "markdown",
   "metadata": {},
   "source": [
    "In this section we consider a subset of the data provided by the company Lending Club on its credit decision. For a complete description see the textbook of J. C. Hull chapter 3, pag. 73.\n",
    "\n",
    "LENDING CLUB BACKGROUND\n",
    "Lending Club is a peer-to-peer (P2P) lending platform, where borrowers submit their loan applications and individual lenders select the applications that they want to fund. Borrowers receive the full amount of the issued loan minus the origination fee, which is paid to the company. Investors purchase notes backed by the personal loans and pay Lending Club a service fee.\n",
    "\n",
    "P2P lending brings down the cost of personal loans compared to traditional financing by connecting the borrowers and investors directly. However, there is always a risk of investing in a bad loan. In fact, the default rate for P2P loans are much higher than that of traditional loans. Therefore, the lending industry is highly interested in providing the investors with comprehensive risk assessment of the loan applications. The company shares data about all loan applications made through its platform. "
   ]
  },
  {
   "cell_type": "code",
   "execution_count": 41,
   "metadata": {},
   "outputs": [],
   "source": [
    "# import packages\n",
    "import warnings\n",
    "warnings.filterwarnings('ignore')\n",
    "\n",
    "import openpyxl\n",
    "import pandas as pd\n",
    "import numpy as np\n",
    "\n",
    "import seaborn as sns\n",
    "import matplotlib.pyplot as plt\n",
    "\n",
    "from sklearn.linear_model import LogisticRegression\n",
    "\n",
    "from sklearn.metrics import accuracy_score, recall_score, precision_score, f1_score\n",
    "from sklearn.metrics import confusion_matrix, classification_report, roc_curve, roc_auc_score\n",
    "from sklearn.metrics import precision_recall_curve, auc, average_precision_score"
   ]
  },
  {
   "cell_type": "code",
   "execution_count": 42,
   "metadata": {},
   "outputs": [],
   "source": [
    "#\n",
    "# load file lendingclub_traindata.xlsx\n",
    "#\n",
    "if 'google.colab' in str(get_ipython()):\n",
    "    from google.colab import files\n",
    "    uploaded = files.upload()\n",
    "    path = ''\n",
    "else:\n",
    "    path = './data/'"
   ]
  },
  {
   "cell_type": "code",
   "execution_count": 43,
   "metadata": {},
   "outputs": [],
   "source": [
    "#\n",
    "# load file lendingclub_testdata.xlsx\n",
    "#\n",
    "if 'google.colab' in str(get_ipython()):\n",
    "    from google.colab import files\n",
    "    uploaded = files.upload()"
   ]
  },
  {
   "cell_type": "code",
   "execution_count": 44,
   "metadata": {},
   "outputs": [],
   "source": [
    "train = pd.read_excel(path + 'lendingclub_traindata.xlsx', engine='openpyxl')\n",
    "test = pd.read_excel(path + 'lendingclub_testdata.xlsx', engine='openpyxl')"
   ]
  },
  {
   "cell_type": "code",
   "execution_count": 45,
   "metadata": {},
   "outputs": [
    {
     "name": "stdout",
     "output_type": "stream",
     "text": [
      "   home_ownership  income    dti  fico_low  loan_status\n",
      "0               1  44.304  18.47       690            0\n",
      "1               0  38.500  33.73       660            0\n",
      "2               1  54.000  19.00       660            0\n",
      "3               1  60.000  33.98       695            0\n",
      "4               0  39.354  10.85       685            0\n",
      "--------------------------------\n",
      "   home_ownership  income    dti  fico_low  loan_status\n",
      "0               1   127.0  10.94       675            0\n",
      "1               1   197.0  15.64       710            0\n",
      "2               1    25.5  28.75       670            0\n",
      "3               1    80.0  20.16       660            0\n",
      "4               0    57.0  30.60       675            0\n"
     ]
    }
   ],
   "source": [
    "# 1 = good, 0 = default\n",
    "\n",
    "# give column names\n",
    "cols = ['home_ownership', 'income', 'dti', 'fico_low', 'loan_status']\n",
    "train.columns = test.columns = cols\n",
    "\n",
    "print(train.head())\n",
    "print(\"--------------------------------\")\n",
    "print(test.head())"
   ]
  },
  {
   "cell_type": "markdown",
   "metadata": {},
   "source": [
    "For the purposes of this exercise, the dataset has already been split into train and test set. There are 8695 instances of training set and 5916 instances of test set with with four features and one target. The four features are home_ownership, income, dti and fico_low and the target is loan status that includes either fully paid or defaulted loans only. "
   ]
  },
  {
   "cell_type": "code",
   "execution_count": 46,
   "metadata": {},
   "outputs": [
    {
     "name": "stdout",
     "output_type": "stream",
     "text": [
      "(8695, 4) (8695,) (5916, 4) (5916,)\n"
     ]
    },
    {
     "data": {
      "text/plain": [
       "Index(['home_ownership', 'income', 'dti', 'fico_low'], dtype='object')"
      ]
     },
     "execution_count": 46,
     "metadata": {},
     "output_type": "execute_result"
    }
   ],
   "source": [
    "# remove target column to create feature only dataset\n",
    "X_train = train.drop('loan_status', 1)\n",
    "X_test = test.drop('loan_status', 1)\n",
    "\n",
    "# store target column\n",
    "y_train = train['loan_status']\n",
    "y_test = test['loan_status']\n",
    "\n",
    "print(X_train.shape, y_train.shape, X_test.shape, y_test.shape)\n",
    "X_train.columns"
   ]
  },
  {
   "cell_type": "markdown",
   "metadata": {},
   "source": [
    "By default the mode() method return the highest frequency value in a Series"
   ]
  },
  {
   "cell_type": "code",
   "execution_count": 47,
   "metadata": {},
   "outputs": [
    {
     "data": {
      "text/plain": [
       "1"
      ]
     },
     "execution_count": 47,
     "metadata": {},
     "output_type": "execute_result"
    }
   ],
   "source": [
    "y_train.mode()[0]"
   ]
  },
  {
   "cell_type": "code",
   "execution_count": 48,
   "metadata": {},
   "outputs": [
    {
     "data": {
      "text/plain": [
       "0.8276020701552617"
      ]
     },
     "execution_count": 48,
     "metadata": {},
     "output_type": "execute_result"
    }
   ],
   "source": [
    "majority_class = y_train.mode()[0]        # predict fully paid only\n",
    "prediction = np.full(shape=y_train.shape, fill_value=majority_class)\n",
    "accuracy_score(y_train, prediction)"
   ]
  },
  {
   "cell_type": "code",
   "execution_count": 49,
   "metadata": {},
   "outputs": [
    {
     "data": {
      "text/plain": [
       "1    82.760207\n",
       "0    17.239793\n",
       "Name: loan_status, dtype: float64"
      ]
     },
     "execution_count": 49,
     "metadata": {},
     "output_type": "execute_result"
    }
   ],
   "source": [
    "freq = y_train.value_counts()           # count frequency of different classes in loan status\n",
    "freq/sum(freq)*100                      # get percentage of above"
   ]
  },
  {
   "cell_type": "code",
   "execution_count": 50,
   "metadata": {},
   "outputs": [
    {
     "name": "stdout",
     "output_type": "stream",
     "text": [
      "[-6.56522523] [[ 0.139496    0.00410667 -0.00112302  0.01125209]]\n"
     ]
    }
   ],
   "source": [
    "# create an instance of logistic regression\n",
    "lgstc_reg =  LogisticRegression(penalty=\"none\", solver='newton-cg')     \n",
    "# fit training data on logistic regression \n",
    "lgstc_reg.fit(X_train, y_train)                                                             \n",
    "# get the coefficients of each features\n",
    "print(lgstc_reg.intercept_, lgstc_reg.coef_)                                                "
   ]
  },
  {
   "cell_type": "markdown",
   "metadata": {},
   "source": [
    "<br>\n",
    "The bias is estimated as -6.56517476. The coefficient of the logistic regression are 0.13949599 for home_ownership, 0.0041 0667 for income, -0.00112303 for dti and 0.01125202 for fico_low. These are the weights (parameters) that maximizes the likelihood of producing our given data and hence gives us the least error in predicting our response variable.\n",
    "\n",
    "The question of how to evaluate the model is of the utmost importance. This is where we will test the model's performance on an unseen test set and check the results of our chosen measure of success. This step is meant to be representative of how the model might perform in the real world."
   ]
  },
  {
   "cell_type": "code",
   "execution_count": 51,
   "metadata": {},
   "outputs": [],
   "source": [
    "# predict default loans based on test data set\n",
    "y_pred = lgstc_reg.predict(X_test)                           "
   ]
  },
  {
   "cell_type": "markdown",
   "metadata": {},
   "source": [
    "<br> \n",
    "An analyst must decide on a criterion for predicting whether loan will be good or default. This involves specifying a threshold. By default this threshold is set to 0.5, i.e., loans are separated into good and bad categories according to whether the probability of no default is greater or less than 0.5. However this does not work well for an imbalanced data set such as this. It would predict that all loans are good! We will look at the results for few other thresholds. \n",
    "\n"
   ]
  },
  {
   "cell_type": "markdown",
   "metadata": {},
   "source": [
    "From the confusion matrix, we can derive some important metrics"
   ]
  },
  {
   "cell_type": "markdown",
   "metadata": {},
   "source": [
    "> **Accuracy** is one metric for evaluating classification models. Informally, accuracy is the fraction of predictions our > model got right. Formally, accuracy has the following definition:\n",
    ">\n",
    ">$$\\text{accuracy} = \\frac{\\text{number of correct predictions}}{\\text{total number of predictions}}$$\n",
    ">\n",
    "> For binary classification, accuracy can also be calculated in terms of positives and negatives as follows:\n",
    ">\n",
    ">$$\\text{accuracy} = \\frac{TP + TN}{TP + TN + FP + FN}$$\n",
    ">\n",
    "> Where TP = True Positives, TN = True Negatives, FP = False Positives, and FN = False Negatives."
   ]
  },
  {
   "cell_type": "markdown",
   "metadata": {},
   "source": [
    "> **Precision** attempts to answer the following question: What proportion of positive identifications was actually > correct? Precision is defined as follows:\n",
    ">\n",
    ">$$\\text{precision} = \\frac{TP}{TP+FP}$$"
   ]
  },
  {
   "cell_type": "markdown",
   "metadata": {},
   "source": [
    "> **Recall** attempts to answer the following question: What proportion of actual positives was identified correctly?\n",
    "> Mathematically, recall is defined as follows:\n",
    ">\n",
    "> $$\\text{recall} = \\frac{TP}{TP+FN}$$"
   ]
  },
  {
   "cell_type": "code",
   "execution_count": 52,
   "metadata": {},
   "outputs": [
    {
     "name": "stdout",
     "output_type": "stream",
     "text": [
      "Confusion matrix for threshold = 0.75\n",
      "[[77.5862069   4.5300879 ]\n",
      " [16.26098715  1.62271805]]\n",
      " \n",
      "Confusion matrix for threshold = 0.8\n",
      "[[55.34144692 26.77484787]\n",
      " [ 9.75321163  8.13049358]]\n",
      " \n",
      "Confusion matrix for threshold = 0.85\n",
      "[[28.65111562 53.46517918]\n",
      " [ 3.73563218 14.14807302]]\n",
      " \n",
      "ALL METRICS\n",
      "                  0         1         2\n",
      "THRESHOLD      0.75       0.8      0.85\n",
      "accuracy   0.792089  0.634719  0.427992\n",
      "recall     0.944833   0.67394  0.348909\n",
      "tnr        0.090737  0.454631  0.791115\n",
      "fpr        0.909263  0.545369  0.208885\n",
      "precision  0.826729  0.850169  0.884656\n",
      "f1_score   0.881844  0.751866  0.500443\n"
     ]
    }
   ],
   "source": [
    "THRESHOLD = [.75, .80, .85]\n",
    "# df to store results\n",
    "results = pd.DataFrame(columns=[\"THRESHOLD\", \"accuracy\", \"recall\", \"tnr\", \"fpr\", \"precision\", \"f1_score\"]) \n",
    "# threshold column\n",
    "results['THRESHOLD'] = THRESHOLD                                                                           \n",
    "             \n",
    "j = 0                                                                                                      \n",
    "# iterate over each threshold    \n",
    "for i in THRESHOLD:     \n",
    "    # fit data to model\n",
    "    lgstc_reg.fit(X_train, y_train)\n",
    "    # if prob > threshold, predict 1\n",
    "    preds = np.where(lgstc_reg.predict_proba(X_test)[:,1] > i, 1, 0)                                       \n",
    "    # confusion matrix (in percentage)\n",
    "    cm = (confusion_matrix(y_test, preds,labels=[1, 0], sample_weight=None) / 5916 )*100                   \n",
    "    \n",
    "    print('Confusion matrix for threshold =',i)\n",
    "    print(cm)\n",
    "    print(' ')      \n",
    "    \n",
    "    TP = cm[0][0]   # True Positives\n",
    "    FN = cm[0][1]   # False Positives\n",
    "    FP = cm[1][0]   # True Negatives\n",
    "    TN = cm[1][1]   # False Negatives\n",
    "        \n",
    "    results.iloc[j,1] = accuracy_score(y_test, preds) \n",
    "    results.iloc[j,2] = recall_score(y_test, preds)\n",
    "    results.iloc[j,3] = TN/(FP+TN)  # True negative rate\n",
    "    results.iloc[j,4] = FP/(FP+TN)  # False positive rate\n",
    "    results.iloc[j,5] = precision_score(y_test, preds)\n",
    "    results.iloc[j,6] = f1_score(y_test, preds)\n",
    "   \n",
    "    j += 1\n",
    "\n",
    "print('ALL METRICS')\n",
    "print( results.T)\n",
    "   "
   ]
  },
  {
   "cell_type": "markdown",
   "metadata": {},
   "source": [
    "<br>\n",
    "We note here from the confusion matrix at threshold 0.75 that while the model is good at identifying good loans, however it isn't good at identifying the bad loans at all.\n",
    "\n",
    "We also note that increasing the threshold results in decrease in overall accuracy. But the percentage of default loans identified as default is higher with increasing threshold. We know by now that maximizing the accuracy does not necessarily create the best model. Thus, lets look at some other metrics."
   ]
  },
  {
   "cell_type": "code",
   "execution_count": 53,
   "metadata": {},
   "outputs": [
    {
     "name": "stdout",
     "output_type": "stream",
     "text": [
      "ALL METRICS\n",
      "                  0         1         2\n",
      "THRESHOLD      0.75       0.8      0.85\n",
      "accuracy   0.792089  0.634719  0.427992\n",
      "recall     0.944833   0.67394  0.348909\n",
      "tnr        0.090737  0.454631  0.791115\n",
      "fpr        0.909263  0.545369  0.208885\n",
      "precision  0.826729  0.850169  0.884656\n",
      "f1_score   0.881844  0.751866  0.500443\n"
     ]
    }
   ],
   "source": [
    "print( 'ALL METRICS' )\n",
    "print( results.T )"
   ]
  },
  {
   "cell_type": "markdown",
   "metadata": {},
   "source": [
    "### What is the AUC - ROC Curve?\n",
    "AUC - ROC curve is a performance measurement for the classification problems at various threshold settings. ROC is a probability curve and AUC represents the degree or measure of separability. It tells how much the model is capable of distinguishing between classes. Higher the AUC, the better the model is at predicting 0 classes as 0 and 1 classes as 1. By analogy, the Higher the AUC, the better the model is at distinguishing between patients with the disease and no disease. The ROC curve is plotted with TPR against the FPR where TPR is on the y-axis and FPR is on the x-axis."
   ]
  },
  {
   "cell_type": "markdown",
   "metadata": {},
   "source": [
    "![caption](./pic/chapter-4-1_pic_8.png)"
   ]
  },
  {
   "cell_type": "markdown",
   "metadata": {},
   "source": [
    "In the context of classification tasks, some sklearn estimators also implement the predict_proba method that returns the class probabilities for each data point. The method accepts a single argument that corresponds to the data over which the probabilities will be computed and returns an array of lists containing the class probabilities for the input data points."
   ]
  },
  {
   "cell_type": "code",
   "execution_count": 59,
   "metadata": {},
   "outputs": [],
   "source": [
    "lr_prob=lgstc_reg.predict_proba(X_test)\n",
    "lr_prob=lr_prob[:, 1]"
   ]
  },
  {
   "cell_type": "code",
   "execution_count": 85,
   "metadata": {},
   "outputs": [
    {
     "data": {
      "image/png": "[encoded data removed]",
      "text/plain": [
       "<Figure size 432x288 with 1 Axes>"
      ]
     },
     "metadata": {
      "needs_background": "light"
     },
     "output_type": "display_data"
    },
    {
     "name": "stdout",
     "output_type": "stream",
     "text": [
      "AUC Score      :  0.6019668412790937\n",
      "Best Threshold :  0.8147754801447648\n"
     ]
    }
   ],
   "source": [
    "lr_auc=roc_auc_score(y_test, lr_prob)\n",
    "\n",
    "lr_fpr,lr_tpr, thresholds =roc_curve(y_test,lr_prob)\n",
    "\n",
    "# calculate the g-mean for each threshold\n",
    "gmeans = np.sqrt(lr_tpr * (1-lr_fpr))\n",
    "# locate the index of the largest g-mean\n",
    "ix = np.argmax(gmeans)\n",
    "\n",
    "plt.plot([0, 1], [0, 1], color=\"navy\", lw=1, linestyle=\"--\", label='Random Prediction')\n",
    "plt.plot(lr_fpr,lr_tpr , color=\"red\" , label='Logistic Regression')\n",
    "plt.scatter(lr_fpr[ix], lr_tpr[ix], marker='o', color='black', label='Best')\n",
    "\n",
    "plt.xlabel('False Positive Rate')\n",
    "plt.ylabel('True Positive Rate')\n",
    "plt.legend()\n",
    "plt.show()\n",
    "\n",
    "print(\"AUC Score      : \", lr_auc)\n",
    "print(\"Best Threshold : \", thresholds[ix])\n"
   ]
  },
  {
   "cell_type": "markdown",
   "metadata": {},
   "source": [
    "## References"
   ]
  },
  {
   "cell_type": "markdown",
   "metadata": {},
   "source": [
    "John C. Hull, **Machine Learning in Business: An Introduction to the World of Data Science**, Amazon, 2019.\n",
    "\n",
    "Paul Wilmott, **Machine Learning: An Applied Mathematics Introduction**, Panda Ohana Publishing, 2019."
   ]
  }
 ],
 "metadata": {
  "kernelspec": {
   "display_name": "Python 3",
   "language": "python",
   "name": "python3"
  },
  "language_info": {
   "codemirror_mode": {
    "name": "ipython",
    "version": 3
   },
   "file_extension": ".py",
   "mimetype": "text/x-python",
   "name": "python",
   "nbconvert_exporter": "python",
   "pygments_lexer": "ipython3",
   "version": "3.7.4"
  },
  "toc": {
   "base_numbering": "6",
   "nav_menu": {},
   "number_sections": true,
   "sideBar": true,
   "skip_h1_title": false,
   "title_cell": "Table of Contents",
   "title_sidebar": "Contents",
   "toc_cell": false,
   "toc_position": {
    "height": "calc(100% - 180px)",
    "left": "10px",
    "top": "150px",
    "width": "331px"
   },
   "toc_section_display": true,
   "toc_window_display": false
  }
 },
 "nbformat": 4,
 "nbformat_minor": 4
}

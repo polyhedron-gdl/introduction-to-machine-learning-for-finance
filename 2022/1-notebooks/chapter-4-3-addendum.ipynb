{
 "cells": [
  {
   "cell_type": "markdown",
   "id": "57cbbbfb",
   "metadata": {},
   "source": [
    "## Non Linear Classification"
   ]
  },
  {
   "cell_type": "markdown",
   "id": "6cfacc12",
   "metadata": {},
   "source": [
    "Another reason why SVMs enjoy high popularity among machine learning\n",
    "practitioners is that they can be easily kernelized to solve nonlinear classification\n",
    "problems. Before we discuss the main concept behind the so-called kernel SVM,\n",
    "the most common variant of SVMs, let's first create a synthetic dataset to see what\n",
    "such a nonlinear classification problem may look like. Using the following code, we will create a simple dataset that has the form of an XOR gate using the logical_or function from NumPy, where 100 examples will\n",
    "be assigned the class label 1, and 100 examples will be assigned the class label -1:"
   ]
  },
  {
   "cell_type": "code",
   "execution_count": 2,
   "id": "9bc2df39",
   "metadata": {},
   "outputs": [
    {
     "data": {
      "image/png": "[encoded data removed]",
      "text/plain": [
       "<Figure size 432x288 with 1 Axes>"
      ]
     },
     "metadata": {
      "needs_background": "light"
     },
     "output_type": "display_data"
    }
   ],
   "source": [
    "import matplotlib.pyplot as plt\n",
    "import numpy as np\n",
    "np.random.seed(1)\n",
    "X_xor = np.random.randn(200, 2)\n",
    "y_xor = np.logical_xor(X_xor[:, 0] > 0,\n",
    "    X_xor[:, 1] > 0)\n",
    "y_xor = np.where(y_xor, 1, -1)\n",
    "plt.scatter(X_xor[y_xor == 1, 0],\n",
    "    X_xor[y_xor == 1, 1],\n",
    "    c='b', marker='x',\n",
    "    label='1')\n",
    "plt.scatter(X_xor[y_xor == -1, 0],\n",
    "    X_xor[y_xor == -1, 1],\n",
    "    c='r',\n",
    "    marker='s',\n",
    "    label='-1')\n",
    "plt.xlim([-3, 3])\n",
    "plt.ylim([-3, 3])\n",
    "plt.legend(loc='best')\n",
    "plt.tight_layout()\n",
    "plt.show()            "
   ]
  },
  {
   "cell_type": "markdown",
   "id": "f4344051",
   "metadata": {},
   "source": [
    "As we can see we can have data that is not linearly separable but which nonetheless falls neatly into two groups, just not groups that can be divided by a hyperplane. In this case the problem is not linearly separable. We cannot draw a straight line that can classify this data. But, may be that this data can be converted to linearly separable data in higher dimension. Lets add one more dimension and call it z-axis. For the data in Fig. we could go to three dimensions via the transformation\n",
    "\n",
    "$$(x_1, x_2) \\rightarrow (x_1, x_2, x_1^2 + x_2^2)$$\n",
    "\n",
    "This allows us to separate the two classes shown in the plot via a linear hyperplane\n",
    "that becomes a nonlinear decision boundary if we project it back onto the original\n",
    "feature space."
   ]
  },
  {
   "cell_type": "markdown",
   "id": "97bb02ee",
   "metadata": {},
   "source": [
    "![image.png](./pic/chapter-4-3_pic_3.png)"
   ]
  },
  {
   "cell_type": "markdown",
   "id": "24883560",
   "metadata": {},
   "source": [
    "### Kernel Trick\n",
    "\n",
    "**TO BE FINISHED**"
   ]
  },
  {
   "cell_type": "markdown",
   "id": "ccd05a10",
   "metadata": {},
   "source": [
    "Thanks to the dual formulation in (-) we can see that finding the $\\alpha$s depends only on the products ${\\mathbf{x}^{(i)}}^T \\mathbf{x}^{(j)}$, and it's easy to observe that also the classification of new data depends on the product ${\\mathbf{x}^{(i)}}^T \\mathbf{u}$. \n",
    "\n",
    "If we use $\\Phi(\\mathbf{x})$ to denote a transformation of the sample points (into higher dimensions) then the above observation show us that all we need to know for training and for classifying in the higher dimensional space are\n",
    "\n",
    "$$\\Phi\\left({\\mathbf{x}^{(i)}}\\right)^T \\Phi \\left(\\mathbf{x}^{(j)}\\right)$$\n",
    "\n",
    "and \n",
    "\n",
    "$$\\Phi \\left( {\\mathbf{x}^{(i)}}\\right)^T \\Phi \\bigl( \\mathbf{u} \\bigr) $$\n",
    "\n",
    "for our transformed data. \n",
    "\n",
    "...\n"
   ]
  },
  {
   "cell_type": "code",
   "execution_count": 13,
   "id": "3361de59",
   "metadata": {},
   "outputs": [],
   "source": [
    "from matplotlib.colors import ListedColormap\n",
    "\n",
    "def plot_decision_regions(X, y, classifier, test_idx=None, resolution=0.02):\n",
    "    # setup marker generator and color map\n",
    "    markers = ('s', 'x', 'o', '^', 'v')\n",
    "    colors = ('red', 'blue', 'lightgreen', 'gray', 'cyan')\n",
    "    cmap = ListedColormap(colors[:len(np.unique(y))])\n",
    "    # plot the decision surface\n",
    "    x1_min, x1_max = X[:, 0].min() - 1, X[:, 0].max() + 1\n",
    "    x2_min, x2_max = X[:, 1].min() - 1, X[:, 1].max() + 1\n",
    "    xx1, xx2 = np.meshgrid(np.arange(x1_min, x1_max, resolution),np.arange(x2_min, x2_max, resolution))\n",
    "    Z = classifier.predict(np.array([xx1.ravel(), xx2.ravel()]).T)\n",
    "    Z = Z.reshape(xx1.shape)\n",
    "    plt.contourf(xx1, xx2, Z, alpha=0.3, cmap=cmap)\n",
    "    plt.xlim(xx1.min(), xx1.max())\n",
    "    plt.ylim(xx2.min(), xx2.max())\n",
    "    for idx, cl in enumerate(np.unique(y)):\n",
    "        plt.scatter(x=X[y == cl, 0], \n",
    "                    y=X[y == cl, 1],\n",
    "                    alpha=0.8, \n",
    "                    c=colors[idx],\n",
    "                    marker=markers[idx], \n",
    "                    label=cl, \n",
    "                    edgecolor='black')\n",
    "        \n",
    "   # highlight test examples\n",
    "    if test_idx:\n",
    "        # plot all examples\n",
    "        X_test, y_test = X[test_idx, :], y[test_idx]\n",
    "        plt.scatter(X_test[:, 0], \n",
    "                    X_test[:, 1],\n",
    "                    c='', \n",
    "                    edgecolor='black', \n",
    "                    alpha=1.0,\n",
    "                    linewidth=1, \n",
    "                    marker='o',\n",
    "                    s=100, \n",
    "                    label='test set')     "
   ]
  },
  {
   "cell_type": "code",
   "execution_count": 14,
   "id": "3639a87d",
   "metadata": {},
   "outputs": [
    {
     "data": {
      "image/png": "[encoded data removed]",
      "text/plain": [
       "<Figure size 432x288 with 1 Axes>"
      ]
     },
     "metadata": {
      "needs_background": "light"
     },
     "output_type": "display_data"
    }
   ],
   "source": [
    "from sklearn.svm import SVC\n",
    "\n",
    "svm = SVC(kernel='rbf', random_state=1, gamma=0.10, C=10.0)\n",
    "svm.fit(X_xor, y_xor)\n",
    "plot_decision_regions(X_xor, y_xor, classifier=svm)\n",
    "plt.legend(loc='upper left')\n",
    "plt.tight_layout()\n",
    "plt.show()"
   ]
  },
  {
   "cell_type": "code",
   "execution_count": null,
   "id": "24ec3a72",
   "metadata": {},
   "outputs": [],
   "source": []
  }
 ],
 "metadata": {
  "kernelspec": {
   "display_name": "Python 3",
   "language": "python",
   "name": "python3"
  },
  "language_info": {
   "codemirror_mode": {
    "name": "ipython",
    "version": 3
   },
   "file_extension": ".py",
   "mimetype": "text/x-python",
   "name": "python",
   "nbconvert_exporter": "python",
   "pygments_lexer": "ipython3",
   "version": "3.7.4"
  },
  "toc": {
   "base_numbering": 1,
   "nav_menu": {},
   "number_sections": true,
   "sideBar": true,
   "skip_h1_title": false,
   "title_cell": "Table of Contents",
   "title_sidebar": "Contents",
   "toc_cell": false,
   "toc_position": {},
   "toc_section_display": true,
   "toc_window_display": false
  }
 },
 "nbformat": 4,
 "nbformat_minor": 5
}

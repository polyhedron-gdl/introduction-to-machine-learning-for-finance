{
 "cells": [
  {
   "cell_type": "markdown",
   "id": "cd76dd6f",
   "metadata": {
    "toc": true
   },
   "source": [
    "<h1>Table of Contents<span class=\"tocSkip\"></span></h1>\n",
    "<div class=\"toc\"><ul class=\"toc-item\"><li><span><a href=\"#Introduction-to-Machine-Learning\" data-toc-modified-id=\"Introduction-to-Machine-Learning-0\"><span class=\"toc-item-num\">0&nbsp;&nbsp;</span>Introduction to Machine Learning</a></span><ul class=\"toc-item\"><li><span><a href=\"#What?\" data-toc-modified-id=\"What?-0.1\"><span class=\"toc-item-num\">0.1&nbsp;&nbsp;</span>What?</a></span><ul class=\"toc-item\"><li><span><a href=\"#Machine-Learning\" data-toc-modified-id=\"Machine-Learning-0.1.1\"><span class=\"toc-item-num\">0.1.1&nbsp;&nbsp;</span>Machine Learning</a></span></li></ul></li><li><span><a href=\"#How?\" data-toc-modified-id=\"How?-0.2\"><span class=\"toc-item-num\">0.2&nbsp;&nbsp;</span>How?</a></span><ul class=\"toc-item\"><li><span><a href=\"#Learning-Tools\" data-toc-modified-id=\"Learning-Tools-0.2.1\"><span class=\"toc-item-num\">0.2.1&nbsp;&nbsp;</span>Learning Tools</a></span></li><li><span><a href=\"#Google-Colab\" data-toc-modified-id=\"Google-Colab-0.2.2\"><span class=\"toc-item-num\">0.2.2&nbsp;&nbsp;</span>Google Colab</a></span><ul class=\"toc-item\"><li><span><a href=\"#How-Upload-a-File-on-Google-Colab\" data-toc-modified-id=\"How-Upload-a-File-on-Google-Colab-0.2.2.1\"><span class=\"toc-item-num\">0.2.2.1&nbsp;&nbsp;</span>How Upload a File on Google Colab</a></span></li><li><span><a href=\"#How-Download-a-File-on-Google-Colab\" data-toc-modified-id=\"How-Download-a-File-on-Google-Colab-0.2.2.2\"><span class=\"toc-item-num\">0.2.2.2&nbsp;&nbsp;</span>How Download a File on Google Colab</a></span></li></ul></li></ul></li><li><span><a href=\"#Textbooks-Reference\" data-toc-modified-id=\"Textbooks-Reference-0.3\"><span class=\"toc-item-num\">0.3&nbsp;&nbsp;</span>Textbooks Reference</a></span></li><li><span><a href=\"#End-Notes\" data-toc-modified-id=\"End-Notes-0.4\"><span class=\"toc-item-num\">0.4&nbsp;&nbsp;</span>End Notes</a></span></li></ul></li></ul></div>"
   ]
  },
  {
   "cell_type": "markdown",
   "id": "f0a4a19c",
   "metadata": {},
   "source": [
    "<table align=\"left\">\n",
    "  <td>\n",
    "    <a target=\"_blank\" href=\"https://colab.research.google.com/github/qf-workshop-2021/introduction-to-machine-learning/blob/main/1_notebooks/introduction-to-machine-learning.ipynb\">\n",
    "        <img src=\"https://www.tensorflow.org/images/colab_logo_32px.png\" />Run in Google Colab</a>\n",
    "  </td>\n",
    "</table>"
   ]
  },
  {
   "cell_type": "markdown",
   "id": "38fa69f7",
   "metadata": {},
   "source": [
    "\n",
    "# Introduction to Machine Learning \n",
    "\n",
    "**with Applications in Banking and Finance**\n",
    "\n",
    "<!--\n",
    "<div class=\"alert alert-block alert-success\">\n",
    "    <h2> Why? </h2>\n",
    "    <br>The purpose and the rationale for the subject covered in the seminar</br>\n",
    "</div>\n",
    "-->\n",
    "\n",
    "## What? "
   ]
  },
  {
   "cell_type": "markdown",
   "id": "ffdde5d2",
   "metadata": {},
   "source": [
    "### Machine Learning\n",
    "\n",
    "Machine learning is an artificial intelligence (AI) technology which provides systems with the ability to automatically learn from experience without the need for explicit programming, and can help solve complex problems. It is seen as a part of artificial intelligence. Machine learning algorithms build a model based on sample data, known as \"training data\", in order to make predictions or decisions without being explicitly programmed to do so. Machine learning algorithms are used in a wide variety of applications, such as in medicine, email filtering, speech recognition, and computer vision, where it is difficult or unfeasible to develop conventional algorithms to perform the needed tasks."
   ]
  },
  {
   "cell_type": "markdown",
   "id": "07fe74c5",
   "metadata": {},
   "source": [
    "<!--\n",
    "<div class=\"alert alert-block alert-danger\">\n",
    "    <h2> How? </h2>\n",
    "    <br>The types of major learning activities featured in the course and the learning tools we are going to use</br>\n",
    "</div>\n",
    "-->\n",
    "\n",
    "## How?"
   ]
  },
  {
   "cell_type": "markdown",
   "id": "ff526c7a",
   "metadata": {},
   "source": [
    "### Learning Tools"
   ]
  },
  {
   "cell_type": "markdown",
   "id": "4cf9bbb1",
   "metadata": {},
   "source": [
    "**Python 3.X**\n",
    "\n",
    "We have chosen to use the Python 3.X programming language. Python is in some way similar to MATLAB, but contains a lot of modern software engineering tools that have become standard in the software industry and that should be adopted also for numerical computing projects. Python is at present also experiencing an exponential growth in popularity within the scientific computing community. \n",
    "\n",
    "To set up your python environment, you’ll first need to have a python on your machine. There are various python distributions available and we have chosen one that works very well for data science: **Anaconda**. Anaconda comes with its own Python distribution which will be installed along with it. \n",
    "\n",
    "Data Science often requires you to work with a lot of scientific packages like scipy and numpy, data manipulation packages like pandas and IDEs and interactive Jupyter Notebook.Now, you don’t need to worry about any python package most of them come pre-installed and if you want to install a new package, you can do that simply by using conda or pip. \n",
    "\n",
    "To download an Anaconda distribution, you can use the [official download page](https://www.anaconda.com/download/) and\n",
    "you can select your platform and then choose the installer. For this, you can choose which version you want and whether 32-bit or 64-bit."
   ]
  },
  {
   "cell_type": "markdown",
   "id": "60f66db2",
   "metadata": {},
   "source": [
    "<!--\n",
    "<div>\n",
    "<img src=\"./img/anaconda_2.png\" width=\"600\"/>\n",
    "</div>\n",
    "-->\n",
    "![pic](./anaconda_2.png)"
   ]
  },
  {
   "cell_type": "markdown",
   "id": "933d5a18",
   "metadata": {},
   "source": [
    "To test your installation, on Windows, click on Start and then Anaconda Navigator in the program list (or search for Anaconda in the search bar and select Anaconda Navigator). On a Mac, open up the finder, and in the Applications folder, double click on Anaconda-Navigator."
   ]
  },
  {
   "cell_type": "markdown",
   "id": "88c6b8ac",
   "metadata": {},
   "source": [
    "<!--\n",
    "<div>\n",
    "<img src=\"./img/anaconda_3.png\" width=\"500\"/>\n",
    "</div>\n",
    "-->\n",
    "![pic](./anaconda_3.png)"
   ]
  },
  {
   "cell_type": "markdown",
   "id": "0241e4fa",
   "metadata": {},
   "source": [
    "**Package Managers**\n",
    "\n",
    "Anaconda will give you two package managers- pip and conda. When some packages aren’t available with conda, you can use pip to install them. Note that using pip to install packages also available to conda may cause an installation error."
   ]
  },
  {
   "cell_type": "markdown",
   "id": "190c6846",
   "metadata": {},
   "source": [
    "**Jupyter Notebook**\n",
    "\n",
    "A notebook is a document like this one! A notebook integrates code and its output into a single document that combines visualizations, narrative text, mathematical equations, and other rich media.\n",
    "\n",
    "In other words: it's a single document where you can run code, display the output, and also add explanations, formulas, charts, and make your work more transparent, understandable, repeatable, and shareable. As part of the open source Project Jupyter, Jupyter Notebooks are completely free. You can download the software on its own, or as part of the Anaconda data science toolkit."
   ]
  },
  {
   "cell_type": "markdown",
   "id": "76f3aed6",
   "metadata": {},
   "source": [
    "**Data Files**\n",
    "\n",
    "**INSERIRE UNA DESCRIZIONE PRECISA DEI FILE DI DATI CHE VERRANNO UTILIZZATI DOVE RECUPERARLI E DOVE TENERLI**"
   ]
  },
  {
   "cell_type": "markdown",
   "id": "01e57509",
   "metadata": {},
   "source": [
    "### Google Colab"
   ]
  },
  {
   "cell_type": "markdown",
   "id": "dc2df05e",
   "metadata": {},
   "source": [
    "Although it is not essential to work in a colab environment (all the course notebooks are in fact designed to be able to run without problems locally on your pc), it is useful to know some basic elements of the interaction with colab. In particular, in the cells below you will find two examples for the use of external files. In the first case it is shown how to load a text file from your local PC into the google virtual machine. The second example relates to the opposite operation: let's create a simple pandas dataframe into the colab environment and export it in csv format to the local machine."
   ]
  },
  {
   "cell_type": "markdown",
   "id": "8d1ac6fd",
   "metadata": {},
   "source": [
    "#### How Upload a File on Google Colab"
   ]
  },
  {
   "cell_type": "code",
   "execution_count": null,
   "id": "44063904",
   "metadata": {},
   "outputs": [],
   "source": [
    "if 'google.colab' in str(get_ipython()):\n",
    "    from google.colab import files\n",
    "    uploaded = files.upload()\n",
    "    path = ''\n",
    "else:\n",
    "    path = './data/'"
   ]
  },
  {
   "cell_type": "code",
   "execution_count": null,
   "id": "f03b7321",
   "metadata": {},
   "outputs": [],
   "source": [
    "with open(path + \"carroll-alice.txt\", \"r\") as f:\n",
    "    alice = f.read()\n",
    "    \n",
    "alice[:392]    "
   ]
  },
  {
   "cell_type": "markdown",
   "id": "2965c2e7",
   "metadata": {},
   "source": [
    "#### How Download a File on Google Colab"
   ]
  },
  {
   "cell_type": "code",
   "execution_count": null,
   "id": "15d56553",
   "metadata": {},
   "outputs": [],
   "source": [
    "import pandas as pd\n",
    "\n",
    "cars = {'Brand': ['Honda Civic','Toyota Corolla','Ford Focus','Audi A4'],\n",
    "        'Price': [22000,25000,27000,35000]\n",
    "        }\n",
    "\n",
    "df = pd.DataFrame(cars, columns= ['Brand', 'Price'])"
   ]
  },
  {
   "cell_type": "code",
   "execution_count": null,
   "id": "a2d6ca22",
   "metadata": {},
   "outputs": [],
   "source": [
    "if 'google.colab' in str(get_ipython()):\n",
    "    # if we run in google environment first we save in virtual machine...\n",
    "    df.to_csv ('export_dataframe.csv', index = False, header=True)\n",
    "    # ...then we download to local machine\n",
    "    from google.colab import files\n",
    "    files.download(\"export_dataframe.csv\")    \n",
    "else:\n",
    "    # if we are working in local we save directly with the usual method\n",
    "    df.to_csv ('./data/export_dataframe.csv', index = False, header=True)"
   ]
  },
  {
   "cell_type": "markdown",
   "id": "67263f5f",
   "metadata": {},
   "source": [
    "## Textbooks Reference\n",
    "\n",
    "These introductory lessons assume a basic level of statistical and mathematical knowledge. No previous knowledge of Machine Learning is assumed. For this reason I have decided to use ... basic texts for the preparation of these lessons that you can consult for further details on the topics we are going to deal with.\n",
    "\n",
    "- John C. Hull, **Machine Learning in Business, An Introduction to the World of Data Science**, Amazon (2019)\n",
    "\n",
    "- Paul Wilmott}, **Machine Learning, An Applied Mathematics Introduction**, Panda Ohana Publishing (2019)"
   ]
  },
  {
   "cell_type": "markdown",
   "id": "f2388aa0",
   "metadata": {},
   "source": [
    "<!--\n",
    "<div class=\"alert alert-block alert-success\">\n",
    "    <h2> End Notes </h2>\n",
    "    <br>So what will I learn from these lessons?</br>\n",
    "</div>\n",
    "-->\n",
    "\n",
    "## End Notes"
   ]
  },
  {
   "cell_type": "markdown",
   "id": "822150b9",
   "metadata": {},
   "source": [
    "\n",
    "\n",
    "So let's start ...."
   ]
  }
 ],
 "metadata": {
  "kernelspec": {
   "display_name": "Python 3",
   "language": "python",
   "name": "python3"
  },
  "language_info": {
   "codemirror_mode": {
    "name": "ipython",
    "version": 3
   },
   "file_extension": ".py",
   "mimetype": "text/x-python",
   "name": "python",
   "nbconvert_exporter": "python",
   "pygments_lexer": "ipython3",
   "version": "3.7.4"
  },
  "toc": {
   "base_numbering": "0",
   "nav_menu": {},
   "number_sections": true,
   "sideBar": true,
   "skip_h1_title": false,
   "title_cell": "Table of Contents",
   "title_sidebar": "Contents",
   "toc_cell": true,
   "toc_position": {
    "height": "calc(100% - 180px)",
    "left": "10px",
    "top": "150px",
    "width": "256px"
   },
   "toc_section_display": true,
   "toc_window_display": false
  }
 },
 "nbformat": 4,
 "nbformat_minor": 5
}

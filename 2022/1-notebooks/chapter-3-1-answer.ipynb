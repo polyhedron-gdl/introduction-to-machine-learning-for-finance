{
 "cells": [
  {
   "cell_type": "markdown",
   "id": "62953040",
   "metadata": {},
   "source": [
    "# Exercise"
   ]
  },
  {
   "cell_type": "markdown",
   "id": "62a541f6",
   "metadata": {},
   "source": [
    "In the csv file you will find a list of 277 positions extracted from a managed portfolio. For each position, the annual performance recorded up to the cutoff date is reported. \n",
    "\n",
    "It is required to analyze the performance distribution by identifying the number of clusters present with the kmeans method and discuss the following results:\n",
    "\n",
    " - Exploratory data analysis \n",
    " - Initial choice of a number of clusters and their identification using the kmeans method \n",
    " - Graphic representation of the distributions obtained with indication of the centroids \n",
    " - Extraction of the performance values of the individual clusters and analysis of the frequency distribution (histogram) \n",
    " - Analysis of the choice of the number of clusters using the elbow and silhouette method"
   ]
  },
  {
   "cell_type": "markdown",
   "id": "3fbdc31f",
   "metadata": {},
   "source": [
    "# Solution"
   ]
  },
  {
   "cell_type": "code",
   "execution_count": 13,
   "id": "ca29bd6b",
   "metadata": {},
   "outputs": [],
   "source": [
    "import pandas as pd\n",
    "import numpy  as np\n",
    "import matplotlib.pyplot as plt "
   ]
  },
  {
   "cell_type": "markdown",
   "id": "a1bb3e15",
   "metadata": {},
   "source": [
    "Load data into a pandas dataframe"
   ]
  },
  {
   "cell_type": "code",
   "execution_count": 14,
   "id": "66f2f2df",
   "metadata": {},
   "outputs": [],
   "source": [
    "path = './data'"
   ]
  },
  {
   "cell_type": "code",
   "execution_count": 15,
   "id": "d5774a3b",
   "metadata": {},
   "outputs": [],
   "source": [
    "data = pd.read_csv(path + '/assignment.csv', sep = ';') "
   ]
  },
  {
   "cell_type": "code",
   "execution_count": 16,
   "id": "378ac994",
   "metadata": {},
   "outputs": [
    {
     "data": {
      "text/html": [
       "<div>\n",
       "<style scoped>\n",
       "    .dataframe tbody tr th:only-of-type {\n",
       "        vertical-align: middle;\n",
       "    }\n",
       "\n",
       "    .dataframe tbody tr th {\n",
       "        vertical-align: top;\n",
       "    }\n",
       "\n",
       "    .dataframe thead th {\n",
       "        text-align: right;\n",
       "    }\n",
       "</style>\n",
       "<table border=\"1\" class=\"dataframe\">\n",
       "  <thead>\n",
       "    <tr style=\"text-align: right;\">\n",
       "      <th></th>\n",
       "      <th>dossier</th>\n",
       "      <th>performance</th>\n",
       "    </tr>\n",
       "  </thead>\n",
       "  <tbody>\n",
       "    <tr>\n",
       "      <th>0</th>\n",
       "      <td>1</td>\n",
       "      <td>2.88099</td>\n",
       "    </tr>\n",
       "    <tr>\n",
       "      <th>1</th>\n",
       "      <td>2</td>\n",
       "      <td>2.85309</td>\n",
       "    </tr>\n",
       "    <tr>\n",
       "      <th>2</th>\n",
       "      <td>3</td>\n",
       "      <td>2.96310</td>\n",
       "    </tr>\n",
       "    <tr>\n",
       "      <th>3</th>\n",
       "      <td>4</td>\n",
       "      <td>2.88473</td>\n",
       "    </tr>\n",
       "    <tr>\n",
       "      <th>4</th>\n",
       "      <td>5</td>\n",
       "      <td>2.86781</td>\n",
       "    </tr>\n",
       "  </tbody>\n",
       "</table>\n",
       "</div>"
      ],
      "text/plain": [
       "   dossier  performance\n",
       "0        1      2.88099\n",
       "1        2      2.85309\n",
       "2        3      2.96310\n",
       "3        4      2.88473\n",
       "4        5      2.86781"
      ]
     },
     "execution_count": 16,
     "metadata": {},
     "output_type": "execute_result"
    }
   ],
   "source": [
    "data.head()"
   ]
  },
  {
   "cell_type": "markdown",
   "id": "c9360e7e",
   "metadata": {},
   "source": [
    "Make a simple exploratory analysis ..."
   ]
  },
  {
   "cell_type": "code",
   "execution_count": 17,
   "id": "6abc6e36",
   "metadata": {},
   "outputs": [],
   "source": [
    "n = len(data['dossier'])\n",
    "X = np.empty([n, 2])\n",
    "\n",
    "X[:, 0] = data['dossier']\n",
    "X[:, 1] = data['performance']"
   ]
  },
  {
   "cell_type": "code",
   "execution_count": 18,
   "id": "d64936c7",
   "metadata": {},
   "outputs": [
    {
     "data": {
      "image/png": "[encoded data removed]",
      "text/plain": [
       "<Figure size 432x288 with 1 Axes>"
      ]
     },
     "metadata": {
      "needs_background": "light"
     },
     "output_type": "display_data"
    }
   ],
   "source": [
    "plt.scatter(X[ : , 0], X[ :, 1], s = 10, c = 'b')\n",
    "plt.grid()\n",
    "plt.show()"
   ]
  },
  {
   "cell_type": "markdown",
   "id": "7a9425b3",
   "metadata": {},
   "source": [
    "Choose the number of cluster"
   ]
  },
  {
   "cell_type": "code",
   "execution_count": 8,
   "id": "f1274b3e",
   "metadata": {},
   "outputs": [],
   "source": [
    "nCluster = 2"
   ]
  },
  {
   "cell_type": "code",
   "execution_count": 9,
   "id": "212a0757",
   "metadata": {},
   "outputs": [
    {
     "data": {
      "text/plain": [
       "KMeans(n_clusters=2)"
      ]
     },
     "execution_count": 9,
     "metadata": {},
     "output_type": "execute_result"
    }
   ],
   "source": [
    "from sklearn.cluster import KMeans\n",
    "Kmean = KMeans(n_clusters = nCluster)\n",
    "Kmean.fit(X)"
   ]
  },
  {
   "cell_type": "code",
   "execution_count": 10,
   "id": "54e869be",
   "metadata": {},
   "outputs": [
    {
     "data": {
      "text/plain": [
       "array([[ 69.5       ,   1.74587101],\n",
       "       [208.        ,  -1.08354748]])"
      ]
     },
     "execution_count": 10,
     "metadata": {},
     "output_type": "execute_result"
    }
   ],
   "source": [
    "Kmean.cluster_centers_"
   ]
  },
  {
   "cell_type": "code",
   "execution_count": 11,
   "id": "bb3296f8",
   "metadata": {},
   "outputs": [],
   "source": [
    "XC = np.empty(nCluster)\n",
    "YC = np.empty(nCluster)\n",
    "\n",
    "for k in range(nCluster):\n",
    "    XC[k] =Kmean.cluster_centers_[k][0]\n",
    "    YC[k] =Kmean.cluster_centers_[k][1]"
   ]
  },
  {
   "cell_type": "code",
   "execution_count": 12,
   "id": "90c73a3b",
   "metadata": {},
   "outputs": [
    {
     "data": {
      "image/png": "[encoded data removed]",
      "text/plain": [
       "<Figure size 432x288 with 1 Axes>"
      ]
     },
     "metadata": {
      "needs_background": "light"
     },
     "output_type": "display_data"
    }
   ],
   "source": [
    "plt.scatter(X[ : , 0], X[ : , 1], s =10, c='b')\n",
    "for k in range(nCluster):\n",
    "    plt.scatter(XC[k], YC[k], s=100, c='r', marker='s')\n",
    "\n",
    "plt.grid()\n",
    "plt.show()"
   ]
  },
  {
   "cell_type": "markdown",
   "id": "a9a7cbc1",
   "metadata": {},
   "source": [
    "Now extract the different cluster and plot the frequency distribution"
   ]
  },
  {
   "cell_type": "code",
   "execution_count": 46,
   "id": "923d969e",
   "metadata": {},
   "outputs": [],
   "source": [
    "cluster_map = pd.DataFrame()\n",
    "cluster_map['performance'] = X[:,1]\n",
    "cluster_map['cluster'] = Kmean.labels_"
   ]
  },
  {
   "cell_type": "code",
   "execution_count": 47,
   "id": "d80adc42",
   "metadata": {},
   "outputs": [
    {
     "data": {
      "text/plain": [
       "(139,)"
      ]
     },
     "execution_count": 47,
     "metadata": {},
     "output_type": "execute_result"
    }
   ],
   "source": [
    "y1 = cluster_map[cluster_map.cluster == 0]['performance']\n",
    "y1.shape"
   ]
  },
  {
   "cell_type": "code",
   "execution_count": 48,
   "id": "7e923fae",
   "metadata": {},
   "outputs": [
    {
     "data": {
      "image/png": "[encoded data removed]",
      "text/plain": [
       "<Figure size 432x288 with 1 Axes>"
      ]
     },
     "metadata": {
      "needs_background": "light"
     },
     "output_type": "display_data"
    }
   ],
   "source": [
    "plt.hist(y1, bins=50)\n",
    "plt.gca().set(title='Frequency Histogram', ylabel='Frequency');"
   ]
  },
  {
   "cell_type": "code",
   "execution_count": 49,
   "id": "b0abb5f4",
   "metadata": {},
   "outputs": [
    {
     "data": {
      "text/plain": [
       "(138,)"
      ]
     },
     "execution_count": 49,
     "metadata": {},
     "output_type": "execute_result"
    }
   ],
   "source": [
    "y2 = cluster_map[cluster_map.cluster == 1]['performance']\n",
    "y2.shape"
   ]
  },
  {
   "cell_type": "code",
   "execution_count": 50,
   "id": "79418a89",
   "metadata": {},
   "outputs": [
    {
     "data": {
      "image/png": "[encoded data removed]",
      "text/plain": [
       "<Figure size 432x288 with 1 Axes>"
      ]
     },
     "metadata": {
      "needs_background": "light"
     },
     "output_type": "display_data"
    }
   ],
   "source": [
    "plt.hist(y2, bins=50)\n",
    "plt.gca().set(title='Frequency Histogram', ylabel='Frequency');"
   ]
  },
  {
   "cell_type": "code",
   "execution_count": 51,
   "id": "d3869f03",
   "metadata": {},
   "outputs": [
    {
     "data": {
      "image/png": "[encoded data removed]",
      "text/plain": [
       "<Figure size 432x288 with 1 Axes>"
      ]
     },
     "metadata": {
      "needs_background": "light"
     },
     "output_type": "display_data"
    }
   ],
   "source": [
    "bins = np.linspace(-5, 5, 100)\n",
    "\n",
    "plt.hist(y1, bins, alpha=0.5, label='cluster 0')\n",
    "plt.hist(y2, bins, alpha=0.5, label='cluster 1')\n",
    "plt.legend(loc='upper right')\n",
    "plt.show()"
   ]
  },
  {
   "cell_type": "markdown",
   "id": "516d0305",
   "metadata": {},
   "source": [
    "## Determining the number of clusters"
   ]
  },
  {
   "cell_type": "markdown",
   "id": "36ed5377",
   "metadata": {},
   "source": [
    "### The Elbow Method"
   ]
  },
  {
   "cell_type": "code",
   "execution_count": 33,
   "id": "5b1c373d",
   "metadata": {},
   "outputs": [
    {
     "data": {
      "image/png": "[encoded data removed]",
      "text/plain": [
       "<Figure size 432x288 with 1 Axes>"
      ]
     },
     "metadata": {
      "needs_background": "light"
     },
     "output_type": "display_data"
    }
   ],
   "source": [
    "Ks = range(1, 10)\n",
    "inertia = [KMeans(i).fit(X).inertia_ for i in Ks]\n",
    "\n",
    "fig = plt.figure()\n",
    "plt.plot(Ks, inertia, '-bo')\n",
    "plt.xlabel('Number of clusters')\n",
    "plt.ylabel('Inertia (within-cluster sum of squares)')\n",
    "plt.show()"
   ]
  },
  {
   "cell_type": "markdown",
   "id": "ce3870b2",
   "metadata": {},
   "source": [
    "### The Silhouette Analysis"
   ]
  },
  {
   "cell_type": "code",
   "execution_count": 34,
   "id": "9fdac3ea",
   "metadata": {},
   "outputs": [],
   "source": [
    "# Kmeans algorithm from scikit-learn\n",
    "from sklearn.metrics import silhouette_samples, silhouette_score"
   ]
  },
  {
   "cell_type": "code",
   "execution_count": 20,
   "id": "490fe51b",
   "metadata": {},
   "outputs": [],
   "source": [
    "# Silhouette Analysis\n",
    "range_n_clusters = [2,3,4,5,6,7,8,9,10]\n",
    "silhouette       = []\n",
    "for n_clusters in range_n_clusters:\n",
    "    clusterer=KMeans(n_clusters=n_clusters, random_state=0)\n",
    "    cluster_labels=clusterer.fit_predict(X)\n",
    "    silhouette_avg=silhouette_score(X,cluster_labels)\n",
    "    silhouette.append(silhouette_avg)"
   ]
  },
  {
   "cell_type": "code",
   "execution_count": 21,
   "id": "6c235286",
   "metadata": {},
   "outputs": [
    {
     "data": {
      "text/plain": [
       "[<matplotlib.lines.Line2D at 0x277b31b47c8>]"
      ]
     },
     "execution_count": 21,
     "metadata": {},
     "output_type": "execute_result"
    },
    {
     "data": {
      "image/png": "[encoded data removed]",
      "text/plain": [
       "<Figure size 432x288 with 1 Axes>"
      ]
     },
     "metadata": {
      "needs_background": "light"
     },
     "output_type": "display_data"
    }
   ],
   "source": [
    "plt.plot(range_n_clusters, silhouette)"
   ]
  }
 ],
 "metadata": {
  "kernelspec": {
   "display_name": "Python 3",
   "language": "python",
   "name": "python3"
  },
  "language_info": {
   "codemirror_mode": {
    "name": "ipython",
    "version": 3
   },
   "file_extension": ".py",
   "mimetype": "text/x-python",
   "name": "python",
   "nbconvert_exporter": "python",
   "pygments_lexer": "ipython3",
   "version": "3.7.4"
  },
  "toc": {
   "base_numbering": 1,
   "nav_menu": {},
   "number_sections": true,
   "sideBar": true,
   "skip_h1_title": false,
   "title_cell": "Table of Contents",
   "title_sidebar": "Contents",
   "toc_cell": false,
   "toc_position": {},
   "toc_section_display": true,
   "toc_window_display": false
  }
 },
 "nbformat": 4,
 "nbformat_minor": 5
}
